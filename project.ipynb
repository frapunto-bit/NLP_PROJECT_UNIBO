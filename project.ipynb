{
 "cells": [
  {
   "cell_type": "markdown",
   "metadata": {},
   "source": [
    "# NLP Standard Project \n",
    "Emotion Discovery and Reasoning its Flip in Conversation (EDiReF) - SemEval 2024 – Task 10 - Task C – EFR in English conversation:\n",
    "Given a multiparty code-mixed conversation along with emotions for each utterance, the goal is to identify the trigger utterance for each emotionflip in the dialogue"
   ]
  },
  {
   "cell_type": "code",
   "execution_count": 66,
   "metadata": {},
   "outputs": [],
   "source": [
    "import pandas as pd\n",
    "import numpy as np\n",
    "\n",
    "#data visualization\n",
    "import matplotlib.pyplot as plt\n",
    "\n",
    "#modeling\n",
    "from sklearn.model_selection import train_test_split\n",
    "from sklearn.dummy import DummyClassifier\n",
    "from sklearn.utils.class_weight import compute_class_weight\n",
    "from sklearn.utils import class_weight\n",
    "from sklearn.preprocessing import OneHotEncoder\n",
    "\n",
    "import torch\n",
    "\n",
    "#metrics\n",
    "from sklearn.metrics import classification_report"
   ]
  },
  {
   "cell_type": "markdown",
   "metadata": {},
   "source": [
    "## Data Loading"
   ]
  },
  {
   "cell_type": "markdown",
   "metadata": {},
   "source": [
    "Load the JSON in a Pandas Dataframe"
   ]
  },
  {
   "cell_type": "code",
   "execution_count": 23,
   "metadata": {},
   "outputs": [
    {
     "data": {
      "text/plain": [
       "(4000, 5)"
      ]
     },
     "execution_count": 23,
     "metadata": {},
     "output_type": "execute_result"
    }
   ],
   "source": [
    "file_path_train = 'Data/Task C/MELD_train_efr.json'\n",
    "\n",
    "df_train = pd.read_json(file_path_train)\n",
    "\n",
    "df_train.shape"
   ]
  },
  {
   "cell_type": "code",
   "execution_count": 24,
   "metadata": {},
   "outputs": [
    {
     "data": {
      "text/html": [
       "<div>\n",
       "<style scoped>\n",
       "    .dataframe tbody tr th:only-of-type {\n",
       "        vertical-align: middle;\n",
       "    }\n",
       "\n",
       "    .dataframe tbody tr th {\n",
       "        vertical-align: top;\n",
       "    }\n",
       "\n",
       "    .dataframe thead th {\n",
       "        text-align: right;\n",
       "    }\n",
       "</style>\n",
       "<table border=\"1\" class=\"dataframe\">\n",
       "  <thead>\n",
       "    <tr style=\"text-align: right;\">\n",
       "      <th></th>\n",
       "      <th>episode</th>\n",
       "      <th>speakers</th>\n",
       "      <th>emotions</th>\n",
       "      <th>utterances</th>\n",
       "      <th>triggers</th>\n",
       "    </tr>\n",
       "  </thead>\n",
       "  <tbody>\n",
       "    <tr>\n",
       "      <th>0</th>\n",
       "      <td>utterance_0</td>\n",
       "      <td>[Chandler, The Interviewer, Chandler, The Inte...</td>\n",
       "      <td>[neutral, neutral, neutral, neutral, surprise]</td>\n",
       "      <td>[also I was the point person on my company's t...</td>\n",
       "      <td>[0.0, 0.0, 0.0, 1.0, 0.0]</td>\n",
       "    </tr>\n",
       "    <tr>\n",
       "      <th>1</th>\n",
       "      <td>utterance_1</td>\n",
       "      <td>[Chandler, The Interviewer, Chandler, The Inte...</td>\n",
       "      <td>[neutral, neutral, neutral, neutral, surprise,...</td>\n",
       "      <td>[also I was the point person on my company's t...</td>\n",
       "      <td>[0.0, 0.0, 0.0, 0.0, 0.0, 1.0, 0.0]</td>\n",
       "    </tr>\n",
       "    <tr>\n",
       "      <th>2</th>\n",
       "      <td>utterance_2</td>\n",
       "      <td>[Chandler, The Interviewer, Chandler, The Inte...</td>\n",
       "      <td>[neutral, neutral, neutral, neutral, surprise,...</td>\n",
       "      <td>[also I was the point person on my company's t...</td>\n",
       "      <td>[0.0, 0.0, 0.0, 0.0, 0.0, 0.0, 0.0, 1.0, 0.0, ...</td>\n",
       "    </tr>\n",
       "    <tr>\n",
       "      <th>3</th>\n",
       "      <td>utterance_3</td>\n",
       "      <td>[Chandler, The Interviewer, Chandler, The Inte...</td>\n",
       "      <td>[neutral, neutral, neutral, neutral, surprise,...</td>\n",
       "      <td>[also I was the point person on my company's t...</td>\n",
       "      <td>[0.0, 0.0, 0.0, 0.0, 0.0, 0.0, 0.0, 0.0, 0.0, ...</td>\n",
       "    </tr>\n",
       "    <tr>\n",
       "      <th>4</th>\n",
       "      <td>utterance_4</td>\n",
       "      <td>[Joey, Rachel, Joey, Rachel]</td>\n",
       "      <td>[surprise, sadness, surprise, fear]</td>\n",
       "      <td>[But then who? The waitress I went out with la...</td>\n",
       "      <td>[0.0, 0.0, 1.0, 0.0]</td>\n",
       "    </tr>\n",
       "  </tbody>\n",
       "</table>\n",
       "</div>"
      ],
      "text/plain": [
       "       episode                                           speakers  \\\n",
       "0  utterance_0  [Chandler, The Interviewer, Chandler, The Inte...   \n",
       "1  utterance_1  [Chandler, The Interviewer, Chandler, The Inte...   \n",
       "2  utterance_2  [Chandler, The Interviewer, Chandler, The Inte...   \n",
       "3  utterance_3  [Chandler, The Interviewer, Chandler, The Inte...   \n",
       "4  utterance_4                       [Joey, Rachel, Joey, Rachel]   \n",
       "\n",
       "                                            emotions  \\\n",
       "0     [neutral, neutral, neutral, neutral, surprise]   \n",
       "1  [neutral, neutral, neutral, neutral, surprise,...   \n",
       "2  [neutral, neutral, neutral, neutral, surprise,...   \n",
       "3  [neutral, neutral, neutral, neutral, surprise,...   \n",
       "4                [surprise, sadness, surprise, fear]   \n",
       "\n",
       "                                          utterances  \\\n",
       "0  [also I was the point person on my company's t...   \n",
       "1  [also I was the point person on my company's t...   \n",
       "2  [also I was the point person on my company's t...   \n",
       "3  [also I was the point person on my company's t...   \n",
       "4  [But then who? The waitress I went out with la...   \n",
       "\n",
       "                                            triggers  \n",
       "0                          [0.0, 0.0, 0.0, 1.0, 0.0]  \n",
       "1                [0.0, 0.0, 0.0, 0.0, 0.0, 1.0, 0.0]  \n",
       "2  [0.0, 0.0, 0.0, 0.0, 0.0, 0.0, 0.0, 1.0, 0.0, ...  \n",
       "3  [0.0, 0.0, 0.0, 0.0, 0.0, 0.0, 0.0, 0.0, 0.0, ...  \n",
       "4                               [0.0, 0.0, 1.0, 0.0]  "
      ]
     },
     "execution_count": 24,
     "metadata": {},
     "output_type": "execute_result"
    }
   ],
   "source": [
    "df_train.head()"
   ]
  },
  {
   "cell_type": "markdown",
   "metadata": {},
   "source": [
    "Drop episode column since it is only an index and it is not useful for the task"
   ]
  },
  {
   "cell_type": "code",
   "execution_count": 25,
   "metadata": {},
   "outputs": [
    {
     "name": "stdout",
     "output_type": "stream",
     "text": [
      "Dataframe shape after dropping column: (4000, 4)\n"
     ]
    },
    {
     "data": {
      "text/html": [
       "<div>\n",
       "<style scoped>\n",
       "    .dataframe tbody tr th:only-of-type {\n",
       "        vertical-align: middle;\n",
       "    }\n",
       "\n",
       "    .dataframe tbody tr th {\n",
       "        vertical-align: top;\n",
       "    }\n",
       "\n",
       "    .dataframe thead th {\n",
       "        text-align: right;\n",
       "    }\n",
       "</style>\n",
       "<table border=\"1\" class=\"dataframe\">\n",
       "  <thead>\n",
       "    <tr style=\"text-align: right;\">\n",
       "      <th></th>\n",
       "      <th>speakers</th>\n",
       "      <th>emotions</th>\n",
       "      <th>utterances</th>\n",
       "      <th>triggers</th>\n",
       "    </tr>\n",
       "  </thead>\n",
       "  <tbody>\n",
       "    <tr>\n",
       "      <th>0</th>\n",
       "      <td>[Chandler, The Interviewer, Chandler, The Inte...</td>\n",
       "      <td>[neutral, neutral, neutral, neutral, surprise]</td>\n",
       "      <td>[also I was the point person on my company's t...</td>\n",
       "      <td>[0.0, 0.0, 0.0, 1.0, 0.0]</td>\n",
       "    </tr>\n",
       "    <tr>\n",
       "      <th>1</th>\n",
       "      <td>[Chandler, The Interviewer, Chandler, The Inte...</td>\n",
       "      <td>[neutral, neutral, neutral, neutral, surprise,...</td>\n",
       "      <td>[also I was the point person on my company's t...</td>\n",
       "      <td>[0.0, 0.0, 0.0, 0.0, 0.0, 1.0, 0.0]</td>\n",
       "    </tr>\n",
       "    <tr>\n",
       "      <th>2</th>\n",
       "      <td>[Chandler, The Interviewer, Chandler, The Inte...</td>\n",
       "      <td>[neutral, neutral, neutral, neutral, surprise,...</td>\n",
       "      <td>[also I was the point person on my company's t...</td>\n",
       "      <td>[0.0, 0.0, 0.0, 0.0, 0.0, 0.0, 0.0, 1.0, 0.0, ...</td>\n",
       "    </tr>\n",
       "    <tr>\n",
       "      <th>3</th>\n",
       "      <td>[Chandler, The Interviewer, Chandler, The Inte...</td>\n",
       "      <td>[neutral, neutral, neutral, neutral, surprise,...</td>\n",
       "      <td>[also I was the point person on my company's t...</td>\n",
       "      <td>[0.0, 0.0, 0.0, 0.0, 0.0, 0.0, 0.0, 0.0, 0.0, ...</td>\n",
       "    </tr>\n",
       "    <tr>\n",
       "      <th>4</th>\n",
       "      <td>[Joey, Rachel, Joey, Rachel]</td>\n",
       "      <td>[surprise, sadness, surprise, fear]</td>\n",
       "      <td>[But then who? The waitress I went out with la...</td>\n",
       "      <td>[0.0, 0.0, 1.0, 0.0]</td>\n",
       "    </tr>\n",
       "  </tbody>\n",
       "</table>\n",
       "</div>"
      ],
      "text/plain": [
       "                                            speakers  \\\n",
       "0  [Chandler, The Interviewer, Chandler, The Inte...   \n",
       "1  [Chandler, The Interviewer, Chandler, The Inte...   \n",
       "2  [Chandler, The Interviewer, Chandler, The Inte...   \n",
       "3  [Chandler, The Interviewer, Chandler, The Inte...   \n",
       "4                       [Joey, Rachel, Joey, Rachel]   \n",
       "\n",
       "                                            emotions  \\\n",
       "0     [neutral, neutral, neutral, neutral, surprise]   \n",
       "1  [neutral, neutral, neutral, neutral, surprise,...   \n",
       "2  [neutral, neutral, neutral, neutral, surprise,...   \n",
       "3  [neutral, neutral, neutral, neutral, surprise,...   \n",
       "4                [surprise, sadness, surprise, fear]   \n",
       "\n",
       "                                          utterances  \\\n",
       "0  [also I was the point person on my company's t...   \n",
       "1  [also I was the point person on my company's t...   \n",
       "2  [also I was the point person on my company's t...   \n",
       "3  [also I was the point person on my company's t...   \n",
       "4  [But then who? The waitress I went out with la...   \n",
       "\n",
       "                                            triggers  \n",
       "0                          [0.0, 0.0, 0.0, 1.0, 0.0]  \n",
       "1                [0.0, 0.0, 0.0, 0.0, 0.0, 1.0, 0.0]  \n",
       "2  [0.0, 0.0, 0.0, 0.0, 0.0, 0.0, 0.0, 1.0, 0.0, ...  \n",
       "3  [0.0, 0.0, 0.0, 0.0, 0.0, 0.0, 0.0, 0.0, 0.0, ...  \n",
       "4                               [0.0, 0.0, 1.0, 0.0]  "
      ]
     },
     "execution_count": 25,
     "metadata": {},
     "output_type": "execute_result"
    }
   ],
   "source": [
    "df = df_train.drop(columns=['episode'])\n",
    "print(f\"Dataframe shape after dropping column: {df.shape}\")\n",
    "df.head()"
   ]
  },
  {
   "cell_type": "markdown",
   "metadata": {},
   "source": [
    "## Preprocessing"
   ]
  },
  {
   "cell_type": "markdown",
   "metadata": {},
   "source": [
    "### NaN values\n",
    "Some trigger labels are not correctly formatted and appear as NaN -> we convert them to zero to avoid errors."
   ]
  },
  {
   "cell_type": "code",
   "execution_count": 26,
   "metadata": {},
   "outputs": [
    {
     "name": "stdout",
     "output_type": "stream",
     "text": [
      "Number of NaN values: 9\n"
     ]
    }
   ],
   "source": [
    "count = sum(elem != 1 and elem != 0 for row in df[\"triggers\"] for elem in row)\n",
    "print(f\"Number of NaN values: {count}\")"
   ]
  },
  {
   "cell_type": "code",
   "execution_count": 27,
   "metadata": {},
   "outputs": [],
   "source": [
    "df[\"triggers\"] = df[\"triggers\"].apply(lambda x: [0 if elem != 1 and elem != 0 else elem for elem in x])"
   ]
  },
  {
   "cell_type": "code",
   "execution_count": 28,
   "metadata": {},
   "outputs": [
    {
     "name": "stdout",
     "output_type": "stream",
     "text": [
      "Number of NaN values: 0\n"
     ]
    }
   ],
   "source": [
    "count = sum(elem != 1 and elem != 0 for row in df[\"triggers\"] for elem in row)\n",
    "print(f\"Number of NaN values: {count}\")"
   ]
  },
  {
   "cell_type": "markdown",
   "metadata": {},
   "source": [
    "### Split data \n",
    "80/10/10 train/val/test split"
   ]
  },
  {
   "cell_type": "code",
   "execution_count": 29,
   "metadata": {},
   "outputs": [
    {
     "name": "stdout",
     "output_type": "stream",
     "text": [
      "Train shape: (3200, 4)\n",
      "Test shape: (400, 4)\n",
      "Val shape: (400, 4)\n"
     ]
    }
   ],
   "source": [
    "df_train, temp = train_test_split(df, test_size=0.2, shuffle=False)\n",
    "df_test, df_val = train_test_split(temp, test_size=0.5, shuffle=False)\n",
    "\n",
    "print(f\"Train shape: {df_train.shape}\")\n",
    "print(f\"Test shape: {df_test.shape}\")\n",
    "print(f\"Val shape: {df_val.shape}\")"
   ]
  },
  {
   "cell_type": "code",
   "execution_count": 130,
   "metadata": {},
   "outputs": [
    {
     "name": "stdout",
     "output_type": "stream",
     "text": [
      "Dialogue in the last row of df_train: [\"Dr. Geller, there's a seat over here.\", \"Thank you, Dr. Phillips, but I'm having my lunch at this table, here in the middle.\", \"I'm having lunch right here, with my good friend Joey, if he'll sit with me.\", 'I will sit with you Dr. Geller.', \"Y'know, we work in a museum of natural history, and yet there is something unnatural about the way we eat lunch.\", \"Now, I look around this cafeteria, and y'know what I see, I see-I see division.\", 'Division, between people in white coats and people in blue blazers, and I ask myself, \"My God why?!\"', 'Now, I say we shed these-these coats that separate us, and we get to know the people underneath.']\n"
     ]
    }
   ],
   "source": [
    "print(f\"Dialogue in the last row of df_train: {df_train['utterances'][3199]}\")"
   ]
  },
  {
   "cell_type": "code",
   "execution_count": null,
   "metadata": {},
   "outputs": [
    {
     "name": "stdout",
     "output_type": "stream",
     "text": [
      "Dialogue in the first row of df_test: [\"Dr. Geller, there's a seat over here.\", \"Thank you, Dr. Phillips, but I'm having my lunch at this table, here in the middle.\", \"I'm having lunch right here, with my good friend Joey, if he'll sit with me.\", 'I will sit with you Dr. Geller.', \"Y'know, we work in a museum of natural history, and yet there is something unnatural about the way we eat lunch.\", \"Now, I look around this cafeteria, and y'know what I see, I see-I see division.\", 'Division, between people in white coats and people in blue blazers, and I ask myself, \"My God why?!\"', 'Now, I say we shed these-these coats that separate us, and we get to know the people underneath.', \"I'm Ross!\"]\n"
     ]
    }
   ],
   "source": [
    "print(f\"Dialogue in the first row of df_test: {df_test['utterances'][3200]}\")"
   ]
  },
  {
   "cell_type": "code",
   "execution_count": null,
   "metadata": {},
   "outputs": [
    {
     "name": "stdout",
     "output_type": "stream",
     "text": [
      "il discorso continua fino all'utterance numero 3205\n",
      "Dialogue: [\"Dr. Geller, there's a seat over here.\", \"Thank you, Dr. Phillips, but I'm having my lunch at this table, here in the middle.\", \"I'm having lunch right here, with my good friend Joey, if he'll sit with me.\", 'I will sit with you Dr. Geller.', \"Y'know, we work in a museum of natural history, and yet there is something unnatural about the way we eat lunch.\", \"Now, I look around this cafeteria, and y'know what I see, I see-I see division.\", 'Division, between people in white coats and people in blue blazers, and I ask myself, \"My God why?!\"', 'Now, I say we shed these-these coats that separate us, and we get to know the people underneath.', \"I'm Ross!\", \"I'm divorced, and I have a kid!\", \"I'm Joey! I'm an actor! I don't know squat about dinosaurs!\", \"I'm Ted, and I just moved here a month ago, and New York really scares me.\", 'All right, there you go!', 'Yeah, you hang in there Teddy!', \"I'm Andrew, and I didn't pay for this pear.\", 'Okay, good-good for you.', \"I'm Rhonda,  and these aren't real!\", 'Wow, Rhonda.', \"I'm Scott.\", 'Yeah, okay, Scott!', 'And I need to flip the light switch on and off 17 times before I leave a room or my family will die.']\n"
     ]
    }
   ],
   "source": [
    "print(f\"Il discorso continua fino all'utterance numero 3205\")\n",
    "print(f\"Dialogue: {df_test['utterances'][3205]}\")"
   ]
  },
  {
   "cell_type": "code",
   "execution_count": null,
   "metadata": {},
   "outputs": [
    {
     "name": "stdout",
     "output_type": "stream",
     "text": [
      "Dialogue in the last row of df_test: ['Oh, that is so unfortunate.', 'What?', 'Cute naked guy is really starting to put on weight.', \"Okay, I'll be back in just a minute. Oh, Phoebe I'm sorry that I left lipstick marks on the phone.\", \"You didn't leave lipstick marks on the phone.\", \"Oh, then it must've been you. Bye.\", \"Bye-bye!  That's why I moved out.\", \"Hey, y'know while we're on that, when are you gonna tell my sister that you don't live here anymore.\", 'I think on some levels she already knows.']\n"
     ]
    }
   ],
   "source": [
    "print(f\"Dialogue in the last row of df_test: {df_test['utterances'][3599]}\")"
   ]
  },
  {
   "cell_type": "code",
   "execution_count": null,
   "metadata": {},
   "outputs": [
    {
     "name": "stdout",
     "output_type": "stream",
     "text": [
      "Dialogue in the first row of df_val: ['Night Mon. Night Julio.', 'Adiós.', 'Look Julio, someone left their book here.', 'Ah actually, that is mine.', 'Oh yeah, what are you reading?']\n"
     ]
    }
   ],
   "source": [
    "print(f\"Dialogue in the first row of df_val: {df_val['utterances'][3600]}\")"
   ]
  },
  {
   "cell_type": "markdown",
   "metadata": {},
   "source": [
    "Effettivamente pare che il discorso venga splittato in due tra train e test però il prof specifica nelle raccomandazioni: \"Given the dataset format, this property should be trivially guaranteed.\" \n",
    "\n",
    "Dal forum: \"According to the instructions, you are free to perform data splitting as you prefer and motivate your decision accordingly.\n",
    "In other words, there is no explicit penalization for data splitting.\n",
    "Note that this doesn't mean that potential issues/consequences are evaluated equally.\n",
    "Think about what you would do in a real-world scenario.\n",
    "To sum up, we evaluate your understanding of the problem and your corresponding actions.\""
   ]
  },
  {
   "cell_type": "code",
   "execution_count": 30,
   "metadata": {},
   "outputs": [
    {
     "name": "stdout",
     "output_type": "stream",
     "text": [
      "Train shape: (3205, 4)\n",
      "Test shape: (397, 4)\n",
      "Val shape: (398, 4)\n"
     ]
    }
   ],
   "source": [
    "df_train = df.iloc[:3205,:]\n",
    "temp = df.iloc[3205:,:]\n",
    "\n",
    "df_test, df_val = train_test_split(temp, test_size=0.5, shuffle=False)\n",
    "\n",
    "print(f\"Train shape: {df_train.shape}\")\n",
    "print(f\"Test shape: {df_test.shape}\")\n",
    "print(f\"Val shape: {df_val.shape}\")"
   ]
  },
  {
   "cell_type": "code",
   "execution_count": 136,
   "metadata": {},
   "outputs": [
    {
     "name": "stdout",
     "output_type": "stream",
     "text": [
      "Dialouge in the last row of df_test: ['Night Mon. Night Julio.', 'Adiós.', 'Look Julio, someone left their book here.', 'Ah actually, that is mine.', 'Oh yeah, what are you reading?', 'Flowers of Evil, by Beaudalire. Have you read it?', 'Have I read it?  No, are you enjoying it?', \"I thought I would, but the translation's no good.\", \"Your a poet and don't know it.\", 'Actually I ah, I am a poet.', 'Oh, then you do know it.  So um what kind of things do you write about?', 'Things that move me. The, the shadow of a tree, a child laughing, or this lip.', 'Mine?  Right here?', 'I can write an epic poem about this lip.']\n"
     ]
    }
   ],
   "source": [
    "print(f\"Dialouge in the last row of df_test: {df_test['utterances'][3601]}\")"
   ]
  },
  {
   "cell_type": "code",
   "execution_count": 137,
   "metadata": {},
   "outputs": [
    {
     "name": "stdout",
     "output_type": "stream",
     "text": [
      "Dialouge in the first row of df_val: ['Night Mon. Night Julio.', 'Adiós.', 'Look Julio, someone left their book here.', 'Ah actually, that is mine.', 'Oh yeah, what are you reading?', 'Flowers of Evil, by Beaudalire. Have you read it?', 'Have I read it?  No, are you enjoying it?', \"I thought I would, but the translation's no good.\", \"Your a poet and don't know it.\", 'Actually I ah, I am a poet.', 'Oh, then you do know it.  So um what kind of things do you write about?', 'Things that move me. The, the shadow of a tree, a child laughing, or this lip.', 'Mine?  Right here?', 'I can write an epic poem about this lip.', \"How would that go?  Well, it didn't rhyme, but I liked it.\"]\n"
     ]
    }
   ],
   "source": [
    "print(f\"Dialouge in the first row of df_val: {df_val['utterances'][3602]}\")"
   ]
  },
  {
   "cell_type": "markdown",
   "metadata": {},
   "source": [
    "Ancora un dialogo splittato tra test e val"
   ]
  },
  {
   "cell_type": "code",
   "execution_count": 31,
   "metadata": {},
   "outputs": [],
   "source": [
    "df_train = df.iloc[:3205,:]\n",
    "df_test = df.iloc[3205:3603,:]\n",
    "df_val = df.iloc[3603:,:]"
   ]
  },
  {
   "cell_type": "code",
   "execution_count": 140,
   "metadata": {},
   "outputs": [
    {
     "name": "stdout",
     "output_type": "stream",
     "text": [
      "Dialouge in the last row of df_test: ['Night Mon. Night Julio.', 'Adiós.', 'Look Julio, someone left their book here.', 'Ah actually, that is mine.', 'Oh yeah, what are you reading?', 'Flowers of Evil, by Beaudalire. Have you read it?', 'Have I read it?  No, are you enjoying it?', \"I thought I would, but the translation's no good.\", \"Your a poet and don't know it.\", 'Actually I ah, I am a poet.', 'Oh, then you do know it.  So um what kind of things do you write about?', 'Things that move me. The, the shadow of a tree, a child laughing, or this lip.', 'Mine?  Right here?', 'I can write an epic poem about this lip.', \"How would that go?  Well, it didn't rhyme, but I liked it.\"]\n"
     ]
    }
   ],
   "source": [
    "print(f\"Dialouge in the last row of df_test: {df_test['utterances'][3602]}\")"
   ]
  },
  {
   "cell_type": "code",
   "execution_count": 141,
   "metadata": {},
   "outputs": [
    {
     "name": "stdout",
     "output_type": "stream",
     "text": [
      "Dialouge in the first row of df_val: ['Last stop, Montreal. This stop is Montreal.', 'What?', 'I made a bet with myself that you have beautiful eyes. Now that I see them, I win.', 'What?', \"We're at my stop. But would you like to have coffee?\", 'Are we really in Montreal?!', 'Yes we are. So, coffee?', 'Coffee sounds great.  Wait, so, so you live in Montreal?']\n"
     ]
    }
   ],
   "source": [
    "print(f\"Dialouge in the first row of df_val: {df_val['utterances'][3603]}\")"
   ]
  },
  {
   "cell_type": "markdown",
   "metadata": {},
   "source": [
    "Questa dovrebbe essere la shape dei dataset"
   ]
  },
  {
   "cell_type": "code",
   "execution_count": 32,
   "metadata": {},
   "outputs": [
    {
     "name": "stdout",
     "output_type": "stream",
     "text": [
      "Train shape: (3205, 4)\n",
      "Test shape: (398, 4)\n",
      "Val shape: (397, 4)\n"
     ]
    }
   ],
   "source": [
    "print(f\"Train shape: {df_train.shape}\")\n",
    "print(f\"Test shape: {df_test.shape}\")\n",
    "print(f\"Val shape: {df_val.shape}\")"
   ]
  },
  {
   "cell_type": "markdown",
   "metadata": {},
   "source": [
    "### Split every sentence in the dfs"
   ]
  },
  {
   "cell_type": "code",
   "execution_count": 58,
   "metadata": {},
   "outputs": [],
   "source": [
    "def split_utterances(df):\n",
    "    speakers_list = []\n",
    "    utterances_list = []\n",
    "    emotions_list = []\n",
    "    trigger_list = []\n",
    "\n",
    "    #Itera su ogni riga del dataframe originale\n",
    "    for index, row in df.iterrows():\n",
    "        speakers = row['speakers']\n",
    "        utterances = row['utterances']\n",
    "        emotions = row['emotions']\n",
    "        triggers = row['triggers']\n",
    "        \n",
    "        # Itera su ogni frase nell'array 'utterances'\n",
    "        for i in range(len(utterances)):\n",
    "            speakers_list.append(speakers[i])\n",
    "            utterances_list.append(utterances[i])\n",
    "            emotions_list.append(emotions[i])\n",
    "            trigger_list.append(triggers[i])\n",
    "    \n",
    "    # Crea un nuovo dataframe dalle liste\n",
    "    new_df = pd.DataFrame({\n",
    "        'speaker': speakers_list,\n",
    "        'utterance': utterances_list,\n",
    "        'emotion': emotions_list,\n",
    "        'trigger': trigger_list\n",
    "    })\n",
    "\n",
    "    return new_df"
   ]
  },
  {
   "cell_type": "code",
   "execution_count": 69,
   "metadata": {},
   "outputs": [
    {
     "data": {
      "text/html": [
       "<div>\n",
       "<style scoped>\n",
       "    .dataframe tbody tr th:only-of-type {\n",
       "        vertical-align: middle;\n",
       "    }\n",
       "\n",
       "    .dataframe tbody tr th {\n",
       "        vertical-align: top;\n",
       "    }\n",
       "\n",
       "    .dataframe thead th {\n",
       "        text-align: right;\n",
       "    }\n",
       "</style>\n",
       "<table border=\"1\" class=\"dataframe\">\n",
       "  <thead>\n",
       "    <tr style=\"text-align: right;\">\n",
       "      <th></th>\n",
       "      <th>speaker</th>\n",
       "      <th>utterance</th>\n",
       "      <th>emotion</th>\n",
       "      <th>trigger</th>\n",
       "    </tr>\n",
       "  </thead>\n",
       "  <tbody>\n",
       "    <tr>\n",
       "      <th>0</th>\n",
       "      <td>Chandler</td>\n",
       "      <td>also I was the point person on my company's tr...</td>\n",
       "      <td>neutral</td>\n",
       "      <td>0.0</td>\n",
       "    </tr>\n",
       "    <tr>\n",
       "      <th>1</th>\n",
       "      <td>The Interviewer</td>\n",
       "      <td>You must've had your hands full.</td>\n",
       "      <td>neutral</td>\n",
       "      <td>0.0</td>\n",
       "    </tr>\n",
       "    <tr>\n",
       "      <th>2</th>\n",
       "      <td>Chandler</td>\n",
       "      <td>That I did. That I did.</td>\n",
       "      <td>neutral</td>\n",
       "      <td>0.0</td>\n",
       "    </tr>\n",
       "    <tr>\n",
       "      <th>3</th>\n",
       "      <td>The Interviewer</td>\n",
       "      <td>So let's talk a little bit about your duties.</td>\n",
       "      <td>neutral</td>\n",
       "      <td>1.0</td>\n",
       "    </tr>\n",
       "    <tr>\n",
       "      <th>4</th>\n",
       "      <td>Chandler</td>\n",
       "      <td>My duties?  All right.</td>\n",
       "      <td>surprise</td>\n",
       "      <td>0.0</td>\n",
       "    </tr>\n",
       "    <tr>\n",
       "      <th>5</th>\n",
       "      <td>Chandler</td>\n",
       "      <td>also I was the point person on my company's tr...</td>\n",
       "      <td>neutral</td>\n",
       "      <td>0.0</td>\n",
       "    </tr>\n",
       "    <tr>\n",
       "      <th>6</th>\n",
       "      <td>The Interviewer</td>\n",
       "      <td>You must've had your hands full.</td>\n",
       "      <td>neutral</td>\n",
       "      <td>0.0</td>\n",
       "    </tr>\n",
       "    <tr>\n",
       "      <th>7</th>\n",
       "      <td>Chandler</td>\n",
       "      <td>That I did. That I did.</td>\n",
       "      <td>neutral</td>\n",
       "      <td>0.0</td>\n",
       "    </tr>\n",
       "    <tr>\n",
       "      <th>8</th>\n",
       "      <td>The Interviewer</td>\n",
       "      <td>So let's talk a little bit about your duties.</td>\n",
       "      <td>neutral</td>\n",
       "      <td>0.0</td>\n",
       "    </tr>\n",
       "    <tr>\n",
       "      <th>9</th>\n",
       "      <td>Chandler</td>\n",
       "      <td>My duties?  All right.</td>\n",
       "      <td>surprise</td>\n",
       "      <td>0.0</td>\n",
       "    </tr>\n",
       "    <tr>\n",
       "      <th>10</th>\n",
       "      <td>The Interviewer</td>\n",
       "      <td>Now you'll be heading a whole division, so you...</td>\n",
       "      <td>neutral</td>\n",
       "      <td>1.0</td>\n",
       "    </tr>\n",
       "    <tr>\n",
       "      <th>11</th>\n",
       "      <td>Chandler</td>\n",
       "      <td>I see.</td>\n",
       "      <td>neutral</td>\n",
       "      <td>0.0</td>\n",
       "    </tr>\n",
       "    <tr>\n",
       "      <th>12</th>\n",
       "      <td>Chandler</td>\n",
       "      <td>also I was the point person on my company's tr...</td>\n",
       "      <td>neutral</td>\n",
       "      <td>0.0</td>\n",
       "    </tr>\n",
       "    <tr>\n",
       "      <th>13</th>\n",
       "      <td>The Interviewer</td>\n",
       "      <td>You must've had your hands full.</td>\n",
       "      <td>neutral</td>\n",
       "      <td>0.0</td>\n",
       "    </tr>\n",
       "    <tr>\n",
       "      <th>14</th>\n",
       "      <td>Chandler</td>\n",
       "      <td>That I did. That I did.</td>\n",
       "      <td>neutral</td>\n",
       "      <td>0.0</td>\n",
       "    </tr>\n",
       "  </tbody>\n",
       "</table>\n",
       "</div>"
      ],
      "text/plain": [
       "            speaker                                          utterance  \\\n",
       "0          Chandler  also I was the point person on my company's tr...   \n",
       "1   The Interviewer                   You must've had your hands full.   \n",
       "2          Chandler                            That I did. That I did.   \n",
       "3   The Interviewer      So let's talk a little bit about your duties.   \n",
       "4          Chandler                             My duties?  All right.   \n",
       "5          Chandler  also I was the point person on my company's tr...   \n",
       "6   The Interviewer                   You must've had your hands full.   \n",
       "7          Chandler                            That I did. That I did.   \n",
       "8   The Interviewer      So let's talk a little bit about your duties.   \n",
       "9          Chandler                             My duties?  All right.   \n",
       "10  The Interviewer  Now you'll be heading a whole division, so you...   \n",
       "11         Chandler                                             I see.   \n",
       "12         Chandler  also I was the point person on my company's tr...   \n",
       "13  The Interviewer                   You must've had your hands full.   \n",
       "14         Chandler                            That I did. That I did.   \n",
       "\n",
       "     emotion  trigger  \n",
       "0    neutral      0.0  \n",
       "1    neutral      0.0  \n",
       "2    neutral      0.0  \n",
       "3    neutral      1.0  \n",
       "4   surprise      0.0  \n",
       "5    neutral      0.0  \n",
       "6    neutral      0.0  \n",
       "7    neutral      0.0  \n",
       "8    neutral      0.0  \n",
       "9   surprise      0.0  \n",
       "10   neutral      1.0  \n",
       "11   neutral      0.0  \n",
       "12   neutral      0.0  \n",
       "13   neutral      0.0  \n",
       "14   neutral      0.0  "
      ]
     },
     "execution_count": 69,
     "metadata": {},
     "output_type": "execute_result"
    }
   ],
   "source": [
    "df_train_s = split_utterances(df_train)\n",
    "df_train_s.head(15)"
   ]
  },
  {
   "cell_type": "code",
   "execution_count": 57,
   "metadata": {},
   "outputs": [
    {
     "name": "stdout",
     "output_type": "stream",
     "text": [
      "     speaker                                          utterance   emotion  \\\n",
      "52  Chandler                                          Hey, Mon.   neutral   \n",
      "53    Monica  Hey-hey-hey. You wanna hear something that sucks.   neutral   \n",
      "54  Chandler                                         Do I ever.       joy   \n",
      "55  Chandler                                          Hey, Mon.   neutral   \n",
      "56    Monica  Hey-hey-hey. You wanna hear something that sucks.   neutral   \n",
      "57  Chandler                                         Do I ever.       joy   \n",
      "58    Monica           Chris says they're closing down the bar.   sadness   \n",
      "59  Chandler                                          Hey, Mon.   neutral   \n",
      "60    Monica  Hey-hey-hey. You wanna hear something that sucks.   neutral   \n",
      "61  Chandler                                         Do I ever.       joy   \n",
      "62    Monica           Chris says they're closing down the bar.   sadness   \n",
      "63  Chandler                                            No way!  surprise   \n",
      "64  Chandler                                          Hey, Mon.   neutral   \n",
      "65    Monica  Hey-hey-hey. You wanna hear something that sucks.   neutral   \n",
      "66  Chandler                                         Do I ever.       joy   \n",
      "67    Monica           Chris says they're closing down the bar.   sadness   \n",
      "68  Chandler                                            No way!  surprise   \n",
      "\n",
      "    trigger  \n",
      "52      0.0  \n",
      "53      1.0  \n",
      "54      0.0  \n",
      "55      0.0  \n",
      "56      0.0  \n",
      "57      0.0  \n",
      "58      1.0  \n",
      "59      0.0  \n",
      "60      0.0  \n",
      "61      0.0  \n",
      "62      1.0  \n",
      "63      0.0  \n",
      "64      0.0  \n",
      "65      0.0  \n",
      "66      0.0  \n",
      "67      0.0  \n",
      "68      1.0  \n"
     ]
    }
   ],
   "source": [
    "print(df_train_s.iloc[52:69,:])"
   ]
  },
  {
   "cell_type": "markdown",
   "metadata": {},
   "source": [
    "Ho notato che i trigger sono a 1.0 nei vari dialoghi *non* nelle stesse frasi. Ad esempio la stessa frase in un dialogo diverso, ha un trigger diverso. Riga 53 e riga 56 hanno la stessa frase ed emozione ma trigger diverso. Stessa cosa frase 63 e 68. \n",
    "\n",
    "Comincio a pensare che in realtà bisogna passare tutto il df così come lo si legge dal json."
   ]
  },
  {
   "cell_type": "code",
   "execution_count": 76,
   "metadata": {},
   "outputs": [],
   "source": [
    "df_test_s = split_utterances(df_test)\n",
    "\n",
    "df_val_s = split_utterances(df_val)"
   ]
  },
  {
   "cell_type": "markdown",
   "metadata": {},
   "source": [
    "### Data distributions\n",
    "Is the train dataset imbalanced? Verify emotions and triggers"
   ]
  },
  {
   "cell_type": "markdown",
   "metadata": {},
   "source": [
    "#### Emotions distribution"
   ]
  },
  {
   "cell_type": "code",
   "execution_count": 39,
   "metadata": {},
   "outputs": [
    {
     "name": "stdout",
     "output_type": "stream",
     "text": [
      "{'neutral': 12264, 'surprise': 3777, 'fear': 922, 'sadness': 1934, 'joy': 5141, 'disgust': 816, 'anger': 3031}\n"
     ]
    }
   ],
   "source": [
    "emotions_counts = {}\n",
    "for emotions in df_train['emotions']:\n",
    "    for emotion in emotions:\n",
    "        if emotion in emotions_counts:\n",
    "            emotions_counts[emotion] += 1\n",
    "        else:\n",
    "            emotions_counts[emotion] = 1\n",
    "\n",
    "print(emotions_counts)"
   ]
  },
  {
   "cell_type": "code",
   "execution_count": 40,
   "metadata": {},
   "outputs": [
    {
     "data": {
      "image/png": "[encoded data removed]",
      "text/plain": [
       "<Figure size 1000x600 with 1 Axes>"
      ]
     },
     "metadata": {},
     "output_type": "display_data"
    }
   ],
   "source": [
    "emotions = list(emotions_counts.keys())\n",
    "emotion_counts = list(emotions_counts.values())\n",
    "\n",
    "plt.figure(figsize=(10, 6))\n",
    "plt.bar(emotions, emotion_counts, color='violet')\n",
    "plt.xlabel('Emotions')\n",
    "plt.ylabel('Countw')\n",
    "plt.title('Emotions distribution in the training set')\n",
    "plt.xticks(rotation=45)\n",
    "plt.show()"
   ]
  },
  {
   "cell_type": "markdown",
   "metadata": {},
   "source": [
    "### Triggers distribution"
   ]
  },
  {
   "cell_type": "code",
   "execution_count": 67,
   "metadata": {},
   "outputs": [
    {
     "name": "stdout",
     "output_type": "stream",
     "text": [
      "{0.0: 23586, 1.0: 4299}\n"
     ]
    }
   ],
   "source": [
    "triggers_counts= {}\n",
    "for triggers in df_train['triggers']:\n",
    "    for trigger in triggers:\n",
    "        if trigger in triggers_counts:\n",
    "            triggers_counts[trigger] += 1\n",
    "        else:\n",
    "            triggers_counts[trigger] = 1\n",
    "print(triggers_counts)"
   ]
  },
  {
   "cell_type": "code",
   "execution_count": 68,
   "metadata": {},
   "outputs": [
    {
     "data": {
      "image/png": "[encoded data removed]",
      "text/plain": [
       "<Figure size 1000x600 with 1 Axes>"
      ]
     },
     "metadata": {},
     "output_type": "display_data"
    }
   ],
   "source": [
    "trigger = list(triggers_counts.keys())\n",
    "trigger_counts = list(triggers_counts.values())\n",
    "\n",
    "plt.figure(figsize=(10, 6))\n",
    "plt.bar(trigger, trigger_counts, color='skyblue')\n",
    "plt.xlabel('Triggers')\n",
    "plt.ylabel('Counts')\n",
    "plt.title('Triggers Distribution in the training set')\n",
    "plt.xticks(ticks=trigger, labels=['0.0', '1.0'], rotation=45)\n",
    "plt.show()"
   ]
  },
  {
   "cell_type": "markdown",
   "metadata": {},
   "source": [
    "As we can see both emotions and triggers are highly imbalanced, the emotion with the highest count is 'neutral' and the trigger with the highest count is '0.0'. \n",
    "\n",
    "When a class imbalance exists within the training data, machine learning models will typically over-classify the larger classes due to their increased prior probability. As a result, the instances belonging to the smaller class(es) are typically misclassified more often than those belonging to the larger class(es).\n",
    "\n",
    "How to deal with imbalanced data in classification? https://developers.google.com/machine-learning/data-prep/construct/sampling-splitting/imbalanced-data\n",
    "\n",
    "Class weights penso sia la strategia migliore da adottare per questo caso"
   ]
  },
  {
   "cell_type": "code",
   "execution_count": 69,
   "metadata": {},
   "outputs": [
    {
     "name": "stdout",
     "output_type": "stream",
     "text": [
      "Class weights: {'neutral': 0.03733342652129345, 'surprise': 0.12122243655206325, 'fear': 0.4965912612333437, 'sadness': 0.23674102526222485, 'joy': 0.08905993831105677, 'disgust': 0.5610994397759104, 'anger': 0.1510581137766885}\n"
     ]
    }
   ],
   "source": [
    "# Calcola i pesi delle classi\n",
    "total_samples = len(df_train)\n",
    "class_weights = {emotion: total_samples / (len(emotions_counts) * count) for emotion, count in emotions_counts.items()}\n",
    "\n",
    "print(\"Class weights:\", class_weights)"
   ]
  },
  {
   "cell_type": "markdown",
   "metadata": {},
   "source": [
    "Class weights computing using sklearn class_weight='balanced'"
   ]
  },
  {
   "cell_type": "code",
   "execution_count": 77,
   "metadata": {},
   "outputs": [
    {
     "name": "stdout",
     "output_type": "stream",
     "text": [
      "Emotion class weights: {'anger': 1.3142762878823584, 'disgust': 4.881827731092437, 'fear': 4.320576386736907, 'joy': 0.7748631450245922, 'neutral': 0.3248182834777747, 'sadness': 2.059757719013148, 'surprise': 1.0546919323726314}\n"
     ]
    }
   ],
   "source": [
    "all_emotions = [label for sublist in df_train['emotions'] for label in sublist]\n",
    "train_emotions = np.array(all_emotions)\n",
    "unique_emotions = np.unique(all_emotions)\n",
    "\n",
    "#weights\n",
    "emotion_weights = class_weight.compute_class_weight(class_weight='balanced', classes=unique_emotions, y=train_emotions)\n",
    "\n",
    "#save in dictionary\n",
    "emotions_weights_dict = dict(zip(unique_emotions, emotion_weights))\n",
    "\n",
    "print(\"Emotion class weights:\", emotions_weights_dict)"
   ]
  },
  {
   "cell_type": "code",
   "execution_count": 78,
   "metadata": {},
   "outputs": [
    {
     "name": "stdout",
     "output_type": "stream",
     "text": [
      "Trigger class weights: {0.0: 0.5911345713558891, 1.0: 3.243196092114445}\n"
     ]
    }
   ],
   "source": [
    "# Calcolo dei pesi per la colonna 'triggers'\n",
    "all_triggers = [label for sublist in df_train['triggers'] for label in sublist]\n",
    "train_triggers = np.array(all_triggers)\n",
    "unique_triggers = np.unique(all_triggers)\n",
    "\n",
    "trigger_weights = class_weight.compute_class_weight(class_weight='balanced', classes=unique_triggers, y=train_triggers)\n",
    "triggers_weights_dict = dict(zip(unique_triggers, trigger_weights))\n",
    "\n",
    "print(\"Trigger class weights:\", triggers_weights_dict)"
   ]
  },
  {
   "cell_type": "markdown",
   "metadata": {},
   "source": [
    "## Models definition"
   ]
  },
  {
   "cell_type": "markdown",
   "metadata": {},
   "source": [
    "You should train and evaluate a BERT baseline on two different settings:\n",
    "     \n",
    "     - Freezed: we freeze the BERT embedding layer weights and fine-tune the classifier heads on top\n",
    "     - Full: we fine-tune the whole model architecture. \n",
    "     \n",
    "Make sure you set a small enough batch size.  We recommend 1.\n",
    "\n",
    "We recommend `bert-base-uncased`.\n",
    "\n",
    "In addition, you should evaluate a random and a majority classifier for emotions and triggers.\n",
    "You should report a comparison with your selected model(s) and the provided baselines"
   ]
  },
  {
   "cell_type": "markdown",
   "metadata": {},
   "source": [
    "#### Baseline models \n",
    "Defining random and majority dummy classifiers "
   ]
  },
  {
   "cell_type": "code",
   "execution_count": 60,
   "metadata": {},
   "outputs": [],
   "source": [
    "random_emotions = DummyClassifier(strategy='uniform', random_state=42)\n",
    "majority_emotions = DummyClassifier(strategy='most_frequent', random_state=42)\n",
    "\n",
    "random_triggers = DummyClassifier(strategy='uniform', random_state=42)\n",
    "majority_triggers = DummyClassifier(strategy='most_frequent', random_state=42)"
   ]
  },
  {
   "cell_type": "markdown",
   "metadata": {},
   "source": [
    "## Evaluation Metrics"
   ]
  },
  {
   "cell_type": "markdown",
   "metadata": {},
   "source": [
    "## Training and evaluation"
   ]
  },
  {
   "cell_type": "markdown",
   "metadata": {},
   "source": [
    "### Fitting baseline models"
   ]
  },
  {
   "cell_type": "markdown",
   "metadata": {},
   "source": [
    "Comincio a pensare che non è questo il modo di passare i dati al modello, ma forse sarebbe più utile splittare le utterances in un \n",
    "singola frase e avere una struttura: (speaker) frase emotion trigger \n",
    "speaker direi che è opzionale \n",
    "\n",
    "Magari facciamo entrambe e vediamo qual è la performance migliore?\n",
    "\n",
    "Va ancora fatto l'encoding del dataset"
   ]
  },
  {
   "cell_type": "code",
   "execution_count": 78,
   "metadata": {},
   "outputs": [
    {
     "data": {
      "text/html": [
       "<div>\n",
       "<style scoped>\n",
       "    .dataframe tbody tr th:only-of-type {\n",
       "        vertical-align: middle;\n",
       "    }\n",
       "\n",
       "    .dataframe tbody tr th {\n",
       "        vertical-align: top;\n",
       "    }\n",
       "\n",
       "    .dataframe thead th {\n",
       "        text-align: right;\n",
       "    }\n",
       "</style>\n",
       "<table border=\"1\" class=\"dataframe\">\n",
       "  <thead>\n",
       "    <tr style=\"text-align: right;\">\n",
       "      <th></th>\n",
       "      <th>speaker</th>\n",
       "      <th>utterance</th>\n",
       "      <th>emotion</th>\n",
       "      <th>trigger</th>\n",
       "    </tr>\n",
       "  </thead>\n",
       "  <tbody>\n",
       "    <tr>\n",
       "      <th>0</th>\n",
       "      <td>Chandler</td>\n",
       "      <td>also I was the point person on my company's tr...</td>\n",
       "      <td>neutral</td>\n",
       "      <td>0.0</td>\n",
       "    </tr>\n",
       "    <tr>\n",
       "      <th>1</th>\n",
       "      <td>The Interviewer</td>\n",
       "      <td>You must've had your hands full.</td>\n",
       "      <td>neutral</td>\n",
       "      <td>0.0</td>\n",
       "    </tr>\n",
       "    <tr>\n",
       "      <th>2</th>\n",
       "      <td>Chandler</td>\n",
       "      <td>That I did. That I did.</td>\n",
       "      <td>neutral</td>\n",
       "      <td>0.0</td>\n",
       "    </tr>\n",
       "    <tr>\n",
       "      <th>3</th>\n",
       "      <td>The Interviewer</td>\n",
       "      <td>So let's talk a little bit about your duties.</td>\n",
       "      <td>neutral</td>\n",
       "      <td>1.0</td>\n",
       "    </tr>\n",
       "    <tr>\n",
       "      <th>4</th>\n",
       "      <td>Chandler</td>\n",
       "      <td>My duties?  All right.</td>\n",
       "      <td>surprise</td>\n",
       "      <td>0.0</td>\n",
       "    </tr>\n",
       "  </tbody>\n",
       "</table>\n",
       "</div>"
      ],
      "text/plain": [
       "           speaker                                          utterance  \\\n",
       "0         Chandler  also I was the point person on my company's tr...   \n",
       "1  The Interviewer                   You must've had your hands full.   \n",
       "2         Chandler                            That I did. That I did.   \n",
       "3  The Interviewer      So let's talk a little bit about your duties.   \n",
       "4         Chandler                             My duties?  All right.   \n",
       "\n",
       "    emotion  trigger  \n",
       "0   neutral      0.0  \n",
       "1   neutral      0.0  \n",
       "2   neutral      0.0  \n",
       "3   neutral      1.0  \n",
       "4  surprise      0.0  "
      ]
     },
     "execution_count": 78,
     "metadata": {},
     "output_type": "execute_result"
    }
   ],
   "source": [
    "df_train_s.head()"
   ]
  },
  {
   "cell_type": "code",
   "execution_count": 80,
   "metadata": {},
   "outputs": [],
   "source": [
    "X_train = df_train_s.drop(columns=['emotion', 'trigger'])\n",
    "\n",
    "y_train_emotions = df_train_s['emotion']\n",
    "y_train_triggers = df_train_s['trigger']"
   ]
  },
  {
   "cell_type": "code",
   "execution_count": 84,
   "metadata": {},
   "outputs": [],
   "source": [
    "X_test = df_test_s.drop(columns=['emotion', 'trigger'])\n",
    "\n",
    "y_test_emotions = df_test_s['emotion']\n",
    "y_test_triggers = df_test_s['trigger']"
   ]
  },
  {
   "cell_type": "markdown",
   "metadata": {},
   "source": [
    "Encoding\n",
    "\n",
    "ho fatto il OneHot Encoding perchè abbiamo a che fare con variabili categoriali nominali che non hanno quindi un ordine intrinseco."
   ]
  },
  {
   "cell_type": "code",
   "execution_count": 106,
   "metadata": {},
   "outputs": [],
   "source": [
    "oh_encoder = OneHotEncoder()\n",
    "\n",
    "#train\n",
    "X_train_encoded = oh_encoder.fit_transform(X_train).toarray()\n",
    "y_train_emotions_encoded = oh_encoder.fit_transform(y_train_emotions.values.reshape(-1, 1)).toarray()\n",
    "# Get the emotions ordered\n",
    "categories = oh_encoder.categories_[0]\n",
    "emotion_names = ['anger', 'disgust', 'fear', 'joy', 'neutral', 'sadness', 'surprise']\n",
    "\n",
    "y_train_triggers_encoded = oh_encoder.fit_transform(y_train_triggers.values.reshape(-1, 1)).toarray()\n",
    "#get the triggers ordered\n",
    "categories = oh_encoder.categories_[0]\n",
    "trigger_names = ['0.0', '1.0']\n",
    "\n",
    "#test\n",
    "X_test_encoded = oh_encoder.fit_transform(X_test).toarray()\n",
    "y_test_emotions_encoded = oh_encoder.fit_transform(y_test_emotions.values.reshape(-1, 1)).toarray()\n",
    "y_test_triggers_encoded = oh_encoder.fit_transform(y_test_triggers.values.reshape(-1, 1)).toarray()"
   ]
  },
  {
   "cell_type": "code",
   "execution_count": 107,
   "metadata": {},
   "outputs": [
    {
     "data": {
      "text/html": [
       "<style>#sk-container-id-2 {color: black;}#sk-container-id-2 pre{padding: 0;}#sk-container-id-2 div.sk-toggleable {background-color: white;}#sk-container-id-2 label.sk-toggleable__label {cursor: pointer;display: block;width: 100%;margin-bottom: 0;padding: 0.3em;box-sizing: border-box;text-align: center;}#sk-container-id-2 label.sk-toggleable__label-arrow:before {content: \"▸\";float: left;margin-right: 0.25em;color: #696969;}#sk-container-id-2 label.sk-toggleable__label-arrow:hover:before {color: black;}#sk-container-id-2 div.sk-estimator:hover label.sk-toggleable__label-arrow:before {color: black;}#sk-container-id-2 div.sk-toggleable__content {max-height: 0;max-width: 0;overflow: hidden;text-align: left;background-color: #f0f8ff;}#sk-container-id-2 div.sk-toggleable__content pre {margin: 0.2em;color: black;border-radius: 0.25em;background-color: #f0f8ff;}#sk-container-id-2 input.sk-toggleable__control:checked~div.sk-toggleable__content {max-height: 200px;max-width: 100%;overflow: auto;}#sk-container-id-2 input.sk-toggleable__control:checked~label.sk-toggleable__label-arrow:before {content: \"▾\";}#sk-container-id-2 div.sk-estimator input.sk-toggleable__control:checked~label.sk-toggleable__label {background-color: #d4ebff;}#sk-container-id-2 div.sk-label input.sk-toggleable__control:checked~label.sk-toggleable__label {background-color: #d4ebff;}#sk-container-id-2 input.sk-hidden--visually {border: 0;clip: rect(1px 1px 1px 1px);clip: rect(1px, 1px, 1px, 1px);height: 1px;margin: -1px;overflow: hidden;padding: 0;position: absolute;width: 1px;}#sk-container-id-2 div.sk-estimator {font-family: monospace;background-color: #f0f8ff;border: 1px dotted black;border-radius: 0.25em;box-sizing: border-box;margin-bottom: 0.5em;}#sk-container-id-2 div.sk-estimator:hover {background-color: #d4ebff;}#sk-container-id-2 div.sk-parallel-item::after {content: \"\";width: 100%;border-bottom: 1px solid gray;flex-grow: 1;}#sk-container-id-2 div.sk-label:hover label.sk-toggleable__label {background-color: #d4ebff;}#sk-container-id-2 div.sk-serial::before {content: \"\";position: absolute;border-left: 1px solid gray;box-sizing: border-box;top: 0;bottom: 0;left: 50%;z-index: 0;}#sk-container-id-2 div.sk-serial {display: flex;flex-direction: column;align-items: center;background-color: white;padding-right: 0.2em;padding-left: 0.2em;position: relative;}#sk-container-id-2 div.sk-item {position: relative;z-index: 1;}#sk-container-id-2 div.sk-parallel {display: flex;align-items: stretch;justify-content: center;background-color: white;position: relative;}#sk-container-id-2 div.sk-item::before, #sk-container-id-2 div.sk-parallel-item::before {content: \"\";position: absolute;border-left: 1px solid gray;box-sizing: border-box;top: 0;bottom: 0;left: 50%;z-index: -1;}#sk-container-id-2 div.sk-parallel-item {display: flex;flex-direction: column;z-index: 1;position: relative;background-color: white;}#sk-container-id-2 div.sk-parallel-item:first-child::after {align-self: flex-end;width: 50%;}#sk-container-id-2 div.sk-parallel-item:last-child::after {align-self: flex-start;width: 50%;}#sk-container-id-2 div.sk-parallel-item:only-child::after {width: 0;}#sk-container-id-2 div.sk-dashed-wrapped {border: 1px dashed gray;margin: 0 0.4em 0.5em 0.4em;box-sizing: border-box;padding-bottom: 0.4em;background-color: white;}#sk-container-id-2 div.sk-label label {font-family: monospace;font-weight: bold;display: inline-block;line-height: 1.2em;}#sk-container-id-2 div.sk-label-container {text-align: center;}#sk-container-id-2 div.sk-container {/* jupyter's `normalize.less` sets `[hidden] { display: none; }` but bootstrap.min.css set `[hidden] { display: none !important; }` so we also need the `!important` here to be able to override the default hidden behavior on the sphinx rendered scikit-learn.org. See: https://github.com/scikit-learn/scikit-learn/issues/21755 */display: inline-block !important;position: relative;}#sk-container-id-2 div.sk-text-repr-fallback {display: none;}</style><div id=\"sk-container-id-2\" class=\"sk-top-container\"><div class=\"sk-text-repr-fallback\"><pre>DummyClassifier(random_state=42, strategy=&#x27;most_frequent&#x27;)</pre><b>In a Jupyter environment, please rerun this cell to show the HTML representation or trust the notebook. <br />On GitHub, the HTML representation is unable to render, please try loading this page with nbviewer.org.</b></div><div class=\"sk-container\" hidden><div class=\"sk-item\"><div class=\"sk-estimator sk-toggleable\"><input class=\"sk-toggleable__control sk-hidden--visually\" id=\"sk-estimator-id-2\" type=\"checkbox\" checked><label for=\"sk-estimator-id-2\" class=\"sk-toggleable__label sk-toggleable__label-arrow\">DummyClassifier</label><div class=\"sk-toggleable__content\"><pre>DummyClassifier(random_state=42, strategy=&#x27;most_frequent&#x27;)</pre></div></div></div></div></div>"
      ],
      "text/plain": [
       "DummyClassifier(random_state=42, strategy='most_frequent')"
      ]
     },
     "execution_count": 107,
     "metadata": {},
     "output_type": "execute_result"
    }
   ],
   "source": [
    "random_emotions.fit(X_train_encoded, y_train_emotions_encoded)\n",
    "majority_emotions.fit(X_train_encoded, y_train_emotions_encoded)\n",
    "\n",
    "random_triggers.fit(X_train_encoded, y_train_triggers_encoded)\n",
    "majority_triggers.fit(X_train_encoded, y_train_triggers_encoded)"
   ]
  },
  {
   "cell_type": "markdown",
   "metadata": {},
   "source": [
    "### Evaluating baseline models"
   ]
  },
  {
   "cell_type": "code",
   "execution_count": 108,
   "metadata": {},
   "outputs": [],
   "source": [
    "y_pred_random_emotions = random_emotions.predict(X_test_encoded)\n",
    "y_pred_majority_emotions = majority_emotions.predict(X_test_encoded)\n",
    "\n",
    "y_pred_random_triggers = random_triggers.predict(X_test_encoded)\n",
    "y_pred_majority_triggers = majority_triggers.predict(X_test_encoded)"
   ]
  },
  {
   "cell_type": "code",
   "execution_count": 111,
   "metadata": {},
   "outputs": [
    {
     "name": "stdout",
     "output_type": "stream",
     "text": [
      "Classification report for baseline random clf emotions:\n",
      "              precision    recall  f1-score   support\n",
      "\n",
      "       anger       0.12      0.48      0.20       455\n",
      "     disgust       0.03      0.53      0.05        88\n",
      "        fear       0.03      0.48      0.06       121\n",
      "         joy       0.16      0.49      0.24       576\n",
      "     neutral       0.42      0.47      0.44      1505\n",
      "     sadness       0.08      0.43      0.14       349\n",
      "    surprise       0.13      0.53      0.21       439\n",
      "\n",
      "   micro avg       0.14      0.48      0.21      3533\n",
      "   macro avg       0.14      0.49      0.19      3533\n",
      "weighted avg       0.25      0.48      0.30      3533\n",
      " samples avg       0.14      0.48      0.21      3533\n",
      "\n",
      "Classification report for baseline majority clf emotions:\n",
      "              precision    recall  f1-score   support\n",
      "\n",
      "       anger       0.00      0.00      0.00       455\n",
      "     disgust       0.00      0.00      0.00        88\n",
      "        fear       0.00      0.00      0.00       121\n",
      "         joy       0.00      0.00      0.00       576\n",
      "     neutral       0.00      0.00      0.00      1505\n",
      "     sadness       0.00      0.00      0.00       349\n",
      "    surprise       0.00      0.00      0.00       439\n",
      "\n",
      "   micro avg       0.00      0.00      0.00      3533\n",
      "   macro avg       0.00      0.00      0.00      3533\n",
      "weighted avg       0.00      0.00      0.00      3533\n",
      " samples avg       0.00      0.00      0.00      3533\n",
      "\n",
      "Classification report for baseline random clf triggers:\n",
      "              precision    recall  f1-score   support\n",
      "\n",
      "         0.0       0.79      0.50      0.62      2777\n",
      "         1.0       0.21      0.49      0.29       756\n",
      "\n",
      "   micro avg       0.50      0.50      0.50      3533\n",
      "   macro avg       0.50      0.49      0.45      3533\n",
      "weighted avg       0.67      0.50      0.55      3533\n",
      " samples avg       0.37      0.50      0.42      3533\n",
      "\n",
      "Classification report for baseline majority clf triggers:\n",
      "              precision    recall  f1-score   support\n",
      "\n",
      "         0.0       0.79      1.00      0.88      2777\n",
      "         1.0       0.00      0.00      0.00       756\n",
      "\n",
      "   micro avg       0.79      0.79      0.79      3533\n",
      "   macro avg       0.39      0.50      0.44      3533\n",
      "weighted avg       0.62      0.79      0.69      3533\n",
      " samples avg       0.79      0.79      0.79      3533\n",
      "\n"
     ]
    }
   ],
   "source": [
    "#Classification reports \n",
    "\n",
    "#emotions\n",
    "print(\"Classification report for baseline random clf emotions:\")\n",
    "print(classification_report(y_test_emotions_encoded, y_pred_random_emotions, target_names=emotion_names, zero_division=0))\n",
    "\n",
    "print(\"Classification report for baseline majority clf emotions:\")\n",
    "print(classification_report(y_test_emotions_encoded, y_pred_majority_emotions, target_names=emotion_names, zero_division=0))\n",
    "\n",
    "#triggers\n",
    "print(\"Classification report for baseline random clf triggers:\")\n",
    "print(classification_report(y_test_triggers_encoded, y_pred_random_triggers, target_names=trigger_names, zero_division=0))\n",
    "\n",
    "print(\"Classification report for baseline majority clf triggers:\")\n",
    "print(classification_report(y_test_triggers_encoded, y_pred_majority_triggers, target_names=trigger_names, zero_division=0))"
   ]
  },
  {
   "cell_type": "markdown",
   "metadata": {},
   "source": [
    "A quanto pare ci sono campioni senza etichette previste "
   ]
  },
  {
   "cell_type": "code",
   "execution_count": 110,
   "metadata": {},
   "outputs": [
    {
     "name": "stdout",
     "output_type": "stream",
     "text": [
      "Campioni senza etichette previste (random clf emotions): [ 425  455  802  840 1114 1155 1272 1498 1655 1829 1927 1983 2030 2101\n",
      " 2325 2424 2475 2502 2837 3032 3102 3182 3302]\n",
      "Campioni senza etichette previste (majority clf emotions): [   0    1    2 ... 3530 3531 3532]\n",
      "Campioni senza etichette previste (random clf triggers): [   2    3    4    6   11   12   13   15   19   31   37   40   41   47\n",
      "   52   57   58   59   60   61   62   64   67   72   78   80   82   85\n",
      "   99  109  114  116  123  131  133  139  141  145  146  147  153  167\n",
      "  171  172  176  178  179  181  187  188  191  199  200  203  205  209\n",
      "  210  211  212  215  217  219  220  226  229  241  243  244  248  253\n",
      "  254  256  259  260  263  278  283  285  286  287  290  291  301  305\n",
      "  316  318  326  342  344  346  349  355  358  364  365  368  374  379\n",
      "  386  387  388  390  394  399  413  414  415  416  423  425  430  439\n",
      "  440  442  445  448  454  455  458  468  470  478  484  488  492  494\n",
      "  498  501  502  512  525  526  530  532  533  534  537  538  540  542\n",
      "  544  546  549  550  554  562  563  569  571  572  576  592  596  597\n",
      "  605  610  619  626  629  632  643  646  647  649  650  661  664  665\n",
      "  681  682  684  687  704  710  712  716  725  726  727  730  731  732\n",
      "  735  743  746  751  757  765  771  776  781  786  792  795  797  798\n",
      "  799  800  802  810  811  816  819  826  828  830  831  832  834  840\n",
      "  842  843  845  848  852  853  854  855  865  866  868  870  873  879\n",
      "  882  885  886  889  892  893  899  900  903  908  912  921  922  923\n",
      "  924  925  930  935  941  943  945  952  957  959  963  965  966  969\n",
      "  972  973  996 1001 1002 1004 1005 1011 1019 1020 1021 1027 1029 1030\n",
      " 1034 1039 1040 1042 1043 1047 1049 1052 1053 1054 1061 1066 1067 1068\n",
      " 1069 1073 1077 1079 1080 1081 1082 1085 1086 1091 1093 1100 1109 1110\n",
      " 1114 1115 1117 1122 1123 1139 1143 1148 1149 1155 1157 1164 1168 1171\n",
      " 1172 1174 1178 1187 1188 1191 1192 1195 1198 1199 1204 1210 1215 1218\n",
      " 1219 1232 1233 1236 1240 1254 1257 1260 1261 1266 1268 1272 1273 1274\n",
      " 1277 1289 1291 1296 1297 1298 1308 1312 1313 1319 1324 1325 1332 1344\n",
      " 1345 1346 1347 1352 1366 1368 1370 1371 1374 1386 1388 1396 1397 1399\n",
      " 1402 1407 1408 1416 1419 1421 1422 1443 1444 1453 1454 1455 1460 1461\n",
      " 1462 1464 1469 1470 1472 1476 1480 1481 1483 1484 1487 1488 1490 1491\n",
      " 1492 1498 1503 1505 1512 1516 1521 1523 1524 1525 1533 1534 1539 1540\n",
      " 1541 1548 1550 1552 1557 1564 1566 1576 1579 1597 1601 1609 1613 1615\n",
      " 1616 1617 1619 1620 1625 1626 1628 1630 1631 1648 1650 1653 1655 1657\n",
      " 1661 1668 1673 1674 1675 1676 1684 1685 1693 1697 1698 1700 1702 1703\n",
      " 1710 1711 1712 1713 1719 1722 1727 1732 1734 1736 1737 1738 1739 1743\n",
      " 1748 1749 1754 1756 1757 1763 1764 1770 1772 1774 1784 1793 1796 1798\n",
      " 1801 1804 1819 1820 1821 1829 1833 1843 1845 1853 1862 1871 1876 1882\n",
      " 1888 1892 1897 1901 1903 1904 1907 1909 1919 1920 1921 1926 1927 1929\n",
      " 1936 1949 1952 1954 1958 1959 1961 1968 1970 1971 1972 1980 1983 1989\n",
      " 1992 1993 1999 2005 2007 2018 2020 2023 2026 2030 2032 2040 2043 2048\n",
      " 2051 2054 2055 2057 2059 2067 2069 2070 2074 2075 2087 2089 2101 2102\n",
      " 2111 2118 2123 2126 2127 2130 2133 2143 2144 2146 2149 2151 2152 2153\n",
      " 2160 2162 2165 2170 2178 2181 2182 2184 2185 2189 2191 2193 2199 2202\n",
      " 2203 2204 2206 2209 2213 2219 2223 2225 2227 2233 2234 2237 2239 2240\n",
      " 2241 2242 2246 2247 2250 2259 2260 2265 2268 2270 2271 2272 2278 2281\n",
      " 2287 2289 2296 2297 2300 2301 2302 2303 2308 2309 2312 2314 2317 2318\n",
      " 2325 2327 2333 2339 2341 2342 2343 2352 2355 2359 2362 2365 2376 2388\n",
      " 2394 2397 2398 2402 2403 2405 2407 2418 2420 2424 2427 2428 2433 2437\n",
      " 2439 2440 2447 2455 2456 2458 2467 2468 2475 2479 2480 2490 2491 2498\n",
      " 2502 2505 2506 2511 2514 2520 2524 2526 2529 2535 2540 2541 2545 2547\n",
      " 2551 2554 2569 2581 2584 2592 2594 2598 2601 2603 2604 2607 2617 2619\n",
      " 2620 2630 2631 2640 2642 2644 2645 2648 2653 2669 2670 2674 2675 2678\n",
      " 2679 2680 2685 2686 2688 2701 2703 2715 2718 2724 2728 2729 2736 2742\n",
      " 2752 2755 2761 2764 2767 2769 2770 2778 2779 2780 2787 2796 2804 2808\n",
      " 2812 2821 2822 2827 2829 2834 2837 2838 2839 2840 2841 2852 2859 2862\n",
      " 2863 2865 2869 2872 2881 2883 2888 2889 2891 2895 2897 2902 2911 2915\n",
      " 2922 2932 2933 2934 2937 2939 2946 2951 2955 2957 2958 2961 2966 2968\n",
      " 2969 2972 2974 2975 2980 2982 2983 2987 2995 2996 2997 3004 3009 3012\n",
      " 3016 3017 3025 3026 3028 3029 3030 3032 3033 3035 3036 3040 3043 3056\n",
      " 3067 3070 3073 3074 3081 3085 3099 3100 3102 3105 3115 3123 3124 3131\n",
      " 3133 3139 3141 3142 3143 3144 3149 3150 3157 3163 3164 3167 3174 3177\n",
      " 3182 3192 3193 3198 3201 3204 3207 3210 3214 3216 3228 3232 3236 3237\n",
      " 3239 3248 3251 3258 3270 3273 3276 3281 3282 3284 3290 3292 3293 3299\n",
      " 3302 3303 3310 3314 3315 3322 3324 3326 3327 3330 3347 3349 3352 3353\n",
      " 3354 3359 3368 3371 3375 3380 3382 3383 3384 3394 3395 3411 3414 3421\n",
      " 3427 3430 3436 3440 3456 3457 3461 3466 3469 3471 3474 3476 3477 3482\n",
      " 3483 3490 3491 3494 3501 3504 3508 3516 3517 3519 3520]\n",
      "Campioni senza etichette previste (majority clf triggers): []\n"
     ]
    }
   ],
   "source": [
    "# Supponiamo che 'y_test_emotions_encoded' e 'y_pred_random_emotions' siano le etichette reali e previste\n",
    "\n",
    "# Trova i campioni senza etichette previste per le emozioni (random clf)\n",
    "no_predicted_labels_indices_random_emotions = np.where(np.all(y_pred_random_emotions == 0, axis=1))[0]\n",
    "print(\"Campioni senza etichette previste (random clf emotions):\", no_predicted_labels_indices_random_emotions)\n",
    "\n",
    "# Trova i campioni senza etichette previste per le emozioni (majority clf)\n",
    "no_predicted_labels_indices_majority_emotions = np.where(np.all(y_pred_majority_emotions == 0, axis=1))[0]\n",
    "print(\"Campioni senza etichette previste (majority clf emotions):\", no_predicted_labels_indices_majority_emotions)\n",
    "\n",
    "# Trova i campioni senza etichette previste per i triggers (random clf)\n",
    "no_predicted_labels_indices_random_triggers = np.where(np.all(y_pred_random_triggers == 0, axis=1))[0]\n",
    "print(\"Campioni senza etichette previste (random clf triggers):\", no_predicted_labels_indices_random_triggers)\n",
    "\n",
    "# Trova i campioni senza etichette previste per i triggers (majority clf)\n",
    "no_predicted_labels_indices_majority_triggers = np.where(np.all(y_pred_majority_triggers == 0, axis=1))[0]\n",
    "print(\"Campioni senza etichette previste (majority clf triggers):\", no_predicted_labels_indices_majority_triggers)\n"
   ]
  },
  {
   "cell_type": "markdown",
   "metadata": {},
   "source": [
    "Potrebbe essere dato dal fatto che i dati sono sbilanciati\n",
    "\n",
    "random uniform e majority classifier non riescono a tenere conto delle class weights però si potrebbero fare dei random uniform e majority classifier custom che ne tengano conto."
   ]
  }
 ],
 "metadata": {
  "kernelspec": {
   "display_name": "base",
   "language": "python",
   "name": "python3"
  },
  "language_info": {
   "codemirror_mode": {
    "name": "ipython",
    "version": 3
   },
   "file_extension": ".py",
   "mimetype": "text/x-python",
   "name": "python",
   "nbconvert_exporter": "python",
   "pygments_lexer": "ipython3",
   "version": "3.11.5"
  }
 },
 "nbformat": 4,
 "nbformat_minor": 2
}
