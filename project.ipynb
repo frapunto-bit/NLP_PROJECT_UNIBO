{
 "cells": [
  {
   "cell_type": "markdown",
   "metadata": {},
   "source": [
    "# NLP Standard Project \n",
    "Emotion Discovery and Reasoning its Flip in Conversation (EDiReF) - SemEval 2024 – Task 10 - Task C – EFR in English conversation:\n",
    "Given a multiparty code-mixed conversation along with emotions for each utterance, the goal is to identify the trigger utterance for each emotionflip in the dialogue"
   ]
  },
  {
   "cell_type": "code",
   "execution_count": 41,
   "metadata": {},
   "outputs": [],
   "source": [
    "import pandas as pd\n",
    "import numpy as np\n",
    "\n",
    "#data visualization\n",
    "import matplotlib.pyplot as plt\n",
    "\n",
    "#modeling\n",
    "from sklearn.model_selection import train_test_split\n",
    "from sklearn.dummy import DummyClassifier\n",
    "from sklearn.utils.class_weight import compute_class_weight\n",
    "from sklearn.utils import class_weight\n",
    "from sklearn.preprocessing import OneHotEncoder\n",
    "\n",
    "#bert model\n",
    "import torch\n",
    "import transformers\n",
    "from transformers import AutoTokenizer\n",
    "from torch.utils.data import DataLoader, Dataset\n",
    "\n",
    "\n",
    "#metrics\n",
    "from sklearn.metrics import classification_report, f1_score"
   ]
  },
  {
   "cell_type": "markdown",
   "metadata": {},
   "source": [
    "## Data Loading"
   ]
  },
  {
   "cell_type": "markdown",
   "metadata": {},
   "source": [
    "Load the JSON in a Pandas Dataframe"
   ]
  },
  {
   "cell_type": "code",
   "execution_count": 50,
   "metadata": {},
   "outputs": [
    {
     "data": {
      "text/plain": [
       "(4000, 5)"
      ]
     },
     "execution_count": 50,
     "metadata": {},
     "output_type": "execute_result"
    }
   ],
   "source": [
    "file_path_train = 'Data/Task C/MELD_train_efr.json'\n",
    "df = pd.read_json(file_path_train)\n",
    "\n",
    "df_train = pd.read_json(file_path_train)\n",
    "\n",
    "df_train.shape"
   ]
  },
  {
   "cell_type": "code",
   "execution_count": 3,
   "metadata": {},
   "outputs": [
    {
     "data": {
      "text/html": [
       "<div>\n",
       "<style scoped>\n",
       "    .dataframe tbody tr th:only-of-type {\n",
       "        vertical-align: middle;\n",
       "    }\n",
       "\n",
       "    .dataframe tbody tr th {\n",
       "        vertical-align: top;\n",
       "    }\n",
       "\n",
       "    .dataframe thead th {\n",
       "        text-align: right;\n",
       "    }\n",
       "</style>\n",
       "<table border=\"1\" class=\"dataframe\">\n",
       "  <thead>\n",
       "    <tr style=\"text-align: right;\">\n",
       "      <th></th>\n",
       "      <th>episode</th>\n",
       "      <th>speakers</th>\n",
       "      <th>emotions</th>\n",
       "      <th>utterances</th>\n",
       "      <th>triggers</th>\n",
       "    </tr>\n",
       "  </thead>\n",
       "  <tbody>\n",
       "    <tr>\n",
       "      <th>0</th>\n",
       "      <td>utterance_0</td>\n",
       "      <td>[Chandler, The Interviewer, Chandler, The Inte...</td>\n",
       "      <td>[neutral, neutral, neutral, neutral, surprise]</td>\n",
       "      <td>[also I was the point person on my company's t...</td>\n",
       "      <td>[0.0, 0.0, 0.0, 1.0, 0.0]</td>\n",
       "    </tr>\n",
       "    <tr>\n",
       "      <th>1</th>\n",
       "      <td>utterance_1</td>\n",
       "      <td>[Chandler, The Interviewer, Chandler, The Inte...</td>\n",
       "      <td>[neutral, neutral, neutral, neutral, surprise,...</td>\n",
       "      <td>[also I was the point person on my company's t...</td>\n",
       "      <td>[0.0, 0.0, 0.0, 0.0, 0.0, 1.0, 0.0]</td>\n",
       "    </tr>\n",
       "    <tr>\n",
       "      <th>2</th>\n",
       "      <td>utterance_2</td>\n",
       "      <td>[Chandler, The Interviewer, Chandler, The Inte...</td>\n",
       "      <td>[neutral, neutral, neutral, neutral, surprise,...</td>\n",
       "      <td>[also I was the point person on my company's t...</td>\n",
       "      <td>[0.0, 0.0, 0.0, 0.0, 0.0, 0.0, 0.0, 1.0, 0.0, ...</td>\n",
       "    </tr>\n",
       "    <tr>\n",
       "      <th>3</th>\n",
       "      <td>utterance_3</td>\n",
       "      <td>[Chandler, The Interviewer, Chandler, The Inte...</td>\n",
       "      <td>[neutral, neutral, neutral, neutral, surprise,...</td>\n",
       "      <td>[also I was the point person on my company's t...</td>\n",
       "      <td>[0.0, 0.0, 0.0, 0.0, 0.0, 0.0, 0.0, 0.0, 0.0, ...</td>\n",
       "    </tr>\n",
       "    <tr>\n",
       "      <th>4</th>\n",
       "      <td>utterance_4</td>\n",
       "      <td>[Joey, Rachel, Joey, Rachel]</td>\n",
       "      <td>[surprise, sadness, surprise, fear]</td>\n",
       "      <td>[But then who? The waitress I went out with la...</td>\n",
       "      <td>[0.0, 0.0, 1.0, 0.0]</td>\n",
       "    </tr>\n",
       "  </tbody>\n",
       "</table>\n",
       "</div>"
      ],
      "text/plain": [
       "       episode                                           speakers  \\\n",
       "0  utterance_0  [Chandler, The Interviewer, Chandler, The Inte...   \n",
       "1  utterance_1  [Chandler, The Interviewer, Chandler, The Inte...   \n",
       "2  utterance_2  [Chandler, The Interviewer, Chandler, The Inte...   \n",
       "3  utterance_3  [Chandler, The Interviewer, Chandler, The Inte...   \n",
       "4  utterance_4                       [Joey, Rachel, Joey, Rachel]   \n",
       "\n",
       "                                            emotions  \\\n",
       "0     [neutral, neutral, neutral, neutral, surprise]   \n",
       "1  [neutral, neutral, neutral, neutral, surprise,...   \n",
       "2  [neutral, neutral, neutral, neutral, surprise,...   \n",
       "3  [neutral, neutral, neutral, neutral, surprise,...   \n",
       "4                [surprise, sadness, surprise, fear]   \n",
       "\n",
       "                                          utterances  \\\n",
       "0  [also I was the point person on my company's t...   \n",
       "1  [also I was the point person on my company's t...   \n",
       "2  [also I was the point person on my company's t...   \n",
       "3  [also I was the point person on my company's t...   \n",
       "4  [But then who? The waitress I went out with la...   \n",
       "\n",
       "                                            triggers  \n",
       "0                          [0.0, 0.0, 0.0, 1.0, 0.0]  \n",
       "1                [0.0, 0.0, 0.0, 0.0, 0.0, 1.0, 0.0]  \n",
       "2  [0.0, 0.0, 0.0, 0.0, 0.0, 0.0, 0.0, 1.0, 0.0, ...  \n",
       "3  [0.0, 0.0, 0.0, 0.0, 0.0, 0.0, 0.0, 0.0, 0.0, ...  \n",
       "4                               [0.0, 0.0, 1.0, 0.0]  "
      ]
     },
     "execution_count": 3,
     "metadata": {},
     "output_type": "execute_result"
    }
   ],
   "source": [
    "df_train.head()"
   ]
  },
  {
   "cell_type": "markdown",
   "metadata": {},
   "source": [
    "Drop episode column since it is only an index and it is not useful for the task"
   ]
  },
  {
   "cell_type": "code",
   "execution_count": 4,
   "metadata": {},
   "outputs": [
    {
     "name": "stdout",
     "output_type": "stream",
     "text": [
      "Dataframe shape after dropping column: (4000, 4)\n"
     ]
    },
    {
     "data": {
      "text/html": [
       "<div>\n",
       "<style scoped>\n",
       "    .dataframe tbody tr th:only-of-type {\n",
       "        vertical-align: middle;\n",
       "    }\n",
       "\n",
       "    .dataframe tbody tr th {\n",
       "        vertical-align: top;\n",
       "    }\n",
       "\n",
       "    .dataframe thead th {\n",
       "        text-align: right;\n",
       "    }\n",
       "</style>\n",
       "<table border=\"1\" class=\"dataframe\">\n",
       "  <thead>\n",
       "    <tr style=\"text-align: right;\">\n",
       "      <th></th>\n",
       "      <th>speakers</th>\n",
       "      <th>emotions</th>\n",
       "      <th>utterances</th>\n",
       "      <th>triggers</th>\n",
       "    </tr>\n",
       "  </thead>\n",
       "  <tbody>\n",
       "    <tr>\n",
       "      <th>0</th>\n",
       "      <td>[Chandler, The Interviewer, Chandler, The Inte...</td>\n",
       "      <td>[neutral, neutral, neutral, neutral, surprise]</td>\n",
       "      <td>[also I was the point person on my company's t...</td>\n",
       "      <td>[0.0, 0.0, 0.0, 1.0, 0.0]</td>\n",
       "    </tr>\n",
       "    <tr>\n",
       "      <th>1</th>\n",
       "      <td>[Chandler, The Interviewer, Chandler, The Inte...</td>\n",
       "      <td>[neutral, neutral, neutral, neutral, surprise,...</td>\n",
       "      <td>[also I was the point person on my company's t...</td>\n",
       "      <td>[0.0, 0.0, 0.0, 0.0, 0.0, 1.0, 0.0]</td>\n",
       "    </tr>\n",
       "    <tr>\n",
       "      <th>2</th>\n",
       "      <td>[Chandler, The Interviewer, Chandler, The Inte...</td>\n",
       "      <td>[neutral, neutral, neutral, neutral, surprise,...</td>\n",
       "      <td>[also I was the point person on my company's t...</td>\n",
       "      <td>[0.0, 0.0, 0.0, 0.0, 0.0, 0.0, 0.0, 1.0, 0.0, ...</td>\n",
       "    </tr>\n",
       "    <tr>\n",
       "      <th>3</th>\n",
       "      <td>[Chandler, The Interviewer, Chandler, The Inte...</td>\n",
       "      <td>[neutral, neutral, neutral, neutral, surprise,...</td>\n",
       "      <td>[also I was the point person on my company's t...</td>\n",
       "      <td>[0.0, 0.0, 0.0, 0.0, 0.0, 0.0, 0.0, 0.0, 0.0, ...</td>\n",
       "    </tr>\n",
       "    <tr>\n",
       "      <th>4</th>\n",
       "      <td>[Joey, Rachel, Joey, Rachel]</td>\n",
       "      <td>[surprise, sadness, surprise, fear]</td>\n",
       "      <td>[But then who? The waitress I went out with la...</td>\n",
       "      <td>[0.0, 0.0, 1.0, 0.0]</td>\n",
       "    </tr>\n",
       "  </tbody>\n",
       "</table>\n",
       "</div>"
      ],
      "text/plain": [
       "                                            speakers  \\\n",
       "0  [Chandler, The Interviewer, Chandler, The Inte...   \n",
       "1  [Chandler, The Interviewer, Chandler, The Inte...   \n",
       "2  [Chandler, The Interviewer, Chandler, The Inte...   \n",
       "3  [Chandler, The Interviewer, Chandler, The Inte...   \n",
       "4                       [Joey, Rachel, Joey, Rachel]   \n",
       "\n",
       "                                            emotions  \\\n",
       "0     [neutral, neutral, neutral, neutral, surprise]   \n",
       "1  [neutral, neutral, neutral, neutral, surprise,...   \n",
       "2  [neutral, neutral, neutral, neutral, surprise,...   \n",
       "3  [neutral, neutral, neutral, neutral, surprise,...   \n",
       "4                [surprise, sadness, surprise, fear]   \n",
       "\n",
       "                                          utterances  \\\n",
       "0  [also I was the point person on my company's t...   \n",
       "1  [also I was the point person on my company's t...   \n",
       "2  [also I was the point person on my company's t...   \n",
       "3  [also I was the point person on my company's t...   \n",
       "4  [But then who? The waitress I went out with la...   \n",
       "\n",
       "                                            triggers  \n",
       "0                          [0.0, 0.0, 0.0, 1.0, 0.0]  \n",
       "1                [0.0, 0.0, 0.0, 0.0, 0.0, 1.0, 0.0]  \n",
       "2  [0.0, 0.0, 0.0, 0.0, 0.0, 0.0, 0.0, 1.0, 0.0, ...  \n",
       "3  [0.0, 0.0, 0.0, 0.0, 0.0, 0.0, 0.0, 0.0, 0.0, ...  \n",
       "4                               [0.0, 0.0, 1.0, 0.0]  "
      ]
     },
     "execution_count": 4,
     "metadata": {},
     "output_type": "execute_result"
    }
   ],
   "source": [
    "df = df_train.drop(columns=['episode'])\n",
    "print(f\"Dataframe shape after dropping column: {df.shape}\")\n",
    "df.head()"
   ]
  },
  {
   "cell_type": "markdown",
   "metadata": {},
   "source": [
    "## Preprocessing"
   ]
  },
  {
   "cell_type": "markdown",
   "metadata": {},
   "source": [
    "### NaN values\n",
    "Some trigger labels are not correctly formatted and appear as NaN -> we convert them to zero to avoid errors."
   ]
  },
  {
   "cell_type": "code",
   "execution_count": 5,
   "metadata": {},
   "outputs": [
    {
     "name": "stdout",
     "output_type": "stream",
     "text": [
      "Number of NaN values: 9\n"
     ]
    }
   ],
   "source": [
    "count = sum(elem != 1 and elem != 0 for row in df[\"triggers\"] for elem in row)\n",
    "print(f\"Number of NaN values: {count}\")"
   ]
  },
  {
   "cell_type": "code",
   "execution_count": 6,
   "metadata": {},
   "outputs": [],
   "source": [
    "df[\"triggers\"] = df[\"triggers\"].apply(lambda x: [0 if elem != 1 and elem != 0 else elem for elem in x])"
   ]
  },
  {
   "cell_type": "code",
   "execution_count": 7,
   "metadata": {},
   "outputs": [
    {
     "name": "stdout",
     "output_type": "stream",
     "text": [
      "Number of NaN values: 0\n"
     ]
    }
   ],
   "source": [
    "count = sum(elem != 1 and elem != 0 for row in df[\"triggers\"] for elem in row)\n",
    "print(f\"Number of NaN values: {count}\")"
   ]
  },
  {
   "cell_type": "markdown",
   "metadata": {},
   "source": [
    "### Split data \n",
    "80/10/10 train/val/test split"
   ]
  },
  {
   "cell_type": "code",
   "execution_count": 8,
   "metadata": {},
   "outputs": [
    {
     "name": "stdout",
     "output_type": "stream",
     "text": [
      "Train shape: (3200, 4)\n",
      "Test shape: (400, 4)\n",
      "Val shape: (400, 4)\n"
     ]
    }
   ],
   "source": [
    "df_train, temp = train_test_split(df, test_size=0.2, shuffle=False)\n",
    "df_test, df_val = train_test_split(temp, test_size=0.5, shuffle=False)\n",
    "\n",
    "print(f\"Train shape: {df_train.shape}\")\n",
    "print(f\"Test shape: {df_test.shape}\")\n",
    "print(f\"Val shape: {df_val.shape}\")"
   ]
  },
  {
   "cell_type": "code",
   "execution_count": 130,
   "metadata": {},
   "outputs": [
    {
     "name": "stdout",
     "output_type": "stream",
     "text": [
      "Dialogue in the last row of df_train: [\"Dr. Geller, there's a seat over here.\", \"Thank you, Dr. Phillips, but I'm having my lunch at this table, here in the middle.\", \"I'm having lunch right here, with my good friend Joey, if he'll sit with me.\", 'I will sit with you Dr. Geller.', \"Y'know, we work in a museum of natural history, and yet there is something unnatural about the way we eat lunch.\", \"Now, I look around this cafeteria, and y'know what I see, I see-I see division.\", 'Division, between people in white coats and people in blue blazers, and I ask myself, \"My God why?!\"', 'Now, I say we shed these-these coats that separate us, and we get to know the people underneath.']\n"
     ]
    }
   ],
   "source": [
    "print(f\"Dialogue in the last row of df_train: {df_train['utterances'][3199]}\")"
   ]
  },
  {
   "cell_type": "code",
   "execution_count": null,
   "metadata": {},
   "outputs": [
    {
     "name": "stdout",
     "output_type": "stream",
     "text": [
      "Dialogue in the first row of df_test: [\"Dr. Geller, there's a seat over here.\", \"Thank you, Dr. Phillips, but I'm having my lunch at this table, here in the middle.\", \"I'm having lunch right here, with my good friend Joey, if he'll sit with me.\", 'I will sit with you Dr. Geller.', \"Y'know, we work in a museum of natural history, and yet there is something unnatural about the way we eat lunch.\", \"Now, I look around this cafeteria, and y'know what I see, I see-I see division.\", 'Division, between people in white coats and people in blue blazers, and I ask myself, \"My God why?!\"', 'Now, I say we shed these-these coats that separate us, and we get to know the people underneath.', \"I'm Ross!\"]\n"
     ]
    }
   ],
   "source": [
    "print(f\"Dialogue in the first row of df_test: {df_test['utterances'][3200]}\")"
   ]
  },
  {
   "cell_type": "code",
   "execution_count": null,
   "metadata": {},
   "outputs": [
    {
     "name": "stdout",
     "output_type": "stream",
     "text": [
      "il discorso continua fino all'utterance numero 3205\n",
      "Dialogue: [\"Dr. Geller, there's a seat over here.\", \"Thank you, Dr. Phillips, but I'm having my lunch at this table, here in the middle.\", \"I'm having lunch right here, with my good friend Joey, if he'll sit with me.\", 'I will sit with you Dr. Geller.', \"Y'know, we work in a museum of natural history, and yet there is something unnatural about the way we eat lunch.\", \"Now, I look around this cafeteria, and y'know what I see, I see-I see division.\", 'Division, between people in white coats and people in blue blazers, and I ask myself, \"My God why?!\"', 'Now, I say we shed these-these coats that separate us, and we get to know the people underneath.', \"I'm Ross!\", \"I'm divorced, and I have a kid!\", \"I'm Joey! I'm an actor! I don't know squat about dinosaurs!\", \"I'm Ted, and I just moved here a month ago, and New York really scares me.\", 'All right, there you go!', 'Yeah, you hang in there Teddy!', \"I'm Andrew, and I didn't pay for this pear.\", 'Okay, good-good for you.', \"I'm Rhonda,  and these aren't real!\", 'Wow, Rhonda.', \"I'm Scott.\", 'Yeah, okay, Scott!', 'And I need to flip the light switch on and off 17 times before I leave a room or my family will die.']\n"
     ]
    }
   ],
   "source": [
    "print(f\"Il discorso continua fino all'utterance numero 3205\")\n",
    "print(f\"Dialogue: {df_test['utterances'][3205]}\")"
   ]
  },
  {
   "cell_type": "code",
   "execution_count": null,
   "metadata": {},
   "outputs": [
    {
     "name": "stdout",
     "output_type": "stream",
     "text": [
      "Dialogue in the last row of df_test: ['Oh, that is so unfortunate.', 'What?', 'Cute naked guy is really starting to put on weight.', \"Okay, I'll be back in just a minute. Oh, Phoebe I'm sorry that I left lipstick marks on the phone.\", \"You didn't leave lipstick marks on the phone.\", \"Oh, then it must've been you. Bye.\", \"Bye-bye!  That's why I moved out.\", \"Hey, y'know while we're on that, when are you gonna tell my sister that you don't live here anymore.\", 'I think on some levels she already knows.']\n"
     ]
    }
   ],
   "source": [
    "print(f\"Dialogue in the last row of df_test: {df_test['utterances'][3599]}\")"
   ]
  },
  {
   "cell_type": "code",
   "execution_count": null,
   "metadata": {},
   "outputs": [
    {
     "name": "stdout",
     "output_type": "stream",
     "text": [
      "Dialogue in the first row of df_val: ['Night Mon. Night Julio.', 'Adiós.', 'Look Julio, someone left their book here.', 'Ah actually, that is mine.', 'Oh yeah, what are you reading?']\n"
     ]
    }
   ],
   "source": [
    "print(f\"Dialogue in the first row of df_val: {df_val['utterances'][3600]}\")"
   ]
  },
  {
   "cell_type": "markdown",
   "metadata": {},
   "source": [
    "Effettivamente pare che il discorso venga splittato in due tra train e test però il prof specifica nelle raccomandazioni: \"Given the dataset format, this property should be trivially guaranteed.\" \n",
    "\n",
    "Dal forum: \"According to the instructions, you are free to perform data splitting as you prefer and motivate your decision accordingly.\n",
    "In other words, there is no explicit penalization for data splitting.\n",
    "Note that this doesn't mean that potential issues/consequences are evaluated equally.\n",
    "Think about what you would do in a real-world scenario.\n",
    "To sum up, we evaluate your understanding of the problem and your corresponding actions.\""
   ]
  },
  {
   "cell_type": "code",
   "execution_count": 9,
   "metadata": {},
   "outputs": [
    {
     "name": "stdout",
     "output_type": "stream",
     "text": [
      "Train shape: (3205, 4)\n",
      "Test shape: (397, 4)\n",
      "Val shape: (398, 4)\n"
     ]
    }
   ],
   "source": [
    "df_train = df.iloc[:3205,:]\n",
    "temp = df.iloc[3205:,:]\n",
    "\n",
    "df_test, df_val = train_test_split(temp, test_size=0.5, shuffle=False)\n",
    "\n",
    "print(f\"Train shape: {df_train.shape}\")\n",
    "print(f\"Test shape: {df_test.shape}\")\n",
    "print(f\"Val shape: {df_val.shape}\")"
   ]
  },
  {
   "cell_type": "code",
   "execution_count": 136,
   "metadata": {},
   "outputs": [
    {
     "name": "stdout",
     "output_type": "stream",
     "text": [
      "Dialouge in the last row of df_test: ['Night Mon. Night Julio.', 'Adiós.', 'Look Julio, someone left their book here.', 'Ah actually, that is mine.', 'Oh yeah, what are you reading?', 'Flowers of Evil, by Beaudalire. Have you read it?', 'Have I read it?  No, are you enjoying it?', \"I thought I would, but the translation's no good.\", \"Your a poet and don't know it.\", 'Actually I ah, I am a poet.', 'Oh, then you do know it.  So um what kind of things do you write about?', 'Things that move me. The, the shadow of a tree, a child laughing, or this lip.', 'Mine?  Right here?', 'I can write an epic poem about this lip.']\n"
     ]
    }
   ],
   "source": [
    "print(f\"Dialouge in the last row of df_test: {df_test['utterances'][3601]}\")"
   ]
  },
  {
   "cell_type": "code",
   "execution_count": 137,
   "metadata": {},
   "outputs": [
    {
     "name": "stdout",
     "output_type": "stream",
     "text": [
      "Dialouge in the first row of df_val: ['Night Mon. Night Julio.', 'Adiós.', 'Look Julio, someone left their book here.', 'Ah actually, that is mine.', 'Oh yeah, what are you reading?', 'Flowers of Evil, by Beaudalire. Have you read it?', 'Have I read it?  No, are you enjoying it?', \"I thought I would, but the translation's no good.\", \"Your a poet and don't know it.\", 'Actually I ah, I am a poet.', 'Oh, then you do know it.  So um what kind of things do you write about?', 'Things that move me. The, the shadow of a tree, a child laughing, or this lip.', 'Mine?  Right here?', 'I can write an epic poem about this lip.', \"How would that go?  Well, it didn't rhyme, but I liked it.\"]\n"
     ]
    }
   ],
   "source": [
    "print(f\"Dialouge in the first row of df_val: {df_val['utterances'][3602]}\")"
   ]
  },
  {
   "cell_type": "markdown",
   "metadata": {},
   "source": [
    "Ancora un dialogo splittato tra test e val"
   ]
  },
  {
   "cell_type": "code",
   "execution_count": 10,
   "metadata": {},
   "outputs": [],
   "source": [
    "df_train = df.iloc[:3205,:]\n",
    "df_test = df.iloc[3205:3603,:]\n",
    "df_val = df.iloc[3603:,:]"
   ]
  },
  {
   "cell_type": "code",
   "execution_count": 140,
   "metadata": {},
   "outputs": [
    {
     "name": "stdout",
     "output_type": "stream",
     "text": [
      "Dialouge in the last row of df_test: ['Night Mon. Night Julio.', 'Adiós.', 'Look Julio, someone left their book here.', 'Ah actually, that is mine.', 'Oh yeah, what are you reading?', 'Flowers of Evil, by Beaudalire. Have you read it?', 'Have I read it?  No, are you enjoying it?', \"I thought I would, but the translation's no good.\", \"Your a poet and don't know it.\", 'Actually I ah, I am a poet.', 'Oh, then you do know it.  So um what kind of things do you write about?', 'Things that move me. The, the shadow of a tree, a child laughing, or this lip.', 'Mine?  Right here?', 'I can write an epic poem about this lip.', \"How would that go?  Well, it didn't rhyme, but I liked it.\"]\n"
     ]
    }
   ],
   "source": [
    "print(f\"Dialouge in the last row of df_test: {df_test['utterances'][3602]}\")"
   ]
  },
  {
   "cell_type": "code",
   "execution_count": 141,
   "metadata": {},
   "outputs": [
    {
     "name": "stdout",
     "output_type": "stream",
     "text": [
      "Dialouge in the first row of df_val: ['Last stop, Montreal. This stop is Montreal.', 'What?', 'I made a bet with myself that you have beautiful eyes. Now that I see them, I win.', 'What?', \"We're at my stop. But would you like to have coffee?\", 'Are we really in Montreal?!', 'Yes we are. So, coffee?', 'Coffee sounds great.  Wait, so, so you live in Montreal?']\n"
     ]
    }
   ],
   "source": [
    "print(f\"Dialouge in the first row of df_val: {df_val['utterances'][3603]}\")"
   ]
  },
  {
   "cell_type": "markdown",
   "metadata": {},
   "source": [
    "Questa dovrebbe essere la shape dei dataset"
   ]
  },
  {
   "cell_type": "code",
   "execution_count": 11,
   "metadata": {},
   "outputs": [
    {
     "name": "stdout",
     "output_type": "stream",
     "text": [
      "Train shape: (3205, 4)\n",
      "Test shape: (398, 4)\n",
      "Val shape: (397, 4)\n"
     ]
    }
   ],
   "source": [
    "print(f\"Train shape: {df_train.shape}\")\n",
    "print(f\"Test shape: {df_test.shape}\")\n",
    "print(f\"Val shape: {df_val.shape}\")"
   ]
  },
  {
   "cell_type": "markdown",
   "metadata": {},
   "source": [
    "### Split every sentence in the dfs"
   ]
  },
  {
   "cell_type": "code",
   "execution_count": 12,
   "metadata": {},
   "outputs": [],
   "source": [
    "def split_utterances(df):\n",
    "    speakers_list = []\n",
    "    utterances_list = []\n",
    "    emotions_list = []\n",
    "    trigger_list = []\n",
    "\n",
    "    #Itera su ogni riga del dataframe originale\n",
    "    for index, row in df.iterrows():\n",
    "        speakers = row['speakers']\n",
    "        utterances = row['utterances']\n",
    "        emotions = row['emotions']\n",
    "        triggers = row['triggers']\n",
    "        \n",
    "        # Itera su ogni frase nell'array 'utterances'\n",
    "        for i in range(len(utterances)):\n",
    "            speakers_list.append(speakers[i])\n",
    "            utterances_list.append(utterances[i])\n",
    "            emotions_list.append(emotions[i])\n",
    "            trigger_list.append(triggers[i])\n",
    "    \n",
    "    # Crea un nuovo dataframe dalle liste\n",
    "    new_df = pd.DataFrame({\n",
    "        'speaker': speakers_list,\n",
    "        'utterance': utterances_list,\n",
    "        'emotion': emotions_list,\n",
    "        'trigger': trigger_list\n",
    "    })\n",
    "\n",
    "    return new_df"
   ]
  },
  {
   "cell_type": "code",
   "execution_count": 13,
   "metadata": {},
   "outputs": [
    {
     "data": {
      "text/html": [
       "<div>\n",
       "<style scoped>\n",
       "    .dataframe tbody tr th:only-of-type {\n",
       "        vertical-align: middle;\n",
       "    }\n",
       "\n",
       "    .dataframe tbody tr th {\n",
       "        vertical-align: top;\n",
       "    }\n",
       "\n",
       "    .dataframe thead th {\n",
       "        text-align: right;\n",
       "    }\n",
       "</style>\n",
       "<table border=\"1\" class=\"dataframe\">\n",
       "  <thead>\n",
       "    <tr style=\"text-align: right;\">\n",
       "      <th></th>\n",
       "      <th>speaker</th>\n",
       "      <th>utterance</th>\n",
       "      <th>emotion</th>\n",
       "      <th>trigger</th>\n",
       "    </tr>\n",
       "  </thead>\n",
       "  <tbody>\n",
       "    <tr>\n",
       "      <th>0</th>\n",
       "      <td>Chandler</td>\n",
       "      <td>also I was the point person on my company's tr...</td>\n",
       "      <td>neutral</td>\n",
       "      <td>0.0</td>\n",
       "    </tr>\n",
       "    <tr>\n",
       "      <th>1</th>\n",
       "      <td>The Interviewer</td>\n",
       "      <td>You must've had your hands full.</td>\n",
       "      <td>neutral</td>\n",
       "      <td>0.0</td>\n",
       "    </tr>\n",
       "    <tr>\n",
       "      <th>2</th>\n",
       "      <td>Chandler</td>\n",
       "      <td>That I did. That I did.</td>\n",
       "      <td>neutral</td>\n",
       "      <td>0.0</td>\n",
       "    </tr>\n",
       "    <tr>\n",
       "      <th>3</th>\n",
       "      <td>The Interviewer</td>\n",
       "      <td>So let's talk a little bit about your duties.</td>\n",
       "      <td>neutral</td>\n",
       "      <td>1.0</td>\n",
       "    </tr>\n",
       "    <tr>\n",
       "      <th>4</th>\n",
       "      <td>Chandler</td>\n",
       "      <td>My duties?  All right.</td>\n",
       "      <td>surprise</td>\n",
       "      <td>0.0</td>\n",
       "    </tr>\n",
       "    <tr>\n",
       "      <th>5</th>\n",
       "      <td>Chandler</td>\n",
       "      <td>also I was the point person on my company's tr...</td>\n",
       "      <td>neutral</td>\n",
       "      <td>0.0</td>\n",
       "    </tr>\n",
       "    <tr>\n",
       "      <th>6</th>\n",
       "      <td>The Interviewer</td>\n",
       "      <td>You must've had your hands full.</td>\n",
       "      <td>neutral</td>\n",
       "      <td>0.0</td>\n",
       "    </tr>\n",
       "    <tr>\n",
       "      <th>7</th>\n",
       "      <td>Chandler</td>\n",
       "      <td>That I did. That I did.</td>\n",
       "      <td>neutral</td>\n",
       "      <td>0.0</td>\n",
       "    </tr>\n",
       "    <tr>\n",
       "      <th>8</th>\n",
       "      <td>The Interviewer</td>\n",
       "      <td>So let's talk a little bit about your duties.</td>\n",
       "      <td>neutral</td>\n",
       "      <td>0.0</td>\n",
       "    </tr>\n",
       "    <tr>\n",
       "      <th>9</th>\n",
       "      <td>Chandler</td>\n",
       "      <td>My duties?  All right.</td>\n",
       "      <td>surprise</td>\n",
       "      <td>0.0</td>\n",
       "    </tr>\n",
       "    <tr>\n",
       "      <th>10</th>\n",
       "      <td>The Interviewer</td>\n",
       "      <td>Now you'll be heading a whole division, so you...</td>\n",
       "      <td>neutral</td>\n",
       "      <td>1.0</td>\n",
       "    </tr>\n",
       "    <tr>\n",
       "      <th>11</th>\n",
       "      <td>Chandler</td>\n",
       "      <td>I see.</td>\n",
       "      <td>neutral</td>\n",
       "      <td>0.0</td>\n",
       "    </tr>\n",
       "    <tr>\n",
       "      <th>12</th>\n",
       "      <td>Chandler</td>\n",
       "      <td>also I was the point person on my company's tr...</td>\n",
       "      <td>neutral</td>\n",
       "      <td>0.0</td>\n",
       "    </tr>\n",
       "    <tr>\n",
       "      <th>13</th>\n",
       "      <td>The Interviewer</td>\n",
       "      <td>You must've had your hands full.</td>\n",
       "      <td>neutral</td>\n",
       "      <td>0.0</td>\n",
       "    </tr>\n",
       "    <tr>\n",
       "      <th>14</th>\n",
       "      <td>Chandler</td>\n",
       "      <td>That I did. That I did.</td>\n",
       "      <td>neutral</td>\n",
       "      <td>0.0</td>\n",
       "    </tr>\n",
       "  </tbody>\n",
       "</table>\n",
       "</div>"
      ],
      "text/plain": [
       "            speaker                                          utterance  \\\n",
       "0          Chandler  also I was the point person on my company's tr...   \n",
       "1   The Interviewer                   You must've had your hands full.   \n",
       "2          Chandler                            That I did. That I did.   \n",
       "3   The Interviewer      So let's talk a little bit about your duties.   \n",
       "4          Chandler                             My duties?  All right.   \n",
       "5          Chandler  also I was the point person on my company's tr...   \n",
       "6   The Interviewer                   You must've had your hands full.   \n",
       "7          Chandler                            That I did. That I did.   \n",
       "8   The Interviewer      So let's talk a little bit about your duties.   \n",
       "9          Chandler                             My duties?  All right.   \n",
       "10  The Interviewer  Now you'll be heading a whole division, so you...   \n",
       "11         Chandler                                             I see.   \n",
       "12         Chandler  also I was the point person on my company's tr...   \n",
       "13  The Interviewer                   You must've had your hands full.   \n",
       "14         Chandler                            That I did. That I did.   \n",
       "\n",
       "     emotion  trigger  \n",
       "0    neutral      0.0  \n",
       "1    neutral      0.0  \n",
       "2    neutral      0.0  \n",
       "3    neutral      1.0  \n",
       "4   surprise      0.0  \n",
       "5    neutral      0.0  \n",
       "6    neutral      0.0  \n",
       "7    neutral      0.0  \n",
       "8    neutral      0.0  \n",
       "9   surprise      0.0  \n",
       "10   neutral      1.0  \n",
       "11   neutral      0.0  \n",
       "12   neutral      0.0  \n",
       "13   neutral      0.0  \n",
       "14   neutral      0.0  "
      ]
     },
     "execution_count": 13,
     "metadata": {},
     "output_type": "execute_result"
    }
   ],
   "source": [
    "df_train_s = split_utterances(df_train)\n",
    "df_train_s.head(15)"
   ]
  },
  {
   "cell_type": "code",
   "execution_count": 14,
   "metadata": {},
   "outputs": [
    {
     "name": "stdout",
     "output_type": "stream",
     "text": [
      "     speaker                                          utterance   emotion  \\\n",
      "52  Chandler                                          Hey, Mon.   neutral   \n",
      "53    Monica  Hey-hey-hey. You wanna hear something that sucks.   neutral   \n",
      "54  Chandler                                         Do I ever.       joy   \n",
      "55  Chandler                                          Hey, Mon.   neutral   \n",
      "56    Monica  Hey-hey-hey. You wanna hear something that sucks.   neutral   \n",
      "57  Chandler                                         Do I ever.       joy   \n",
      "58    Monica           Chris says they're closing down the bar.   sadness   \n",
      "59  Chandler                                          Hey, Mon.   neutral   \n",
      "60    Monica  Hey-hey-hey. You wanna hear something that sucks.   neutral   \n",
      "61  Chandler                                         Do I ever.       joy   \n",
      "62    Monica           Chris says they're closing down the bar.   sadness   \n",
      "63  Chandler                                            No way!  surprise   \n",
      "64  Chandler                                          Hey, Mon.   neutral   \n",
      "65    Monica  Hey-hey-hey. You wanna hear something that sucks.   neutral   \n",
      "66  Chandler                                         Do I ever.       joy   \n",
      "67    Monica           Chris says they're closing down the bar.   sadness   \n",
      "68  Chandler                                            No way!  surprise   \n",
      "\n",
      "    trigger  \n",
      "52      0.0  \n",
      "53      1.0  \n",
      "54      0.0  \n",
      "55      0.0  \n",
      "56      0.0  \n",
      "57      0.0  \n",
      "58      1.0  \n",
      "59      0.0  \n",
      "60      0.0  \n",
      "61      0.0  \n",
      "62      1.0  \n",
      "63      0.0  \n",
      "64      0.0  \n",
      "65      0.0  \n",
      "66      0.0  \n",
      "67      0.0  \n",
      "68      1.0  \n"
     ]
    }
   ],
   "source": [
    "print(df_train_s.iloc[52:69,:])"
   ]
  },
  {
   "cell_type": "markdown",
   "metadata": {},
   "source": [
    "Ho notato che i trigger sono a 1.0 nei vari dialoghi *non* nelle stesse frasi. Ad esempio la stessa frase in un dialogo diverso, ha un trigger diverso. Riga 53 e riga 56 hanno la stessa frase ed emozione ma trigger diverso. Stessa cosa frase 63 e 68. \n",
    "\n",
    "Comincio a pensare che in realtà bisogna passare tutto il df così come lo si legge dal json."
   ]
  },
  {
   "cell_type": "code",
   "execution_count": 15,
   "metadata": {},
   "outputs": [],
   "source": [
    "df_test_s = split_utterances(df_test)\n",
    "\n",
    "df_val_s = split_utterances(df_val)"
   ]
  },
  {
   "cell_type": "markdown",
   "metadata": {},
   "source": [
    "### Data distributions\n",
    "Is the train dataset imbalanced? Verify emotions and triggers"
   ]
  },
  {
   "cell_type": "markdown",
   "metadata": {},
   "source": [
    "#### Emotions distribution"
   ]
  },
  {
   "cell_type": "code",
   "execution_count": 16,
   "metadata": {},
   "outputs": [
    {
     "name": "stdout",
     "output_type": "stream",
     "text": [
      "{'neutral': 12264, 'surprise': 3777, 'fear': 922, 'sadness': 1934, 'joy': 5141, 'disgust': 816, 'anger': 3031}\n"
     ]
    }
   ],
   "source": [
    "emotions_counts = {}\n",
    "for emotions in df_train['emotions']:\n",
    "    for emotion in emotions:\n",
    "        if emotion in emotions_counts:\n",
    "            emotions_counts[emotion] += 1\n",
    "        else:\n",
    "            emotions_counts[emotion] = 1\n",
    "\n",
    "print(emotions_counts)"
   ]
  },
  {
   "cell_type": "code",
   "execution_count": 17,
   "metadata": {},
   "outputs": [
    {
     "data": {
      "image/png": "[encoded data removed]",
      "text/plain": [
       "<Figure size 1000x600 with 1 Axes>"
      ]
     },
     "metadata": {},
     "output_type": "display_data"
    }
   ],
   "source": [
    "emotions = list(emotions_counts.keys())\n",
    "emotion_counts = list(emotions_counts.values())\n",
    "\n",
    "plt.figure(figsize=(10, 6))\n",
    "plt.bar(emotions, emotion_counts, color='violet')\n",
    "plt.xlabel('Emotions')\n",
    "plt.ylabel('Countw')\n",
    "plt.title('Emotions distribution in the training set')\n",
    "plt.xticks(rotation=45)\n",
    "plt.show()"
   ]
  },
  {
   "cell_type": "markdown",
   "metadata": {},
   "source": [
    "### Triggers distribution"
   ]
  },
  {
   "cell_type": "code",
   "execution_count": 18,
   "metadata": {},
   "outputs": [
    {
     "name": "stdout",
     "output_type": "stream",
     "text": [
      "{0.0: 23586, 1.0: 4299}\n"
     ]
    }
   ],
   "source": [
    "triggers_counts= {}\n",
    "for triggers in df_train['triggers']:\n",
    "    for trigger in triggers:\n",
    "        if trigger in triggers_counts:\n",
    "            triggers_counts[trigger] += 1\n",
    "        else:\n",
    "            triggers_counts[trigger] = 1\n",
    "print(triggers_counts)"
   ]
  },
  {
   "cell_type": "code",
   "execution_count": 19,
   "metadata": {},
   "outputs": [
    {
     "data": {
      "image/png": "[encoded data removed]",
      "text/plain": [
       "<Figure size 1000x600 with 1 Axes>"
      ]
     },
     "metadata": {},
     "output_type": "display_data"
    }
   ],
   "source": [
    "trigger = list(triggers_counts.keys())\n",
    "trigger_counts = list(triggers_counts.values())\n",
    "\n",
    "plt.figure(figsize=(10, 6))\n",
    "plt.bar(trigger, trigger_counts, color='skyblue')\n",
    "plt.xlabel('Triggers')\n",
    "plt.ylabel('Counts')\n",
    "plt.title('Triggers Distribution in the training set')\n",
    "plt.xticks(ticks=trigger, labels=['0.0', '1.0'], rotation=45)\n",
    "plt.show()"
   ]
  },
  {
   "cell_type": "markdown",
   "metadata": {},
   "source": [
    "As we can see both emotions and triggers are highly imbalanced, the emotion with the highest count is 'neutral' and the trigger with the highest count is '0.0'. \n",
    "\n",
    "When a class imbalance exists within the training data, machine learning models will typically over-classify the larger classes due to their increased prior probability. As a result, the instances belonging to the smaller class(es) are typically misclassified more often than those belonging to the larger class(es).\n",
    "\n",
    "How to deal with imbalanced data in classification? https://developers.google.com/machine-learning/data-prep/construct/sampling-splitting/imbalanced-data\n",
    "\n",
    "Class weights penso sia la strategia migliore da adottare per questo caso"
   ]
  },
  {
   "cell_type": "code",
   "execution_count": 20,
   "metadata": {},
   "outputs": [
    {
     "name": "stdout",
     "output_type": "stream",
     "text": [
      "Class weights: {'neutral': 0.03733342652129345, 'surprise': 0.12122243655206325, 'fear': 0.4965912612333437, 'sadness': 0.23674102526222485, 'joy': 0.08905993831105677, 'disgust': 0.5610994397759104, 'anger': 0.1510581137766885}\n"
     ]
    }
   ],
   "source": [
    "# Calcola i pesi delle classi\n",
    "total_samples = len(df_train)\n",
    "class_weights = {emotion: total_samples / (len(emotions_counts) * count) for emotion, count in emotions_counts.items()}\n",
    "\n",
    "print(\"Class weights:\", class_weights)"
   ]
  },
  {
   "cell_type": "markdown",
   "metadata": {},
   "source": [
    "Class weights computing using sklearn class_weight='balanced'"
   ]
  },
  {
   "cell_type": "code",
   "execution_count": 21,
   "metadata": {},
   "outputs": [
    {
     "name": "stdout",
     "output_type": "stream",
     "text": [
      "Emotion class weights: {'anger': 1.3142762878823584, 'disgust': 4.881827731092437, 'fear': 4.320576386736907, 'joy': 0.7748631450245922, 'neutral': 0.3248182834777747, 'sadness': 2.059757719013148, 'surprise': 1.0546919323726314}\n"
     ]
    }
   ],
   "source": [
    "all_emotions = [label for sublist in df_train['emotions'] for label in sublist]\n",
    "train_emotions = np.array(all_emotions)\n",
    "unique_emotions = np.unique(all_emotions)\n",
    "\n",
    "#weights\n",
    "emotion_weights = class_weight.compute_class_weight(class_weight='balanced', classes=unique_emotions, y=train_emotions)\n",
    "\n",
    "#save in dictionary\n",
    "emotions_weights_dict = dict(zip(unique_emotions, emotion_weights))\n",
    "\n",
    "print(\"Emotion class weights:\", emotions_weights_dict)"
   ]
  },
  {
   "cell_type": "code",
   "execution_count": 22,
   "metadata": {},
   "outputs": [
    {
     "name": "stdout",
     "output_type": "stream",
     "text": [
      "Trigger class weights: {0.0: 0.5911345713558891, 1.0: 3.243196092114445}\n"
     ]
    }
   ],
   "source": [
    "# Calcolo dei pesi per la colonna 'triggers'\n",
    "all_triggers = [label for sublist in df_train['triggers'] for label in sublist]\n",
    "train_triggers = np.array(all_triggers)\n",
    "unique_triggers = np.unique(all_triggers)\n",
    "\n",
    "trigger_weights = class_weight.compute_class_weight(class_weight='balanced', classes=unique_triggers, y=train_triggers)\n",
    "triggers_weights_dict = dict(zip(unique_triggers, trigger_weights))\n",
    "\n",
    "print(\"Trigger class weights:\", triggers_weights_dict)"
   ]
  },
  {
   "cell_type": "markdown",
   "metadata": {},
   "source": [
    "## Models definition"
   ]
  },
  {
   "cell_type": "markdown",
   "metadata": {},
   "source": [
    "You should train and evaluate a BERT baseline on two different settings:\n",
    "     \n",
    "     - Freezed: we freeze the BERT embedding layer weights and fine-tune the classifier heads on top\n",
    "     - Full: we fine-tune the whole model architecture. \n",
    "     \n",
    "Make sure you set a small enough batch size.  We recommend 1.\n",
    "\n",
    "We recommend `bert-base-uncased`.\n",
    "\n",
    "In addition, you should evaluate a random and a majority classifier for emotions and triggers.\n",
    "You should report a comparison with your selected model(s) and the provided baselines"
   ]
  },
  {
   "cell_type": "markdown",
   "metadata": {},
   "source": [
    "#### Baseline models \n",
    "Defining random and majority dummy classifiers "
   ]
  },
  {
   "cell_type": "code",
   "execution_count": 23,
   "metadata": {},
   "outputs": [],
   "source": [
    "random_emotions = DummyClassifier(strategy='uniform', random_state=42)\n",
    "majority_emotions = DummyClassifier(strategy='most_frequent', random_state=42)\n",
    "\n",
    "random_triggers = DummyClassifier(strategy='uniform', random_state=42)\n",
    "majority_triggers = DummyClassifier(strategy='most_frequent', random_state=42)"
   ]
  },
  {
   "cell_type": "markdown",
   "metadata": {},
   "source": [
    "## Evaluation Metrics"
   ]
  },
  {
   "cell_type": "markdown",
   "metadata": {},
   "source": [
    "## Training and evaluation"
   ]
  },
  {
   "cell_type": "markdown",
   "metadata": {},
   "source": [
    "### Fitting baseline models"
   ]
  },
  {
   "cell_type": "markdown",
   "metadata": {},
   "source": [
    "Comincio a pensare che non è questo il modo di passare i dati al modello, ma forse sarebbe più utile splittare le utterances in un \n",
    "singola frase e avere una struttura: (speaker) frase emotion trigger \n",
    "speaker direi che è opzionale \n",
    "\n",
    "Magari facciamo entrambe e vediamo qual è la performance migliore?\n",
    "\n",
    "Va ancora fatto l'encoding del dataset"
   ]
  },
  {
   "cell_type": "code",
   "execution_count": 24,
   "metadata": {},
   "outputs": [
    {
     "data": {
      "text/html": [
       "<div>\n",
       "<style scoped>\n",
       "    .dataframe tbody tr th:only-of-type {\n",
       "        vertical-align: middle;\n",
       "    }\n",
       "\n",
       "    .dataframe tbody tr th {\n",
       "        vertical-align: top;\n",
       "    }\n",
       "\n",
       "    .dataframe thead th {\n",
       "        text-align: right;\n",
       "    }\n",
       "</style>\n",
       "<table border=\"1\" class=\"dataframe\">\n",
       "  <thead>\n",
       "    <tr style=\"text-align: right;\">\n",
       "      <th></th>\n",
       "      <th>speaker</th>\n",
       "      <th>utterance</th>\n",
       "      <th>emotion</th>\n",
       "      <th>trigger</th>\n",
       "    </tr>\n",
       "  </thead>\n",
       "  <tbody>\n",
       "    <tr>\n",
       "      <th>0</th>\n",
       "      <td>Chandler</td>\n",
       "      <td>also I was the point person on my company's tr...</td>\n",
       "      <td>neutral</td>\n",
       "      <td>0.0</td>\n",
       "    </tr>\n",
       "    <tr>\n",
       "      <th>1</th>\n",
       "      <td>The Interviewer</td>\n",
       "      <td>You must've had your hands full.</td>\n",
       "      <td>neutral</td>\n",
       "      <td>0.0</td>\n",
       "    </tr>\n",
       "    <tr>\n",
       "      <th>2</th>\n",
       "      <td>Chandler</td>\n",
       "      <td>That I did. That I did.</td>\n",
       "      <td>neutral</td>\n",
       "      <td>0.0</td>\n",
       "    </tr>\n",
       "    <tr>\n",
       "      <th>3</th>\n",
       "      <td>The Interviewer</td>\n",
       "      <td>So let's talk a little bit about your duties.</td>\n",
       "      <td>neutral</td>\n",
       "      <td>1.0</td>\n",
       "    </tr>\n",
       "    <tr>\n",
       "      <th>4</th>\n",
       "      <td>Chandler</td>\n",
       "      <td>My duties?  All right.</td>\n",
       "      <td>surprise</td>\n",
       "      <td>0.0</td>\n",
       "    </tr>\n",
       "  </tbody>\n",
       "</table>\n",
       "</div>"
      ],
      "text/plain": [
       "           speaker                                          utterance  \\\n",
       "0         Chandler  also I was the point person on my company's tr...   \n",
       "1  The Interviewer                   You must've had your hands full.   \n",
       "2         Chandler                            That I did. That I did.   \n",
       "3  The Interviewer      So let's talk a little bit about your duties.   \n",
       "4         Chandler                             My duties?  All right.   \n",
       "\n",
       "    emotion  trigger  \n",
       "0   neutral      0.0  \n",
       "1   neutral      0.0  \n",
       "2   neutral      0.0  \n",
       "3   neutral      1.0  \n",
       "4  surprise      0.0  "
      ]
     },
     "execution_count": 24,
     "metadata": {},
     "output_type": "execute_result"
    }
   ],
   "source": [
    "df_train_s.head()"
   ]
  },
  {
   "cell_type": "code",
   "execution_count": 25,
   "metadata": {},
   "outputs": [],
   "source": [
    "X_train = df_train_s.drop(columns=['emotion', 'trigger'])\n",
    "\n",
    "y_train_emotions = df_train_s['emotion']\n",
    "y_train_triggers = df_train_s['trigger']"
   ]
  },
  {
   "cell_type": "code",
   "execution_count": 26,
   "metadata": {},
   "outputs": [],
   "source": [
    "X_test = df_test_s.drop(columns=['emotion', 'trigger'])\n",
    "\n",
    "y_test_emotions = df_test_s['emotion']\n",
    "y_test_triggers = df_test_s['trigger']"
   ]
  },
  {
   "cell_type": "markdown",
   "metadata": {},
   "source": [
    "Encoding\n",
    "\n",
    "ho fatto il OneHot Encoding perchè abbiamo a che fare con variabili categoriali nominali che non hanno quindi un ordine intrinseco."
   ]
  },
  {
   "cell_type": "code",
   "execution_count": 27,
   "metadata": {},
   "outputs": [],
   "source": [
    "oh_encoder = OneHotEncoder()\n",
    "\n",
    "#train\n",
    "X_train_encoded = oh_encoder.fit_transform(X_train).toarray()\n",
    "y_train_emotions_encoded = oh_encoder.fit_transform(y_train_emotions.values.reshape(-1, 1)).toarray()\n",
    "# Get the emotions ordered\n",
    "categories = oh_encoder.categories_[0]\n",
    "emotion_names = ['anger', 'disgust', 'fear', 'joy', 'neutral', 'sadness', 'surprise']\n",
    "\n",
    "y_train_triggers_encoded = oh_encoder.fit_transform(y_train_triggers.values.reshape(-1, 1)).toarray()\n",
    "#get the triggers ordered\n",
    "categories = oh_encoder.categories_[0]\n",
    "trigger_names = ['0.0', '1.0']\n",
    "\n",
    "#test\n",
    "X_test_encoded = oh_encoder.fit_transform(X_test).toarray()\n",
    "y_test_emotions_encoded = oh_encoder.fit_transform(y_test_emotions.values.reshape(-1, 1)).toarray()\n",
    "y_test_triggers_encoded = oh_encoder.fit_transform(y_test_triggers.values.reshape(-1, 1)).toarray()"
   ]
  },
  {
   "cell_type": "code",
   "execution_count": 28,
   "metadata": {},
   "outputs": [
    {
     "data": {
      "text/html": [
       "<style>#sk-container-id-1 {color: black;}#sk-container-id-1 pre{padding: 0;}#sk-container-id-1 div.sk-toggleable {background-color: white;}#sk-container-id-1 label.sk-toggleable__label {cursor: pointer;display: block;width: 100%;margin-bottom: 0;padding: 0.3em;box-sizing: border-box;text-align: center;}#sk-container-id-1 label.sk-toggleable__label-arrow:before {content: \"▸\";float: left;margin-right: 0.25em;color: #696969;}#sk-container-id-1 label.sk-toggleable__label-arrow:hover:before {color: black;}#sk-container-id-1 div.sk-estimator:hover label.sk-toggleable__label-arrow:before {color: black;}#sk-container-id-1 div.sk-toggleable__content {max-height: 0;max-width: 0;overflow: hidden;text-align: left;background-color: #f0f8ff;}#sk-container-id-1 div.sk-toggleable__content pre {margin: 0.2em;color: black;border-radius: 0.25em;background-color: #f0f8ff;}#sk-container-id-1 input.sk-toggleable__control:checked~div.sk-toggleable__content {max-height: 200px;max-width: 100%;overflow: auto;}#sk-container-id-1 input.sk-toggleable__control:checked~label.sk-toggleable__label-arrow:before {content: \"▾\";}#sk-container-id-1 div.sk-estimator input.sk-toggleable__control:checked~label.sk-toggleable__label {background-color: #d4ebff;}#sk-container-id-1 div.sk-label input.sk-toggleable__control:checked~label.sk-toggleable__label {background-color: #d4ebff;}#sk-container-id-1 input.sk-hidden--visually {border: 0;clip: rect(1px 1px 1px 1px);clip: rect(1px, 1px, 1px, 1px);height: 1px;margin: -1px;overflow: hidden;padding: 0;position: absolute;width: 1px;}#sk-container-id-1 div.sk-estimator {font-family: monospace;background-color: #f0f8ff;border: 1px dotted black;border-radius: 0.25em;box-sizing: border-box;margin-bottom: 0.5em;}#sk-container-id-1 div.sk-estimator:hover {background-color: #d4ebff;}#sk-container-id-1 div.sk-parallel-item::after {content: \"\";width: 100%;border-bottom: 1px solid gray;flex-grow: 1;}#sk-container-id-1 div.sk-label:hover label.sk-toggleable__label {background-color: #d4ebff;}#sk-container-id-1 div.sk-serial::before {content: \"\";position: absolute;border-left: 1px solid gray;box-sizing: border-box;top: 0;bottom: 0;left: 50%;z-index: 0;}#sk-container-id-1 div.sk-serial {display: flex;flex-direction: column;align-items: center;background-color: white;padding-right: 0.2em;padding-left: 0.2em;position: relative;}#sk-container-id-1 div.sk-item {position: relative;z-index: 1;}#sk-container-id-1 div.sk-parallel {display: flex;align-items: stretch;justify-content: center;background-color: white;position: relative;}#sk-container-id-1 div.sk-item::before, #sk-container-id-1 div.sk-parallel-item::before {content: \"\";position: absolute;border-left: 1px solid gray;box-sizing: border-box;top: 0;bottom: 0;left: 50%;z-index: -1;}#sk-container-id-1 div.sk-parallel-item {display: flex;flex-direction: column;z-index: 1;position: relative;background-color: white;}#sk-container-id-1 div.sk-parallel-item:first-child::after {align-self: flex-end;width: 50%;}#sk-container-id-1 div.sk-parallel-item:last-child::after {align-self: flex-start;width: 50%;}#sk-container-id-1 div.sk-parallel-item:only-child::after {width: 0;}#sk-container-id-1 div.sk-dashed-wrapped {border: 1px dashed gray;margin: 0 0.4em 0.5em 0.4em;box-sizing: border-box;padding-bottom: 0.4em;background-color: white;}#sk-container-id-1 div.sk-label label {font-family: monospace;font-weight: bold;display: inline-block;line-height: 1.2em;}#sk-container-id-1 div.sk-label-container {text-align: center;}#sk-container-id-1 div.sk-container {/* jupyter's `normalize.less` sets `[hidden] { display: none; }` but bootstrap.min.css set `[hidden] { display: none !important; }` so we also need the `!important` here to be able to override the default hidden behavior on the sphinx rendered scikit-learn.org. See: https://github.com/scikit-learn/scikit-learn/issues/21755 */display: inline-block !important;position: relative;}#sk-container-id-1 div.sk-text-repr-fallback {display: none;}</style><div id=\"sk-container-id-1\" class=\"sk-top-container\"><div class=\"sk-text-repr-fallback\"><pre>DummyClassifier(random_state=42, strategy=&#x27;most_frequent&#x27;)</pre><b>In a Jupyter environment, please rerun this cell to show the HTML representation or trust the notebook. <br />On GitHub, the HTML representation is unable to render, please try loading this page with nbviewer.org.</b></div><div class=\"sk-container\" hidden><div class=\"sk-item\"><div class=\"sk-estimator sk-toggleable\"><input class=\"sk-toggleable__control sk-hidden--visually\" id=\"sk-estimator-id-1\" type=\"checkbox\" checked><label for=\"sk-estimator-id-1\" class=\"sk-toggleable__label sk-toggleable__label-arrow\">DummyClassifier</label><div class=\"sk-toggleable__content\"><pre>DummyClassifier(random_state=42, strategy=&#x27;most_frequent&#x27;)</pre></div></div></div></div></div>"
      ],
      "text/plain": [
       "DummyClassifier(random_state=42, strategy='most_frequent')"
      ]
     },
     "execution_count": 28,
     "metadata": {},
     "output_type": "execute_result"
    }
   ],
   "source": [
    "random_emotions.fit(X_train_encoded, y_train_emotions_encoded)\n",
    "majority_emotions.fit(X_train_encoded, y_train_emotions_encoded)\n",
    "\n",
    "random_triggers.fit(X_train_encoded, y_train_triggers_encoded)\n",
    "majority_triggers.fit(X_train_encoded, y_train_triggers_encoded)"
   ]
  },
  {
   "cell_type": "markdown",
   "metadata": {},
   "source": [
    "### Evaluating baseline models"
   ]
  },
  {
   "cell_type": "code",
   "execution_count": 29,
   "metadata": {},
   "outputs": [],
   "source": [
    "y_pred_random_emotions = random_emotions.predict(X_test_encoded)\n",
    "y_pred_majority_emotions = majority_emotions.predict(X_test_encoded)\n",
    "\n",
    "y_pred_random_triggers = random_triggers.predict(X_test_encoded)\n",
    "y_pred_majority_triggers = majority_triggers.predict(X_test_encoded)"
   ]
  },
  {
   "cell_type": "code",
   "execution_count": 30,
   "metadata": {},
   "outputs": [
    {
     "name": "stdout",
     "output_type": "stream",
     "text": [
      "Classification report for baseline random clf emotions:\n",
      "              precision    recall  f1-score   support\n",
      "\n",
      "       anger       0.12      0.48      0.20       455\n",
      "     disgust       0.03      0.53      0.05        88\n",
      "        fear       0.03      0.48      0.06       121\n",
      "         joy       0.16      0.49      0.24       576\n",
      "     neutral       0.42      0.47      0.44      1505\n",
      "     sadness       0.08      0.43      0.14       349\n",
      "    surprise       0.13      0.53      0.21       439\n",
      "\n",
      "   micro avg       0.14      0.48      0.21      3533\n",
      "   macro avg       0.14      0.49      0.19      3533\n",
      "weighted avg       0.25      0.48      0.30      3533\n",
      " samples avg       0.14      0.48      0.21      3533\n",
      "\n",
      "Classification report for baseline majority clf emotions:\n",
      "              precision    recall  f1-score   support\n",
      "\n",
      "       anger       0.00      0.00      0.00       455\n",
      "     disgust       0.00      0.00      0.00        88\n",
      "        fear       0.00      0.00      0.00       121\n",
      "         joy       0.00      0.00      0.00       576\n",
      "     neutral       0.00      0.00      0.00      1505\n",
      "     sadness       0.00      0.00      0.00       349\n",
      "    surprise       0.00      0.00      0.00       439\n",
      "\n",
      "   micro avg       0.00      0.00      0.00      3533\n",
      "   macro avg       0.00      0.00      0.00      3533\n",
      "weighted avg       0.00      0.00      0.00      3533\n",
      " samples avg       0.00      0.00      0.00      3533\n",
      "\n",
      "Classification report for baseline random clf triggers:\n",
      "              precision    recall  f1-score   support\n",
      "\n",
      "         0.0       0.79      0.50      0.62      2777\n",
      "         1.0       0.21      0.49      0.29       756\n",
      "\n",
      "   micro avg       0.50      0.50      0.50      3533\n",
      "   macro avg       0.50      0.49      0.45      3533\n",
      "weighted avg       0.67      0.50      0.55      3533\n",
      " samples avg       0.37      0.50      0.42      3533\n",
      "\n",
      "Classification report for baseline majority clf triggers:\n",
      "              precision    recall  f1-score   support\n",
      "\n",
      "         0.0       0.79      1.00      0.88      2777\n",
      "         1.0       0.00      0.00      0.00       756\n",
      "\n",
      "   micro avg       0.79      0.79      0.79      3533\n",
      "   macro avg       0.39      0.50      0.44      3533\n",
      "weighted avg       0.62      0.79      0.69      3533\n",
      " samples avg       0.79      0.79      0.79      3533\n",
      "\n"
     ]
    }
   ],
   "source": [
    "#Classification reports \n",
    "\n",
    "#emotions\n",
    "print(\"Classification report for baseline random clf emotions:\")\n",
    "print(classification_report(y_test_emotions_encoded, y_pred_random_emotions, target_names=emotion_names, zero_division=0))\n",
    "\n",
    "print(\"Classification report for baseline majority clf emotions:\")\n",
    "print(classification_report(y_test_emotions_encoded, y_pred_majority_emotions, target_names=emotion_names, zero_division=0))\n",
    "\n",
    "#triggers\n",
    "print(\"Classification report for baseline random clf triggers:\")\n",
    "print(classification_report(y_test_triggers_encoded, y_pred_random_triggers, target_names=trigger_names, zero_division=0))\n",
    "\n",
    "print(\"Classification report for baseline majority clf triggers:\")\n",
    "print(classification_report(y_test_triggers_encoded, y_pred_majority_triggers, target_names=trigger_names, zero_division=0))"
   ]
  },
  {
   "cell_type": "markdown",
   "metadata": {},
   "source": [
    "### Metrics definition"
   ]
  },
  {
   "cell_type": "markdown",
   "metadata": {},
   "source": [
    "Ho interpretato le due metriche così:\n",
    "\n",
    "1. SEQUENCE F1-SCORE - per ogni istanza calcola l'F1-score fra l'array di labels predetto dal modello e l'array cdi true labels (sia per Triggers che per Emotions); poi computa il valor medio fra le istanze del DataFrame;\n",
    "2. UNROLLED F1-SCORE - opera un flatten di tutte le utterances, che vengono considerate come se facessero parte di un singolo dialogo: viene poi calcolato l'F1-score considerando l'array di tutte le labels predette dal modello per tutte le utterances facenti parte del DataFrame e l'array di tutte le true labels relative a tutte le utterances del DataFrame."
   ]
  },
  {
   "cell_type": "code",
   "execution_count": null,
   "metadata": {},
   "outputs": [],
   "source": [
    "def compute_metrics(df_with_predictions):\n",
    "    \"\"\"\n",
    "        Compute sequence and unrolled F1-scores for Triggers and Emotions for each dialogue in the DataFrame.\n",
    "\n",
    "        Input:\n",
    "            df_with_predictions: DataFrame containing the following columns:\n",
    "            - 'triggers': list of lists of ground truth trigger labels for each dialogue\n",
    "            - 'Predicted_Triggers': list of lists of predicted trigger labels for each dialogue\n",
    "            - 'emotions': list of lists of ground truth emotion labels for each dialogue\n",
    "            - 'Predicted_Emotions': list of lists of predicted emotion labels for each dialogue\n",
    "\n",
    "        Output:\n",
    "            Dictionary containing the following metrics:\n",
    "            - 'avg_sequence_f1_triggers': average F1-score for Triggers computed at the dialogue level\n",
    "            - 'avg_sequence_f1_emotions': average F1-score for Emotions computed at the dialogue level\n",
    "            - 'unrolled_f1_triggers': F1-score for Triggers computed at the utterance level\n",
    "            - 'unrolled_f1_emotions': F1-score for Emotions computed at the utterance level\n",
    "    \"\"\"\n",
    "    # Initialize lists to store F1-scores for each dialogue\n",
    "    sequence_f1_scores_triggers = []\n",
    "    sequence_f1_scores_emotions = []\n",
    "\n",
    "    # Iterate over each dialogue (instance)\n",
    "    for _, row in df_with_predictions.iterrows():\n",
    "        # Compute F1-score for Triggers\n",
    "        f1_triggers = f1_score(row['triggers'], row['Predicted_Triggers'], average='macro')\n",
    "        sequence_f1_scores_triggers.append(f1_triggers)\n",
    "\n",
    "        # Compute F1-score for Emotions\n",
    "        f1_emotions = f1_score(row['emotions'], row['Predicted_Emotions'], average='macro', labels=list(set(row['emotions'])))\n",
    "        sequence_f1_scores_emotions.append(f1_emotions)\n",
    "\n",
    "    # Compute average F1-score for each dialogue\n",
    "    avg_sequence_f1_triggers = sum(sequence_f1_scores_triggers) / len(sequence_f1_scores_triggers)\n",
    "    avg_sequence_f1_emotions = sum(sequence_f1_scores_emotions) / len(sequence_f1_scores_emotions)\n",
    "\n",
    "    # Flatten all utterances\n",
    "    all_true_triggers = [trigger for row in df['triggers'] for trigger in row]\n",
    "    all_predicted_triggers = [trigger for row in df['Predicted_Triggers'] for trigger in row]\n",
    "    all_true_emotions = [emotion for row in df['emotions'] for emotion in row]\n",
    "    all_predicted_emotions = [emotion for row in df['Predicted_Emotions'] for emotion in row]\n",
    "\n",
    "    # Compute F1-score for flattened utterances\n",
    "    unrolled_f1_triggers = f1_score(all_true_triggers, all_predicted_triggers, average='macro')\n",
    "    unrolled_f1_emotions = f1_score(all_true_emotions, all_predicted_emotions, average='macro', labels=list(set(all_true_emotions)))\n",
    "\n",
    "    return {\n",
    "        'avg_sequence_f1_triggers': avg_sequence_f1_triggers,\n",
    "        'avg_sequence_f1_emotions': avg_sequence_f1_emotions,\n",
    "        'unrolled_f1_triggers': unrolled_f1_triggers,\n",
    "        'unrolled_f1_emotions': unrolled_f1_emotions\n",
    "    }"
   ]
  },
  {
   "cell_type": "markdown",
   "metadata": {},
   "source": [
    "### OneHOTEncoding"
   ]
  },
  {
   "cell_type": "code",
   "execution_count": 39,
   "metadata": {},
   "outputs": [],
   "source": [
    "emotions_encoded_dict = {\n",
    "    \"neutral\": [1, 0, 0, 0, 0, 0, 0],\n",
    "    \"joy\": [0, 1, 0, 0, 0, 0, 0],\n",
    "    \"surprise\": [0, 0, 1, 0, 0, 0, 0],\n",
    "    \"sadness\": [0, 0, 0, 1, 0, 0, 0],\n",
    "    \"anger\": [0, 0, 0, 0, 1, 0, 0],\n",
    "    \"disgust\": [0, 0, 0, 0, 0, 1, 0],\n",
    "    \"fear\": [0, 0, 0, 0, 0, 0, 1]\n",
    "}"
   ]
  },
  {
   "cell_type": "code",
   "execution_count": 40,
   "metadata": {},
   "outputs": [],
   "source": [
    "triggers_encoded_dict = {\n",
    "    0: [1, 0],\n",
    "    1: [0, 1]\n",
    "}"
   ]
  },
  {
   "cell_type": "markdown",
   "metadata": {},
   "source": [
    "## BERT MODEL"
   ]
  },
  {
   "cell_type": "code",
   "execution_count": 53,
   "metadata": {},
   "outputs": [
    {
     "name": "stdout",
     "output_type": "stream",
     "text": [
      "   word_length\n",
      "0           16\n",
      "1           16\n",
      "2           17\n",
      "3           26\n",
      "4           11\n"
     ]
    },
    {
     "data": {
      "image/png": "[encoded data removed]",
      "text/plain": [
       "<Figure size 1000x600 with 1 Axes>"
      ]
     },
     "metadata": {},
     "output_type": "display_data"
    }
   ],
   "source": [
    "# Calcola la lunghezza di parole per ogni riga nella colonna 'text_column'\n",
    "df_length = pd.DataFrame()\n",
    "df_length['word_length'] = df['utterances'].apply(lambda arr: max(len(x.split()) for x in arr))\n",
    "\n",
    "print(df_length.head())\n",
    "\n",
    "# Trova la lunghezza massima\n",
    "max_length = df_length['word_length'].max()\n",
    "\n",
    "# Crea un grafico a barre\n",
    "plt.figure(figsize=(10, 6))\n",
    "plt.bar(df_length.index, df_length['word_length'], color='skyblue')\n",
    "plt.axhline(y=max_length, color='r', linestyle='--', label=f'Lunghezza massima: {max_length}')\n",
    "plt.xlabel('Indice')\n",
    "plt.ylabel('Lunghezza delle parole')\n",
    "plt.title('Lunghezza delle parole per ogni frase')\n",
    "plt.legend()\n",
    "plt.show()"
   ]
  },
  {
   "cell_type": "code",
   "execution_count": 52,
   "metadata": {},
   "outputs": [
    {
     "name": "stdout",
     "output_type": "stream",
     "text": [
      "   total_word_length\n",
      "0                 41\n",
      "1                 57\n",
      "2                 88\n",
      "3                115\n",
      "4                 30\n",
      "max length: 263\n"
     ]
    },
    {
     "data": {
      "image/png": "[encoded data removed]",
      "text/plain": [
       "<Figure size 1000x600 with 1 Axes>"
      ]
     },
     "metadata": {},
     "output_type": "display_data"
    }
   ],
   "source": [
    "# Calcola la lunghezza di parole per ogni riga nella colonna 'text_column'\n",
    "df_length = pd.DataFrame()\n",
    "df_length['total_word_length'] = df['utterances'].apply(lambda arr: sum(len(x.split()) for x in arr))\n",
    "\n",
    "# Trova la lunghezza massima\n",
    "max_length = df_length['total_word_length'].max()\n",
    "print(f\"max length: {max_length}\")\n",
    "\n",
    "# Crea un istogramma\n",
    "plt.figure(figsize=(10, 6))\n",
    "plt.hist(df_length['total_word_length'], bins=range(0, df_length['total_word_length'].max() + 1, 1), color='violet', edgecolor='black')\n",
    "plt.xlabel('Numero di parole in un dialogo')\n",
    "plt.ylabel('Numero di dialoghi')\n",
    "plt.title('Distribuzione del numero di parole nei dialoghi')\n",
    "plt.show()"
   ]
  },
  {
   "cell_type": "markdown",
   "metadata": {},
   "source": [
    "Non mi fido che questo calcolo sia corretto "
   ]
  },
  {
   "cell_type": "code",
   "execution_count": 55,
   "metadata": {},
   "outputs": [],
   "source": [
    "tokenizer = AutoTokenizer.from_pretrained('bert-base-uncased')\n",
    "MAX_LENGTH = 270 #da ricontrollare la lunghezza massima\n",
    "BATCH_SIZE = 1 #richiesta dal prof se non sbaglio"
   ]
  },
  {
   "cell_type": "code",
   "execution_count": 54,
   "metadata": {},
   "outputs": [],
   "source": [
    "#definizione del dataset per BERT\n",
    "class BERTDataset(Dataset):\n",
    "\n",
    "    def __init__(self, utterances, tokenizer, max_len):\n",
    "        self.row = utterances\n",
    "        self.tokenizer = tokenizer\n",
    "        self.max_len = max_len\n",
    "\n",
    "    def __len__(self):\n",
    "        return len(self.row)\n",
    "    \n",
    "    def __getitem__(self, index):\n",
    "        sentence = self.row.iloc[index]\n",
    "        utterance = sentence[\"utterances\"]\n",
    "        emotions = sentence[\"emotions\"]\n",
    "        triggers = sentence[\"triggers\"]\n",
    "        target_emotion = emotions_encoded_dict[emotions]\n",
    "        target_trigger = triggers_encoded_dict[triggers]\n",
    "\n",
    "        encoding = self.tokenizer.encode_plus(\n",
    "            utterance,\n",
    "            add_special_tokens=True,\n",
    "            max_length=self.max_len,\n",
    "            return_token_type_ids=True,\n",
    "            padding=\"max_length\",\n",
    "            truncation=True, \n",
    "        )\n",
    "\n",
    "        input_ids = encoding[\"input_ids\"]\n",
    "        attention_mask = encoding[\"attention_mask\"]\n",
    "        token_type_ids = encoding[\"token_type_ids\"]\n",
    "\n",
    "        return {\n",
    "            \"input_ids\": torch.tensor(input_ids, dtype=torch.long),\n",
    "            \"attention_mask\": torch.tensor(attention_mask, dtype=torch.long),\n",
    "            \"token_type_ids\": torch.tensor(token_type_ids, dtype=torch.long),\n",
    "            \"target_emotion\": torch.tensor(target_emotion, dtype=torch.float),\n",
    "            \"target_trigger\": torch.tensor(target_trigger, dtype=torch.float),\n",
    "        }"
   ]
  },
  {
   "cell_type": "code",
   "execution_count": 56,
   "metadata": {},
   "outputs": [],
   "source": [
    "bert_train_dataset = BERTDataset(df_train, tokenizer, MAX_LENGTH)\n",
    "bert_test_dataset = BERTDataset(df_val, tokenizer, MAX_LENGTH)\n",
    "bert_val_dataset = BERTDataset(df_val, tokenizer, MAX_LENGTH)\n",
    "\n",
    "train_loader= DataLoader(bert_train_dataset, batch_size=BATCH_SIZE, shuffle=True) #ricontrollare se shuffle deve essere true o false\n",
    "test_loader = DataLoader(bert_test_dataset, batch_size=BATCH_SIZE, shuffle=False)\n",
    "val_loader = DataLoader(bert_val_dataset, batch_size=BATCH_SIZE, shuffle=False)"
   ]
  },
  {
   "cell_type": "code",
   "execution_count": 58,
   "metadata": {},
   "outputs": [],
   "source": [
    "#definizione del modello BERT\n",
    "class BERTClass(torch.nn.Module):\n",
    "    def __init__(self,model):\n",
    "        super(BERTClass, self).__init__()\n",
    "        self.l1 = transformers.AutoModel.from_pretrained(model, return_dict=False)\n",
    "        # Emotions\n",
    "        self.l2 = torch.nn.Dropout(p=0.3)\n",
    "        self.l3 = torch.nn.Linear(self.l1.config.hidden_size, 7)\n",
    "        # Triggers\n",
    "        self.l4 = torch.nn.Dropout(p=0.3)\n",
    "        self.l5 = torch.nn.Linear(self.l1.config.hidden_size, 2)\n",
    "\n",
    "    def forward(self, ids, mask, token_type_ids):\n",
    "        _, output_1= self.l1(ids, attention_mask = mask, token_type_ids = token_type_ids)\n",
    "        output_emotions = self.l2(output_1)\n",
    "        output_emotions = self.l3(output_emotions)\n",
    "        output_trigger = self.l4(output_1)\n",
    "        output_trigger = self.l5(output_trigger)\n",
    "        return output_emotions, output_trigger"
   ]
  },
  {
   "cell_type": "code",
   "execution_count": 59,
   "metadata": {},
   "outputs": [
    {
     "name": "stderr",
     "output_type": "stream",
     "text": [
      "A parameter name that contains `beta` will be renamed internally to `bias`. Please use a different name to suppress this warning.\n",
      "A parameter name that contains `gamma` will be renamed internally to `weight`. Please use a different name to suppress this warning.\n",
      "A parameter name that contains `beta` will be renamed internally to `bias`. Please use a different name to suppress this warning.\n",
      "A parameter name that contains `gamma` will be renamed internally to `weight`. Please use a different name to suppress this warning.\n",
      "A parameter name that contains `beta` will be renamed internally to `bias`. Please use a different name to suppress this warning.\n",
      "A parameter name that contains `gamma` will be renamed internally to `weight`. Please use a different name to suppress this warning.\n",
      "A parameter name that contains `beta` will be renamed internally to `bias`. Please use a different name to suppress this warning.\n",
      "A parameter name that contains `gamma` will be renamed internally to `weight`. Please use a different name to suppress this warning.\n",
      "A parameter name that contains `beta` will be renamed internally to `bias`. Please use a different name to suppress this warning.\n",
      "A parameter name that contains `gamma` will be renamed internally to `weight`. Please use a different name to suppress this warning.\n",
      "A parameter name that contains `beta` will be renamed internally to `bias`. Please use a different name to suppress this warning.\n",
      "A parameter name that contains `gamma` will be renamed internally to `weight`. Please use a different name to suppress this warning.\n",
      "A parameter name that contains `beta` will be renamed internally to `bias`. Please use a different name to suppress this warning.\n",
      "A parameter name that contains `gamma` will be renamed internally to `weight`. Please use a different name to suppress this warning.\n",
      "A parameter name that contains `beta` will be renamed internally to `bias`. Please use a different name to suppress this warning.\n",
      "A parameter name that contains `gamma` will be renamed internally to `weight`. Please use a different name to suppress this warning.\n",
      "A parameter name that contains `beta` will be renamed internally to `bias`. Please use a different name to suppress this warning.\n",
      "A parameter name that contains `gamma` will be renamed internally to `weight`. Please use a different name to suppress this warning.\n",
      "A parameter name that contains `beta` will be renamed internally to `bias`. Please use a different name to suppress this warning.\n",
      "A parameter name that contains `gamma` will be renamed internally to `weight`. Please use a different name to suppress this warning.\n",
      "A parameter name that contains `beta` will be renamed internally to `bias`. Please use a different name to suppress this warning.\n",
      "A parameter name that contains `gamma` will be renamed internally to `weight`. Please use a different name to suppress this warning.\n",
      "A parameter name that contains `beta` will be renamed internally to `bias`. Please use a different name to suppress this warning.\n",
      "A parameter name that contains `gamma` will be renamed internally to `weight`. Please use a different name to suppress this warning.\n",
      "A parameter name that contains `beta` will be renamed internally to `bias`. Please use a different name to suppress this warning.\n",
      "A parameter name that contains `gamma` will be renamed internally to `weight`. Please use a different name to suppress this warning.\n",
      "A parameter name that contains `beta` will be renamed internally to `bias`. Please use a different name to suppress this warning.\n",
      "A parameter name that contains `gamma` will be renamed internally to `weight`. Please use a different name to suppress this warning.\n",
      "A parameter name that contains `beta` will be renamed internally to `bias`. Please use a different name to suppress this warning.\n",
      "A parameter name that contains `gamma` will be renamed internally to `weight`. Please use a different name to suppress this warning.\n",
      "A parameter name that contains `beta` will be renamed internally to `bias`. Please use a different name to suppress this warning.\n",
      "A parameter name that contains `gamma` will be renamed internally to `weight`. Please use a different name to suppress this warning.\n",
      "A parameter name that contains `beta` will be renamed internally to `bias`. Please use a different name to suppress this warning.\n",
      "A parameter name that contains `gamma` will be renamed internally to `weight`. Please use a different name to suppress this warning.\n",
      "A parameter name that contains `beta` will be renamed internally to `bias`. Please use a different name to suppress this warning.\n",
      "A parameter name that contains `gamma` will be renamed internally to `weight`. Please use a different name to suppress this warning.\n",
      "A parameter name that contains `beta` will be renamed internally to `bias`. Please use a different name to suppress this warning.\n",
      "A parameter name that contains `gamma` will be renamed internally to `weight`. Please use a different name to suppress this warning.\n",
      "A parameter name that contains `beta` will be renamed internally to `bias`. Please use a different name to suppress this warning.\n",
      "A parameter name that contains `gamma` will be renamed internally to `weight`. Please use a different name to suppress this warning.\n",
      "A parameter name that contains `beta` will be renamed internally to `bias`. Please use a different name to suppress this warning.\n",
      "A parameter name that contains `gamma` will be renamed internally to `weight`. Please use a different name to suppress this warning.\n",
      "A parameter name that contains `beta` will be renamed internally to `bias`. Please use a different name to suppress this warning.\n",
      "A parameter name that contains `gamma` will be renamed internally to `weight`. Please use a different name to suppress this warning.\n",
      "A parameter name that contains `beta` will be renamed internally to `bias`. Please use a different name to suppress this warning.\n",
      "A parameter name that contains `gamma` will be renamed internally to `weight`. Please use a different name to suppress this warning.\n",
      "A parameter name that contains `beta` will be renamed internally to `bias`. Please use a different name to suppress this warning.\n",
      "A parameter name that contains `gamma` will be renamed internally to `weight`. Please use a different name to suppress this warning.\n",
      "A parameter name that contains `beta` will be renamed internally to `bias`. Please use a different name to suppress this warning.\n",
      "A parameter name that contains `gamma` will be renamed internally to `weight`. Please use a different name to suppress this warning.\n",
      "A parameter name that contains `beta` will be renamed internally to `bias`. Please use a different name to suppress this warning.\n",
      "A parameter name that contains `gamma` will be renamed internally to `weight`. Please use a different name to suppress this warning.\n",
      "A parameter name that contains `beta` will be renamed internally to `bias`. Please use a different name to suppress this warning.\n",
      "A parameter name that contains `gamma` will be renamed internally to `weight`. Please use a different name to suppress this warning.\n",
      "A parameter name that contains `beta` will be renamed internally to `bias`. Please use a different name to suppress this warning.\n",
      "A parameter name that contains `gamma` will be renamed internally to `weight`. Please use a different name to suppress this warning.\n",
      "A parameter name that contains `beta` will be renamed internally to `bias`. Please use a different name to suppress this warning.\n",
      "A parameter name that contains `gamma` will be renamed internally to `weight`. Please use a different name to suppress this warning.\n",
      "A parameter name that contains `beta` will be renamed internally to `bias`. Please use a different name to suppress this warning.\n",
      "A parameter name that contains `gamma` will be renamed internally to `weight`. Please use a different name to suppress this warning.\n",
      "A parameter name that contains `beta` will be renamed internally to `bias`. Please use a different name to suppress this warning.\n",
      "A parameter name that contains `gamma` will be renamed internally to `weight`. Please use a different name to suppress this warning.\n",
      "A parameter name that contains `beta` will be renamed internally to `bias`. Please use a different name to suppress this warning.\n",
      "A parameter name that contains `gamma` will be renamed internally to `weight`. Please use a different name to suppress this warning.\n",
      "A parameter name that contains `beta` will be renamed internally to `bias`. Please use a different name to suppress this warning.\n",
      "A parameter name that contains `gamma` will be renamed internally to `weight`. Please use a different name to suppress this warning.\n",
      "A parameter name that contains `beta` will be renamed internally to `bias`. Please use a different name to suppress this warning.\n",
      "A parameter name that contains `gamma` will be renamed internally to `weight`. Please use a different name to suppress this warning.\n",
      "A parameter name that contains `beta` will be renamed internally to `bias`. Please use a different name to suppress this warning.\n",
      "A parameter name that contains `gamma` will be renamed internally to `weight`. Please use a different name to suppress this warning.\n",
      "A parameter name that contains `beta` will be renamed internally to `bias`. Please use a different name to suppress this warning.\n",
      "A parameter name that contains `gamma` will be renamed internally to `weight`. Please use a different name to suppress this warning.\n",
      "A parameter name that contains `beta` will be renamed internally to `bias`. Please use a different name to suppress this warning.\n",
      "A parameter name that contains `gamma` will be renamed internally to `weight`. Please use a different name to suppress this warning.\n",
      "A parameter name that contains `beta` will be renamed internally to `bias`. Please use a different name to suppress this warning.\n",
      "A parameter name that contains `gamma` will be renamed internally to `weight`. Please use a different name to suppress this warning.\n",
      "A parameter name that contains `beta` will be renamed internally to `bias`. Please use a different name to suppress this warning.\n",
      "A parameter name that contains `gamma` will be renamed internally to `weight`. Please use a different name to suppress this warning.\n",
      "A parameter name that contains `beta` will be renamed internally to `bias`. Please use a different name to suppress this warning.\n",
      "A parameter name that contains `gamma` will be renamed internally to `weight`. Please use a different name to suppress this warning.\n",
      "A parameter name that contains `beta` will be renamed internally to `bias`. Please use a different name to suppress this warning.\n",
      "A parameter name that contains `gamma` will be renamed internally to `weight`. Please use a different name to suppress this warning.\n",
      "A parameter name that contains `beta` will be renamed internally to `bias`. Please use a different name to suppress this warning.\n",
      "A parameter name that contains `gamma` will be renamed internally to `weight`. Please use a different name to suppress this warning.\n",
      "A parameter name that contains `beta` will be renamed internally to `bias`. Please use a different name to suppress this warning.\n",
      "A parameter name that contains `gamma` will be renamed internally to `weight`. Please use a different name to suppress this warning.\n",
      "A parameter name that contains `beta` will be renamed internally to `bias`. Please use a different name to suppress this warning.\n",
      "A parameter name that contains `gamma` will be renamed internally to `weight`. Please use a different name to suppress this warning.\n",
      "A parameter name that contains `beta` will be renamed internally to `bias`. Please use a different name to suppress this warning.\n",
      "A parameter name that contains `gamma` will be renamed internally to `weight`. Please use a different name to suppress this warning.\n",
      "A parameter name that contains `beta` will be renamed internally to `bias`. Please use a different name to suppress this warning.\n",
      "A parameter name that contains `gamma` will be renamed internally to `weight`. Please use a different name to suppress this warning.\n",
      "A parameter name that contains `beta` will be renamed internally to `bias`. Please use a different name to suppress this warning.\n",
      "A parameter name that contains `gamma` will be renamed internally to `weight`. Please use a different name to suppress this warning.\n",
      "A parameter name that contains `beta` will be renamed internally to `bias`. Please use a different name to suppress this warning.\n",
      "A parameter name that contains `gamma` will be renamed internally to `weight`. Please use a different name to suppress this warning.\n",
      "A parameter name that contains `beta` will be renamed internally to `bias`. Please use a different name to suppress this warning.\n",
      "A parameter name that contains `gamma` will be renamed internally to `weight`. Please use a different name to suppress this warning.\n",
      "A parameter name that contains `beta` will be renamed internally to `bias`. Please use a different name to suppress this warning.\n",
      "A parameter name that contains `gamma` will be renamed internally to `weight`. Please use a different name to suppress this warning.\n",
      "A parameter name that contains `beta` will be renamed internally to `bias`. Please use a different name to suppress this warning.\n",
      "A parameter name that contains `gamma` will be renamed internally to `weight`. Please use a different name to suppress this warning.\n",
      "A parameter name that contains `beta` will be renamed internally to `bias`. Please use a different name to suppress this warning.\n",
      "A parameter name that contains `gamma` will be renamed internally to `weight`. Please use a different name to suppress this warning.\n"
     ]
    }
   ],
   "source": [
    "model_name = 'bert-base-uncased'\n",
    "\n",
    "full_model = BERTClass(model_name)\n",
    "\n",
    "freezed_model = BERTClass(model_name)\n",
    "# IMPLEMENTAZIONE DELLA FREEZED VERSION CON I PESI CONGELATI\n",
    "for param in freezed_model.l1.parameters():\n",
    "    param.requires_grad = False"
   ]
  },
  {
   "cell_type": "markdown",
   "metadata": {},
   "source": [
    "Da fare d'ora in poi:\n",
    "- loss function\n",
    "- evaluation/validation functions \n",
    "- train function \n",
    "- train effettivo sul train set e validation su val set\n",
    "- metrics su test set\n",
    "- conclusions"
   ]
  }
 ],
 "metadata": {
  "kernelspec": {
   "display_name": "base",
   "language": "python",
   "name": "python3"
  },
  "language_info": {
   "codemirror_mode": {
    "name": "ipython",
    "version": 3
   },
   "file_extension": ".py",
   "mimetype": "text/x-python",
   "name": "python",
   "nbconvert_exporter": "python",
   "pygments_lexer": "ipython3",
   "version": "3.11.5"
  }
 },
 "nbformat": 4,
 "nbformat_minor": 2
}
