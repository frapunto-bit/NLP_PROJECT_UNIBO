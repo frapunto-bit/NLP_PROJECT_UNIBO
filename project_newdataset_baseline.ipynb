{
  "cells": [
    {
      "cell_type": "markdown",
      "metadata": {
        "id": "4vNLQ1mMxoyP"
      },
      "source": [
        "# NLP Standard Project\n",
        "Emotion Discovery and Reasoning its Flip in Conversation (EDiReF) - SemEval 2024 – Task 10 - Task C – EFR in English conversation:\n",
        "Given a multiparty code-mixed conversation along with emotions for each utterance, the goal is to identify the trigger utterance for each emotionflip in the dialogue"
      ]
    },
    {
      "cell_type": "code",
      "execution_count": 249,
      "metadata": {
        "id": "LkqnnuCWxoyV"
      },
      "outputs": [],
      "source": [
        "import pandas as pd\n",
        "import numpy as np\n",
        "\n",
        "#data visualization\n",
        "import matplotlib.pyplot as plt\n",
        "\n",
        "#modeling\n",
        "from sklearn.model_selection import train_test_split\n",
        "from sklearn.dummy import DummyClassifier\n",
        "from sklearn.utils.class_weight import compute_class_weight\n",
        "from sklearn.utils import class_weight\n",
        "\n",
        "import torch\n",
        "\n",
        "#metrics\n",
        "from sklearn.metrics import classification_report"
      ]
    },
    {
      "cell_type": "markdown",
      "metadata": {
        "id": "spq3E5eZxoyY"
      },
      "source": [
        "## Data Loading"
      ]
    },
    {
      "cell_type": "markdown",
      "metadata": {
        "id": "oxLfbiV-xoyZ"
      },
      "source": [
        "Load the JSON in a Pandas Dataframe"
      ]
    },
    {
      "cell_type": "code",
      "execution_count": 250,
      "metadata": {
        "id": "sw7RKmb3xoya",
        "outputId": "7a3ea149-08ea-4082-94dd-2a44ee155993",
        "colab": {
          "base_uri": "https://localhost:8080/"
        }
      },
      "outputs": [
        {
          "output_type": "execute_result",
          "data": {
            "text/plain": [
              "(4000, 5)"
            ]
          },
          "metadata": {},
          "execution_count": 250
        }
      ],
      "source": [
        "file_path_train = 'MELD_train_efr.json'\n",
        "\n",
        "df = pd.read_json(file_path_train)\n",
        "\n",
        "df.shape"
      ]
    },
    {
      "cell_type": "code",
      "execution_count": 251,
      "metadata": {
        "id": "W2lwy8f2xoyc",
        "outputId": "92a9823e-c4ac-46c7-90c4-ef7bd2639bab",
        "colab": {
          "base_uri": "https://localhost:8080/",
          "height": 206
        }
      },
      "outputs": [
        {
          "output_type": "execute_result",
          "data": {
            "text/plain": [
              "       episode                                           speakers  \\\n",
              "0  utterance_0  [Chandler, The Interviewer, Chandler, The Inte...   \n",
              "1  utterance_1  [Chandler, The Interviewer, Chandler, The Inte...   \n",
              "2  utterance_2  [Chandler, The Interviewer, Chandler, The Inte...   \n",
              "3  utterance_3  [Chandler, The Interviewer, Chandler, The Inte...   \n",
              "4  utterance_4                       [Joey, Rachel, Joey, Rachel]   \n",
              "\n",
              "                                            emotions  \\\n",
              "0     [neutral, neutral, neutral, neutral, surprise]   \n",
              "1  [neutral, neutral, neutral, neutral, surprise,...   \n",
              "2  [neutral, neutral, neutral, neutral, surprise,...   \n",
              "3  [neutral, neutral, neutral, neutral, surprise,...   \n",
              "4                [surprise, sadness, surprise, fear]   \n",
              "\n",
              "                                          utterances  \\\n",
              "0  [also I was the point person on my company's t...   \n",
              "1  [also I was the point person on my company's t...   \n",
              "2  [also I was the point person on my company's t...   \n",
              "3  [also I was the point person on my company's t...   \n",
              "4  [But then who? The waitress I went out with la...   \n",
              "\n",
              "                                            triggers  \n",
              "0                          [0.0, 0.0, 0.0, 1.0, 0.0]  \n",
              "1                [0.0, 0.0, 0.0, 0.0, 0.0, 1.0, 0.0]  \n",
              "2  [0.0, 0.0, 0.0, 0.0, 0.0, 0.0, 0.0, 1.0, 0.0, ...  \n",
              "3  [0.0, 0.0, 0.0, 0.0, 0.0, 0.0, 0.0, 0.0, 0.0, ...  \n",
              "4                               [0.0, 0.0, 1.0, 0.0]  "
            ],
            "text/html": [
              "\n",
              "  <div id=\"df-0c1af9bf-ba9a-4a3e-b63b-ecd2267566f1\" class=\"colab-df-container\">\n",
              "    <div>\n",
              "<style scoped>\n",
              "    .dataframe tbody tr th:only-of-type {\n",
              "        vertical-align: middle;\n",
              "    }\n",
              "\n",
              "    .dataframe tbody tr th {\n",
              "        vertical-align: top;\n",
              "    }\n",
              "\n",
              "    .dataframe thead th {\n",
              "        text-align: right;\n",
              "    }\n",
              "</style>\n",
              "<table border=\"1\" class=\"dataframe\">\n",
              "  <thead>\n",
              "    <tr style=\"text-align: right;\">\n",
              "      <th></th>\n",
              "      <th>episode</th>\n",
              "      <th>speakers</th>\n",
              "      <th>emotions</th>\n",
              "      <th>utterances</th>\n",
              "      <th>triggers</th>\n",
              "    </tr>\n",
              "  </thead>\n",
              "  <tbody>\n",
              "    <tr>\n",
              "      <th>0</th>\n",
              "      <td>utterance_0</td>\n",
              "      <td>[Chandler, The Interviewer, Chandler, The Inte...</td>\n",
              "      <td>[neutral, neutral, neutral, neutral, surprise]</td>\n",
              "      <td>[also I was the point person on my company's t...</td>\n",
              "      <td>[0.0, 0.0, 0.0, 1.0, 0.0]</td>\n",
              "    </tr>\n",
              "    <tr>\n",
              "      <th>1</th>\n",
              "      <td>utterance_1</td>\n",
              "      <td>[Chandler, The Interviewer, Chandler, The Inte...</td>\n",
              "      <td>[neutral, neutral, neutral, neutral, surprise,...</td>\n",
              "      <td>[also I was the point person on my company's t...</td>\n",
              "      <td>[0.0, 0.0, 0.0, 0.0, 0.0, 1.0, 0.0]</td>\n",
              "    </tr>\n",
              "    <tr>\n",
              "      <th>2</th>\n",
              "      <td>utterance_2</td>\n",
              "      <td>[Chandler, The Interviewer, Chandler, The Inte...</td>\n",
              "      <td>[neutral, neutral, neutral, neutral, surprise,...</td>\n",
              "      <td>[also I was the point person on my company's t...</td>\n",
              "      <td>[0.0, 0.0, 0.0, 0.0, 0.0, 0.0, 0.0, 1.0, 0.0, ...</td>\n",
              "    </tr>\n",
              "    <tr>\n",
              "      <th>3</th>\n",
              "      <td>utterance_3</td>\n",
              "      <td>[Chandler, The Interviewer, Chandler, The Inte...</td>\n",
              "      <td>[neutral, neutral, neutral, neutral, surprise,...</td>\n",
              "      <td>[also I was the point person on my company's t...</td>\n",
              "      <td>[0.0, 0.0, 0.0, 0.0, 0.0, 0.0, 0.0, 0.0, 0.0, ...</td>\n",
              "    </tr>\n",
              "    <tr>\n",
              "      <th>4</th>\n",
              "      <td>utterance_4</td>\n",
              "      <td>[Joey, Rachel, Joey, Rachel]</td>\n",
              "      <td>[surprise, sadness, surprise, fear]</td>\n",
              "      <td>[But then who? The waitress I went out with la...</td>\n",
              "      <td>[0.0, 0.0, 1.0, 0.0]</td>\n",
              "    </tr>\n",
              "  </tbody>\n",
              "</table>\n",
              "</div>\n",
              "    <div class=\"colab-df-buttons\">\n",
              "\n",
              "  <div class=\"colab-df-container\">\n",
              "    <button class=\"colab-df-convert\" onclick=\"convertToInteractive('df-0c1af9bf-ba9a-4a3e-b63b-ecd2267566f1')\"\n",
              "            title=\"Convert this dataframe to an interactive table.\"\n",
              "            style=\"display:none;\">\n",
              "\n",
              "  <svg xmlns=\"http://www.w3.org/2000/svg\" height=\"24px\" viewBox=\"0 -960 960 960\">\n",
              "    <path d=\"M120-120v-720h720v720H120Zm60-500h600v-160H180v160Zm220 220h160v-160H400v160Zm0 220h160v-160H400v160ZM180-400h160v-160H180v160Zm440 0h160v-160H620v160ZM180-180h160v-160H180v160Zm440 0h160v-160H620v160Z\"/>\n",
              "  </svg>\n",
              "    </button>\n",
              "\n",
              "  <style>\n",
              "    .colab-df-container {\n",
              "      display:flex;\n",
              "      gap: 12px;\n",
              "    }\n",
              "\n",
              "    .colab-df-convert {\n",
              "      background-color: #E8F0FE;\n",
              "      border: none;\n",
              "      border-radius: 50%;\n",
              "      cursor: pointer;\n",
              "      display: none;\n",
              "      fill: #1967D2;\n",
              "      height: 32px;\n",
              "      padding: 0 0 0 0;\n",
              "      width: 32px;\n",
              "    }\n",
              "\n",
              "    .colab-df-convert:hover {\n",
              "      background-color: #E2EBFA;\n",
              "      box-shadow: 0px 1px 2px rgba(60, 64, 67, 0.3), 0px 1px 3px 1px rgba(60, 64, 67, 0.15);\n",
              "      fill: #174EA6;\n",
              "    }\n",
              "\n",
              "    .colab-df-buttons div {\n",
              "      margin-bottom: 4px;\n",
              "    }\n",
              "\n",
              "    [theme=dark] .colab-df-convert {\n",
              "      background-color: #3B4455;\n",
              "      fill: #D2E3FC;\n",
              "    }\n",
              "\n",
              "    [theme=dark] .colab-df-convert:hover {\n",
              "      background-color: #434B5C;\n",
              "      box-shadow: 0px 1px 3px 1px rgba(0, 0, 0, 0.15);\n",
              "      filter: drop-shadow(0px 1px 2px rgba(0, 0, 0, 0.3));\n",
              "      fill: #FFFFFF;\n",
              "    }\n",
              "  </style>\n",
              "\n",
              "    <script>\n",
              "      const buttonEl =\n",
              "        document.querySelector('#df-0c1af9bf-ba9a-4a3e-b63b-ecd2267566f1 button.colab-df-convert');\n",
              "      buttonEl.style.display =\n",
              "        google.colab.kernel.accessAllowed ? 'block' : 'none';\n",
              "\n",
              "      async function convertToInteractive(key) {\n",
              "        const element = document.querySelector('#df-0c1af9bf-ba9a-4a3e-b63b-ecd2267566f1');\n",
              "        const dataTable =\n",
              "          await google.colab.kernel.invokeFunction('convertToInteractive',\n",
              "                                                    [key], {});\n",
              "        if (!dataTable) return;\n",
              "\n",
              "        const docLinkHtml = 'Like what you see? Visit the ' +\n",
              "          '<a target=\"_blank\" href=https://colab.research.google.com/notebooks/data_table.ipynb>data table notebook</a>'\n",
              "          + ' to learn more about interactive tables.';\n",
              "        element.innerHTML = '';\n",
              "        dataTable['output_type'] = 'display_data';\n",
              "        await google.colab.output.renderOutput(dataTable, element);\n",
              "        const docLink = document.createElement('div');\n",
              "        docLink.innerHTML = docLinkHtml;\n",
              "        element.appendChild(docLink);\n",
              "      }\n",
              "    </script>\n",
              "  </div>\n",
              "\n",
              "\n",
              "<div id=\"df-2e1b825e-7007-4a48-970c-90eab6dd3c78\">\n",
              "  <button class=\"colab-df-quickchart\" onclick=\"quickchart('df-2e1b825e-7007-4a48-970c-90eab6dd3c78')\"\n",
              "            title=\"Suggest charts\"\n",
              "            style=\"display:none;\">\n",
              "\n",
              "<svg xmlns=\"http://www.w3.org/2000/svg\" height=\"24px\"viewBox=\"0 0 24 24\"\n",
              "     width=\"24px\">\n",
              "    <g>\n",
              "        <path d=\"M19 3H5c-1.1 0-2 .9-2 2v14c0 1.1.9 2 2 2h14c1.1 0 2-.9 2-2V5c0-1.1-.9-2-2-2zM9 17H7v-7h2v7zm4 0h-2V7h2v10zm4 0h-2v-4h2v4z\"/>\n",
              "    </g>\n",
              "</svg>\n",
              "  </button>\n",
              "\n",
              "<style>\n",
              "  .colab-df-quickchart {\n",
              "      --bg-color: #E8F0FE;\n",
              "      --fill-color: #1967D2;\n",
              "      --hover-bg-color: #E2EBFA;\n",
              "      --hover-fill-color: #174EA6;\n",
              "      --disabled-fill-color: #AAA;\n",
              "      --disabled-bg-color: #DDD;\n",
              "  }\n",
              "\n",
              "  [theme=dark] .colab-df-quickchart {\n",
              "      --bg-color: #3B4455;\n",
              "      --fill-color: #D2E3FC;\n",
              "      --hover-bg-color: #434B5C;\n",
              "      --hover-fill-color: #FFFFFF;\n",
              "      --disabled-bg-color: #3B4455;\n",
              "      --disabled-fill-color: #666;\n",
              "  }\n",
              "\n",
              "  .colab-df-quickchart {\n",
              "    background-color: var(--bg-color);\n",
              "    border: none;\n",
              "    border-radius: 50%;\n",
              "    cursor: pointer;\n",
              "    display: none;\n",
              "    fill: var(--fill-color);\n",
              "    height: 32px;\n",
              "    padding: 0;\n",
              "    width: 32px;\n",
              "  }\n",
              "\n",
              "  .colab-df-quickchart:hover {\n",
              "    background-color: var(--hover-bg-color);\n",
              "    box-shadow: 0 1px 2px rgba(60, 64, 67, 0.3), 0 1px 3px 1px rgba(60, 64, 67, 0.15);\n",
              "    fill: var(--button-hover-fill-color);\n",
              "  }\n",
              "\n",
              "  .colab-df-quickchart-complete:disabled,\n",
              "  .colab-df-quickchart-complete:disabled:hover {\n",
              "    background-color: var(--disabled-bg-color);\n",
              "    fill: var(--disabled-fill-color);\n",
              "    box-shadow: none;\n",
              "  }\n",
              "\n",
              "  .colab-df-spinner {\n",
              "    border: 2px solid var(--fill-color);\n",
              "    border-color: transparent;\n",
              "    border-bottom-color: var(--fill-color);\n",
              "    animation:\n",
              "      spin 1s steps(1) infinite;\n",
              "  }\n",
              "\n",
              "  @keyframes spin {\n",
              "    0% {\n",
              "      border-color: transparent;\n",
              "      border-bottom-color: var(--fill-color);\n",
              "      border-left-color: var(--fill-color);\n",
              "    }\n",
              "    20% {\n",
              "      border-color: transparent;\n",
              "      border-left-color: var(--fill-color);\n",
              "      border-top-color: var(--fill-color);\n",
              "    }\n",
              "    30% {\n",
              "      border-color: transparent;\n",
              "      border-left-color: var(--fill-color);\n",
              "      border-top-color: var(--fill-color);\n",
              "      border-right-color: var(--fill-color);\n",
              "    }\n",
              "    40% {\n",
              "      border-color: transparent;\n",
              "      border-right-color: var(--fill-color);\n",
              "      border-top-color: var(--fill-color);\n",
              "    }\n",
              "    60% {\n",
              "      border-color: transparent;\n",
              "      border-right-color: var(--fill-color);\n",
              "    }\n",
              "    80% {\n",
              "      border-color: transparent;\n",
              "      border-right-color: var(--fill-color);\n",
              "      border-bottom-color: var(--fill-color);\n",
              "    }\n",
              "    90% {\n",
              "      border-color: transparent;\n",
              "      border-bottom-color: var(--fill-color);\n",
              "    }\n",
              "  }\n",
              "</style>\n",
              "\n",
              "  <script>\n",
              "    async function quickchart(key) {\n",
              "      const quickchartButtonEl =\n",
              "        document.querySelector('#' + key + ' button');\n",
              "      quickchartButtonEl.disabled = true;  // To prevent multiple clicks.\n",
              "      quickchartButtonEl.classList.add('colab-df-spinner');\n",
              "      try {\n",
              "        const charts = await google.colab.kernel.invokeFunction(\n",
              "            'suggestCharts', [key], {});\n",
              "      } catch (error) {\n",
              "        console.error('Error during call to suggestCharts:', error);\n",
              "      }\n",
              "      quickchartButtonEl.classList.remove('colab-df-spinner');\n",
              "      quickchartButtonEl.classList.add('colab-df-quickchart-complete');\n",
              "    }\n",
              "    (() => {\n",
              "      let quickchartButtonEl =\n",
              "        document.querySelector('#df-2e1b825e-7007-4a48-970c-90eab6dd3c78 button');\n",
              "      quickchartButtonEl.style.display =\n",
              "        google.colab.kernel.accessAllowed ? 'block' : 'none';\n",
              "    })();\n",
              "  </script>\n",
              "</div>\n",
              "\n",
              "    </div>\n",
              "  </div>\n"
            ],
            "application/vnd.google.colaboratory.intrinsic+json": {
              "type": "dataframe",
              "variable_name": "df",
              "summary": "{\n  \"name\": \"df\",\n  \"rows\": 4000,\n  \"fields\": [\n    {\n      \"column\": \"episode\",\n      \"properties\": {\n        \"dtype\": \"string\",\n        \"num_unique_values\": 4000,\n        \"samples\": [\n          \"utterance_555\",\n          \"utterance_3491\",\n          \"utterance_527\"\n        ],\n        \"semantic_type\": \"\",\n        \"description\": \"\"\n      }\n    },\n    {\n      \"column\": \"speakers\",\n      \"properties\": {\n        \"dtype\": \"object\",\n        \"semantic_type\": \"\",\n        \"description\": \"\"\n      }\n    },\n    {\n      \"column\": \"emotions\",\n      \"properties\": {\n        \"dtype\": \"object\",\n        \"semantic_type\": \"\",\n        \"description\": \"\"\n      }\n    },\n    {\n      \"column\": \"utterances\",\n      \"properties\": {\n        \"dtype\": \"object\",\n        \"semantic_type\": \"\",\n        \"description\": \"\"\n      }\n    },\n    {\n      \"column\": \"triggers\",\n      \"properties\": {\n        \"dtype\": \"object\",\n        \"semantic_type\": \"\",\n        \"description\": \"\"\n      }\n    }\n  ]\n}"
            }
          },
          "metadata": {},
          "execution_count": 251
        }
      ],
      "source": [
        "df.head()"
      ]
    },
    {
      "cell_type": "markdown",
      "metadata": {
        "id": "-5lsITDexoyd"
      },
      "source": [
        "Drop episode column since it is only an index and it is not useful for the task"
      ]
    },
    {
      "cell_type": "code",
      "execution_count": 252,
      "metadata": {
        "id": "L-fhCMyLxoye"
      },
      "outputs": [],
      "source": [
        "#df = df_train.drop(columns=['episode'])\n",
        "#print(f\"Dataframe shape after dropping column: {df.shape}\")\n",
        "#df.head()"
      ]
    },
    {
      "cell_type": "markdown",
      "metadata": {
        "id": "gBp0k7h_xoyf"
      },
      "source": [
        "## Preprocessing"
      ]
    },
    {
      "cell_type": "markdown",
      "metadata": {
        "id": "fAQhSGChxoyf"
      },
      "source": [
        "### NaN values\n",
        "Some trigger labels are not correctly formatted and appear as NaN -> we convert them to zero to avoid errors."
      ]
    },
    {
      "cell_type": "code",
      "execution_count": 253,
      "metadata": {
        "id": "vYG0_rvpxoyg",
        "outputId": "d5e0a4e4-76c7-4f39-f92f-d7cc4088a396",
        "colab": {
          "base_uri": "https://localhost:8080/"
        }
      },
      "outputs": [
        {
          "output_type": "stream",
          "name": "stdout",
          "text": [
            "Number of NaN values: 9\n"
          ]
        }
      ],
      "source": [
        "count = sum(elem != 1 and elem != 0 for row in df[\"triggers\"] for elem in row)\n",
        "print(f\"Number of NaN values: {count}\")"
      ]
    },
    {
      "cell_type": "code",
      "execution_count": 254,
      "metadata": {
        "id": "hNy2_f-dxoyh"
      },
      "outputs": [],
      "source": [
        "df[\"triggers\"] = df[\"triggers\"].apply(lambda x: [0.0 if elem != 1 and elem != 0 else elem for elem in x])"
      ]
    },
    {
      "cell_type": "code",
      "execution_count": 255,
      "metadata": {
        "id": "M8KOZ-l0xoyi",
        "outputId": "03d08437-4615-424d-a4f4-d464b8475dee",
        "colab": {
          "base_uri": "https://localhost:8080/"
        }
      },
      "outputs": [
        {
          "output_type": "stream",
          "name": "stdout",
          "text": [
            "Number of NaN values: 0\n"
          ]
        }
      ],
      "source": [
        "count = sum(elem != 1 and elem != 0 for row in df[\"triggers\"] for elem in row)\n",
        "print(f\"Number of NaN values: {count}\")"
      ]
    },
    {
      "cell_type": "markdown",
      "metadata": {
        "id": "7Dc1vUCMxoyi"
      },
      "source": [
        "### Split data\n",
        "80/10/10 train/val/test split"
      ]
    },
    {
      "cell_type": "code",
      "execution_count": 256,
      "metadata": {
        "id": "Mi5EHykSxoyj",
        "outputId": "4cc65f13-1b11-4127-93fa-10cd2e8e40a0",
        "colab": {
          "base_uri": "https://localhost:8080/"
        }
      },
      "outputs": [
        {
          "output_type": "stream",
          "name": "stdout",
          "text": [
            "Train shape: (3200, 5)\n",
            "Test shape: (400, 5)\n",
            "Val shape: (400, 5)\n"
          ]
        }
      ],
      "source": [
        "df_train, temp = train_test_split(df, test_size=0.2, shuffle=False)\n",
        "df_test, df_val = train_test_split(temp, test_size=0.5, shuffle=False)\n",
        "\n",
        "print(f\"Train shape: {df_train.shape}\")\n",
        "print(f\"Test shape: {df_test.shape}\")\n",
        "print(f\"Val shape: {df_val.shape}\")"
      ]
    },
    {
      "cell_type": "code",
      "execution_count": 257,
      "metadata": {
        "id": "RgR_VWl4xoyj",
        "outputId": "e7d20627-5640-4773-dd7b-e420782e9971",
        "colab": {
          "base_uri": "https://localhost:8080/"
        }
      },
      "outputs": [
        {
          "output_type": "stream",
          "name": "stdout",
          "text": [
            "Dialogue in the last row of df_train: [\"Dr. Geller, there's a seat over here.\", \"Thank you, Dr. Phillips, but I'm having my lunch at this table, here in the middle.\", \"I'm having lunch right here, with my good friend Joey, if he'll sit with me.\", 'I will sit with you Dr. Geller.', \"Y'know, we work in a museum of natural history, and yet there is something unnatural about the way we eat lunch.\", \"Now, I look around this cafeteria, and y'know what I see, I see-I see division.\", 'Division, between people in white coats and people in blue blazers, and I ask myself, \"My God why?!\"', 'Now, I say we shed these-these coats that separate us, and we get to know the people underneath.']\n"
          ]
        }
      ],
      "source": [
        "print(f\"Dialogue in the last row of df_train: {df_train['utterances'][3199]}\")"
      ]
    },
    {
      "cell_type": "code",
      "execution_count": 258,
      "metadata": {
        "id": "vA0kL9l8xoyk",
        "outputId": "62d3c20c-10c4-4dda-9ea3-26f88828dd8b",
        "colab": {
          "base_uri": "https://localhost:8080/"
        }
      },
      "outputs": [
        {
          "output_type": "stream",
          "name": "stdout",
          "text": [
            "Dialogue in the first row of df_test: [\"Dr. Geller, there's a seat over here.\", \"Thank you, Dr. Phillips, but I'm having my lunch at this table, here in the middle.\", \"I'm having lunch right here, with my good friend Joey, if he'll sit with me.\", 'I will sit with you Dr. Geller.', \"Y'know, we work in a museum of natural history, and yet there is something unnatural about the way we eat lunch.\", \"Now, I look around this cafeteria, and y'know what I see, I see-I see division.\", 'Division, between people in white coats and people in blue blazers, and I ask myself, \"My God why?!\"', 'Now, I say we shed these-these coats that separate us, and we get to know the people underneath.', \"I'm Ross!\"]\n"
          ]
        }
      ],
      "source": [
        "print(f\"Dialogue in the first row of df_test: {df_test['utterances'][3200]}\")"
      ]
    },
    {
      "cell_type": "code",
      "execution_count": 259,
      "metadata": {
        "id": "nChYcXUuxoyl",
        "outputId": "fd5ef04f-286f-4b8c-e3e4-7048664c7f04",
        "colab": {
          "base_uri": "https://localhost:8080/"
        }
      },
      "outputs": [
        {
          "output_type": "stream",
          "name": "stdout",
          "text": [
            "Il discorso continua fino all'utterance numero 3205\n",
            "Dialogue: [\"Dr. Geller, there's a seat over here.\", \"Thank you, Dr. Phillips, but I'm having my lunch at this table, here in the middle.\", \"I'm having lunch right here, with my good friend Joey, if he'll sit with me.\", 'I will sit with you Dr. Geller.', \"Y'know, we work in a museum of natural history, and yet there is something unnatural about the way we eat lunch.\", \"Now, I look around this cafeteria, and y'know what I see, I see-I see division.\", 'Division, between people in white coats and people in blue blazers, and I ask myself, \"My God why?!\"', 'Now, I say we shed these-these coats that separate us, and we get to know the people underneath.', \"I'm Ross!\", \"I'm divorced, and I have a kid!\", \"I'm Joey! I'm an actor! I don't know squat about dinosaurs!\", \"I'm Ted, and I just moved here a month ago, and New York really scares me.\", 'All right, there you go!', 'Yeah, you hang in there Teddy!', \"I'm Andrew, and I didn't pay for this pear.\", 'Okay, good-good for you.', \"I'm Rhonda,  and these aren't real!\", 'Wow, Rhonda.', \"I'm Scott.\", 'Yeah, okay, Scott!', 'And I need to flip the light switch on and off 17 times before I leave a room or my family will die.']\n"
          ]
        }
      ],
      "source": [
        "print(f\"Il discorso continua fino all'utterance numero 3205\")\n",
        "print(f\"Dialogue: {df_test['utterances'][3205]}\")"
      ]
    },
    {
      "cell_type": "code",
      "execution_count": 260,
      "metadata": {
        "id": "SxRc-WlFxoym",
        "outputId": "71d72ab6-7c71-4e59-8981-9b8fb8ae639c",
        "colab": {
          "base_uri": "https://localhost:8080/"
        }
      },
      "outputs": [
        {
          "output_type": "stream",
          "name": "stdout",
          "text": [
            "Dialogue in the last row of df_test: ['Oh, that is so unfortunate.', 'What?', 'Cute naked guy is really starting to put on weight.', \"Okay, I'll be back in just a minute. Oh, Phoebe I'm sorry that I left lipstick marks on the phone.\", \"You didn't leave lipstick marks on the phone.\", \"Oh, then it must've been you. Bye.\", \"Bye-bye!  That's why I moved out.\", \"Hey, y'know while we're on that, when are you gonna tell my sister that you don't live here anymore.\", 'I think on some levels she already knows.']\n"
          ]
        }
      ],
      "source": [
        "print(f\"Dialogue in the last row of df_test: {df_test['utterances'][3599]}\")"
      ]
    },
    {
      "cell_type": "code",
      "execution_count": 261,
      "metadata": {
        "id": "lCSji3kPxoyn",
        "outputId": "95cfb6f8-1800-4d7a-bb66-e4a7cbc990f7",
        "colab": {
          "base_uri": "https://localhost:8080/"
        }
      },
      "outputs": [
        {
          "output_type": "stream",
          "name": "stdout",
          "text": [
            "Dialogue in the first row of df_val: ['Night Mon. Night Julio.', 'Adiós.', 'Look Julio, someone left their book here.', 'Ah actually, that is mine.', 'Oh yeah, what are you reading?']\n"
          ]
        }
      ],
      "source": [
        "print(f\"Dialogue in the first row of df_val: {df_val['utterances'][3600]}\")"
      ]
    },
    {
      "cell_type": "markdown",
      "metadata": {
        "id": "7-cBMmHbxoyn"
      },
      "source": [
        "Effettivamente pare che il discorso venga splittato in due tra train e test però il prof specifica nelle raccomandazioni: \"Given the dataset format, this property should be trivially guaranteed.\"\n",
        "\n",
        "Dal forum: \"According to the instructions, you are free to perform data splitting as you prefer and motivate your decision accordingly.\n",
        "In other words, there is no explicit penalization for data splitting.\n",
        "Note that this doesn't mean that potential issues/consequences are evaluated equally.\n",
        "Think about what you would do in a real-world scenario.\n",
        "To sum up, we evaluate your understanding of the problem and your corresponding actions.\""
      ]
    },
    {
      "cell_type": "code",
      "execution_count": 262,
      "metadata": {
        "id": "DhhBxfn3xoyo",
        "outputId": "eaa98b2b-5b4b-43f5-84bc-58768c40a829",
        "colab": {
          "base_uri": "https://localhost:8080/"
        }
      },
      "outputs": [
        {
          "output_type": "stream",
          "name": "stdout",
          "text": [
            "Train shape: (3205, 5)\n",
            "Test shape: (397, 5)\n",
            "Val shape: (398, 5)\n"
          ]
        }
      ],
      "source": [
        "df_train = df.iloc[:3205,:]\n",
        "temp = df.iloc[3205:,:]\n",
        "\n",
        "df_test, df_val = train_test_split(temp, test_size=0.5, shuffle=False)\n",
        "\n",
        "print(f\"Train shape: {df_train.shape}\")\n",
        "print(f\"Test shape: {df_test.shape}\")\n",
        "print(f\"Val shape: {df_val.shape}\")"
      ]
    },
    {
      "cell_type": "code",
      "execution_count": 263,
      "metadata": {
        "id": "qYgKOjGexoyp",
        "outputId": "9973d637-47f0-4834-dfc5-076fdcf2b078",
        "colab": {
          "base_uri": "https://localhost:8080/"
        }
      },
      "outputs": [
        {
          "output_type": "stream",
          "name": "stdout",
          "text": [
            "Dialouge in the last row of df_test: ['Night Mon. Night Julio.', 'Adiós.', 'Look Julio, someone left their book here.', 'Ah actually, that is mine.', 'Oh yeah, what are you reading?', 'Flowers of Evil, by Beaudalire. Have you read it?', 'Have I read it?  No, are you enjoying it?', \"I thought I would, but the translation's no good.\", \"Your a poet and don't know it.\", 'Actually I ah, I am a poet.', 'Oh, then you do know it.  So um what kind of things do you write about?', 'Things that move me. The, the shadow of a tree, a child laughing, or this lip.', 'Mine?  Right here?', 'I can write an epic poem about this lip.']\n"
          ]
        }
      ],
      "source": [
        "print(f\"Dialouge in the last row of df_test: {df_test['utterances'][3601]}\")"
      ]
    },
    {
      "cell_type": "code",
      "execution_count": 264,
      "metadata": {
        "id": "a25VcmfVxoyp",
        "outputId": "84d83a7d-0a8f-4825-b9cf-da00e8f705cd",
        "colab": {
          "base_uri": "https://localhost:8080/"
        }
      },
      "outputs": [
        {
          "output_type": "stream",
          "name": "stdout",
          "text": [
            "Dialouge in the first row of df_val: ['Night Mon. Night Julio.', 'Adiós.', 'Look Julio, someone left their book here.', 'Ah actually, that is mine.', 'Oh yeah, what are you reading?', 'Flowers of Evil, by Beaudalire. Have you read it?', 'Have I read it?  No, are you enjoying it?', \"I thought I would, but the translation's no good.\", \"Your a poet and don't know it.\", 'Actually I ah, I am a poet.', 'Oh, then you do know it.  So um what kind of things do you write about?', 'Things that move me. The, the shadow of a tree, a child laughing, or this lip.', 'Mine?  Right here?', 'I can write an epic poem about this lip.', \"How would that go?  Well, it didn't rhyme, but I liked it.\"]\n"
          ]
        }
      ],
      "source": [
        "print(f\"Dialouge in the first row of df_val: {df_val['utterances'][3602]}\")"
      ]
    },
    {
      "cell_type": "markdown",
      "metadata": {
        "id": "1h_GHX-Hxoyq"
      },
      "source": [
        "Ancora un dialogo splittato tra test e val"
      ]
    },
    {
      "cell_type": "code",
      "execution_count": 265,
      "metadata": {
        "id": "fGLybtDNxoyq"
      },
      "outputs": [],
      "source": [
        "df_train = df.iloc[:3205,:]\n",
        "df_test = df.iloc[3205:3603,:]\n",
        "df_val = df.iloc[3603:,:]"
      ]
    },
    {
      "cell_type": "code",
      "execution_count": 266,
      "metadata": {
        "id": "co7v0AoUxoyq",
        "outputId": "808b8839-4bdb-4dac-91c5-accecd5cecdb",
        "colab": {
          "base_uri": "https://localhost:8080/"
        }
      },
      "outputs": [
        {
          "output_type": "stream",
          "name": "stdout",
          "text": [
            "Dialouge in the last row of df_test: ['Night Mon. Night Julio.', 'Adiós.', 'Look Julio, someone left their book here.', 'Ah actually, that is mine.', 'Oh yeah, what are you reading?', 'Flowers of Evil, by Beaudalire. Have you read it?', 'Have I read it?  No, are you enjoying it?', \"I thought I would, but the translation's no good.\", \"Your a poet and don't know it.\", 'Actually I ah, I am a poet.', 'Oh, then you do know it.  So um what kind of things do you write about?', 'Things that move me. The, the shadow of a tree, a child laughing, or this lip.', 'Mine?  Right here?', 'I can write an epic poem about this lip.']\n"
          ]
        }
      ],
      "source": [
        "print(f\"Dialouge in the last row of df_test: {df_test['utterances'][3601]}\")"
      ]
    },
    {
      "cell_type": "code",
      "execution_count": 267,
      "metadata": {
        "id": "hPnnlDnFxoyr",
        "outputId": "fe0a0b6c-a5bf-4b7e-b6b8-00015bf6c70d",
        "colab": {
          "base_uri": "https://localhost:8080/"
        }
      },
      "outputs": [
        {
          "output_type": "stream",
          "name": "stdout",
          "text": [
            "Dialouge in the first row of df_val: ['Last stop, Montreal. This stop is Montreal.', 'What?', 'I made a bet with myself that you have beautiful eyes. Now that I see them, I win.', 'What?', \"We're at my stop. But would you like to have coffee?\", 'Are we really in Montreal?!', 'Yes we are. So, coffee?', 'Coffee sounds great.  Wait, so, so you live in Montreal?']\n"
          ]
        }
      ],
      "source": [
        "print(f\"Dialouge in the first row of df_val: {df_val['utterances'][3603]}\")"
      ]
    },
    {
      "cell_type": "markdown",
      "metadata": {
        "id": "ITCrqgcIxoyr"
      },
      "source": [
        "Questa dovrebbe essere la shape dei dataset"
      ]
    },
    {
      "cell_type": "code",
      "execution_count": 268,
      "metadata": {
        "id": "1sLpVp9pxoys",
        "outputId": "5307c044-5ca1-42f4-bf2c-37e7965ba374",
        "colab": {
          "base_uri": "https://localhost:8080/"
        }
      },
      "outputs": [
        {
          "output_type": "stream",
          "name": "stdout",
          "text": [
            "Train shape: (3205, 5)\n",
            "Test shape: (398, 5)\n",
            "Val shape: (397, 5)\n"
          ]
        }
      ],
      "source": [
        "print(f\"Train shape: {df_train.shape}\")\n",
        "print(f\"Test shape: {df_test.shape}\")\n",
        "print(f\"Val shape: {df_val.shape}\")"
      ]
    },
    {
      "cell_type": "markdown",
      "metadata": {
        "id": "HNNMCh0rxoys"
      },
      "source": [
        "### Data distributions\n",
        "Is the train dataset imbalanced? Verify emotions and triggers"
      ]
    },
    {
      "cell_type": "markdown",
      "metadata": {
        "id": "Q2x-92kqxoyt"
      },
      "source": [
        "#### Emotions distribution"
      ]
    },
    {
      "cell_type": "code",
      "execution_count": 269,
      "metadata": {
        "id": "YXYqlXoixoyt",
        "outputId": "36f7db35-b75f-48cd-bedb-313d68e4a550",
        "colab": {
          "base_uri": "https://localhost:8080/"
        }
      },
      "outputs": [
        {
          "output_type": "stream",
          "name": "stdout",
          "text": [
            "{'neutral': 12264, 'surprise': 3777, 'fear': 922, 'sadness': 1934, 'joy': 5141, 'disgust': 816, 'anger': 3031}\n"
          ]
        }
      ],
      "source": [
        "emotions_counts = {}\n",
        "for emotions in df_train['emotions']:\n",
        "    for emotion in emotions:\n",
        "        if emotion in emotions_counts:\n",
        "            emotions_counts[emotion] += 1\n",
        "        else:\n",
        "            emotions_counts[emotion] = 1\n",
        "\n",
        "print(emotions_counts)"
      ]
    },
    {
      "cell_type": "code",
      "execution_count": 270,
      "metadata": {
        "id": "P0qRO7D8xoyu",
        "outputId": "f66d5147-9cd7-40ca-ab34-aa442408b7a0",
        "colab": {
          "base_uri": "https://localhost:8080/",
          "height": 600
        }
      },
      "outputs": [
        {
          "output_type": "display_data",
          "data": {
            "text/plain": [
              "<Figure size 1000x600 with 1 Axes>"
            ],
            "image/png": "[encoded data removed]"
          },
          "metadata": {}
        }
      ],
      "source": [
        "emotions = list(emotions_counts.keys())\n",
        "emotion_counts = list(emotions_counts.values())\n",
        "\n",
        "plt.figure(figsize=(10, 6))\n",
        "plt.bar(emotions, emotion_counts, color='violet')\n",
        "plt.xlabel('Emotions')\n",
        "plt.ylabel('Countw')\n",
        "plt.title('Emotions distribution in the training set')\n",
        "plt.xticks(rotation=45)\n",
        "plt.show()"
      ]
    },
    {
      "cell_type": "markdown",
      "metadata": {
        "id": "wh_1nxK6xoyu"
      },
      "source": [
        "### Triggers distribution"
      ]
    },
    {
      "cell_type": "code",
      "execution_count": 271,
      "metadata": {
        "id": "uZKRq5Nnxoyv",
        "outputId": "f9ffddf6-3287-4d38-b394-88651b930461",
        "colab": {
          "base_uri": "https://localhost:8080/"
        }
      },
      "outputs": [
        {
          "output_type": "stream",
          "name": "stdout",
          "text": [
            "{0.0: 23586, 1.0: 4299}\n"
          ]
        }
      ],
      "source": [
        "triggers_counts= {}\n",
        "for triggers in df_train['triggers']:\n",
        "    for trigger in triggers:\n",
        "        if trigger in triggers_counts:\n",
        "            triggers_counts[trigger] += 1\n",
        "        else:\n",
        "            triggers_counts[trigger] = 1\n",
        "print(triggers_counts)"
      ]
    },
    {
      "cell_type": "code",
      "execution_count": 272,
      "metadata": {
        "id": "XmdUENU0xoyv",
        "outputId": "bc5e680b-30e7-4b2f-e280-ab0430dac81f",
        "colab": {
          "base_uri": "https://localhost:8080/",
          "height": 576
        }
      },
      "outputs": [
        {
          "output_type": "display_data",
          "data": {
            "text/plain": [
              "<Figure size 1000x600 with 1 Axes>"
            ],
            "image/png": "[encoded data removed]"
          },
          "metadata": {}
        }
      ],
      "source": [
        "trigger = list(triggers_counts.keys())\n",
        "trigger_counts = list(triggers_counts.values())\n",
        "\n",
        "plt.figure(figsize=(10, 6))\n",
        "plt.bar(trigger, trigger_counts, color='skyblue')\n",
        "plt.xlabel('Triggers')\n",
        "plt.ylabel('Counts')\n",
        "plt.title('Triggers Distribution in the training set')\n",
        "plt.xticks(ticks=trigger, labels=['0.0', '1.0'], rotation=45)\n",
        "plt.show()"
      ]
    },
    {
      "cell_type": "markdown",
      "metadata": {
        "id": "MOHDYgHBxoyw"
      },
      "source": [
        "As we can see both emotions and triggers are highly imbalanced, the emotion with the highest count is 'neutral' and the trigger with the highest count is '0.0'.\n",
        "\n",
        "When a class imbalance exists within the training data, machine learning models will typically over-classify the larger classes due to their increased prior probability. As a result, the instances belonging to the smaller class(es) are typically misclassified more often than those belonging to the larger class(es).\n",
        "\n",
        "How to deal with imbalanced data in classification? https://developers.google.com/machine-learning/data-prep/construct/sampling-splitting/imbalanced-data\n",
        "\n",
        "Class weights penso sia la strategia migliore da adottare per questo caso"
      ]
    },
    {
      "cell_type": "code",
      "execution_count": 273,
      "metadata": {
        "id": "ynB8EnQ3xoyw",
        "outputId": "4bdf2b0e-5b21-4b60-f478-7dec156b0304",
        "colab": {
          "base_uri": "https://localhost:8080/"
        }
      },
      "outputs": [
        {
          "output_type": "stream",
          "name": "stdout",
          "text": [
            "Class weights: {'neutral': 0.03733342652129345, 'surprise': 0.12122243655206325, 'fear': 0.4965912612333437, 'sadness': 0.23674102526222485, 'joy': 0.08905993831105677, 'disgust': 0.5610994397759104, 'anger': 0.1510581137766885}\n"
          ]
        }
      ],
      "source": [
        "# Calcola i pesi delle classi\n",
        "total_samples = len(df_train)\n",
        "class_weights = {emotion: total_samples / (len(emotions_counts) * count) for emotion, count in emotions_counts.items()}\n",
        "\n",
        "print(\"Class weights:\", class_weights)"
      ]
    },
    {
      "cell_type": "markdown",
      "metadata": {
        "id": "YHWuflWAxoy_"
      },
      "source": [
        "Class weights computing using sklearn class_weight='balanced'"
      ]
    },
    {
      "cell_type": "code",
      "execution_count": 274,
      "metadata": {
        "id": "a-zifX7Uxoy_",
        "outputId": "ef1db448-3cc3-4a42-e330-019de244a059",
        "colab": {
          "base_uri": "https://localhost:8080/"
        }
      },
      "outputs": [
        {
          "output_type": "stream",
          "name": "stdout",
          "text": [
            "Emotion class weights: {'anger': 1.3142762878823584, 'disgust': 4.881827731092437, 'fear': 4.320576386736907, 'joy': 0.7748631450245922, 'neutral': 0.3248182834777747, 'sadness': 2.059757719013148, 'surprise': 1.0546919323726314}\n"
          ]
        }
      ],
      "source": [
        "all_emotions = [label for sublist in df_train['emotions'] for label in sublist]\n",
        "train_emotions = np.array(all_emotions)\n",
        "unique_emotions = np.unique(all_emotions)\n",
        "\n",
        "#weights\n",
        "emotion_weights = class_weight.compute_class_weight(class_weight='balanced', classes=unique_emotions, y=train_emotions)\n",
        "\n",
        "#save in dictionary\n",
        "emotions_weights_dict = dict(zip(unique_emotions, emotion_weights))\n",
        "\n",
        "print(\"Emotion class weights:\", emotions_weights_dict)"
      ]
    },
    {
      "cell_type": "code",
      "execution_count": 275,
      "metadata": {
        "id": "occbZU0SxozA",
        "outputId": "d36919de-971a-4108-8aef-f6dfbccac0dc",
        "colab": {
          "base_uri": "https://localhost:8080/"
        }
      },
      "outputs": [
        {
          "output_type": "stream",
          "name": "stdout",
          "text": [
            "Trigger class weights: {0.0: 0.5911345713558891, 1.0: 3.243196092114445}\n"
          ]
        }
      ],
      "source": [
        "# Calcolo dei pesi per la colonna 'triggers'\n",
        "all_triggers = [label for sublist in df_train['triggers'] for label in sublist]\n",
        "train_triggers = np.array(all_triggers)\n",
        "unique_triggers = np.unique(all_triggers)\n",
        "\n",
        "trigger_weights = class_weight.compute_class_weight(class_weight='balanced', classes=unique_triggers, y=train_triggers)\n",
        "triggers_weights_dict = dict(zip(unique_triggers, trigger_weights))\n",
        "\n",
        "print(\"Trigger class weights:\", triggers_weights_dict)"
      ]
    },
    {
      "cell_type": "markdown",
      "metadata": {
        "id": "ubfdLq7IxozA"
      },
      "source": [
        "## Models definition"
      ]
    },
    {
      "cell_type": "markdown",
      "metadata": {
        "id": "Rw-pLMQ3xozB"
      },
      "source": [
        "You should train and evaluate a BERT baseline on two different settings:\n",
        "     \n",
        "     - Freezed: we freeze the BERT embedding layer weights and fine-tune the classifier heads on top\n",
        "     - Full: we fine-tune the whole model architecture.\n",
        "     \n",
        "Make sure you set a small enough batch size.  We recommend 1.\n",
        "\n",
        "We recommend `bert-base-uncased`.\n",
        "\n",
        "In addition, you should evaluate a random and a majority classifier for emotions and triggers.\n",
        "You should report a comparison with your selected model(s) and the provided baselines"
      ]
    },
    {
      "cell_type": "markdown",
      "metadata": {
        "id": "2o6fSx7BxozB"
      },
      "source": [
        "#### Baseline models\n",
        "Defining random and majority dummy classifiers"
      ]
    },
    {
      "cell_type": "code",
      "execution_count": 276,
      "metadata": {
        "id": "CG9VbkhIxozC"
      },
      "outputs": [],
      "source": [
        "random_emotions = DummyClassifier(strategy='uniform', random_state=42)\n",
        "majority_emotions = DummyClassifier(strategy='most_frequent', random_state=42)\n",
        "\n",
        "random_triggers = DummyClassifier(strategy='uniform', random_state=42)\n",
        "majority_triggers = DummyClassifier(strategy='most_frequent', random_state=42)"
      ]
    },
    {
      "cell_type": "markdown",
      "metadata": {
        "id": "_NXChjlzxozC"
      },
      "source": [
        "## Evaluation Metrics"
      ]
    },
    {
      "cell_type": "markdown",
      "metadata": {
        "id": "nnTrzHofxozC"
      },
      "source": [
        "## Training and evaluation"
      ]
    },
    {
      "cell_type": "markdown",
      "metadata": {
        "id": "OMvEGukJxozD"
      },
      "source": [
        "### Fitting baseline models"
      ]
    },
    {
      "cell_type": "markdown",
      "metadata": {
        "id": "wieoD2vaxozD"
      },
      "source": [
        "Comincio a pensare che non è questo il modo di passare i dati al modello, ma forse sarebbe più utile splittare le utterances in un\n",
        "singola frase e avere una struttura: (speaker) frase emotion trigger\n",
        "speaker direi che è opzionale\n",
        "\n",
        "Magari facciamo entrambe e vediamo qual è la performance migliore?\n",
        "\n",
        "Va ancora fatto l'encoding del dataset"
      ]
    },
    {
      "cell_type": "code",
      "source": [
        "import json\n",
        "\n",
        "name_columns = [\"Dialogue_Id\", \"Speaker\", \"Emotion_type\", \"Utterance\", \"Value(0/1)\"]\n",
        "\n",
        "filtered_list = [df_train, df_val, df_test]\n",
        "file_name = [\"MELD_train\", \"MELD_val\", \"MELD_test\"]\n",
        "\n",
        "for index, name in enumerate(filtered_list):\n",
        "\n",
        "  dataset = name.to_dict(orient='records')\n",
        "  file_initials = str(filtered_list[0])\n",
        "\n",
        "  episodes_list = [entry['episode'] for entry in dataset]\n",
        "  speakers_list = [entry['speakers'] for entry in dataset]\n",
        "  utterances_list = [entry['utterances'] for entry in dataset]\n",
        "  emotions_list = [entry['emotions'] for entry in dataset]\n",
        "  triggers_list = [entry['triggers'] for entry in dataset]\n",
        "\n",
        "  data = [[], [], [], [], []]\n",
        "\n",
        "#Succede spesso che ci siano episodi che hanno in comune diverse frasi\n",
        "#e che inziano sempre allo stesso modo.\n",
        "\n",
        "# Questa qua sotto è la parte in cui si modifica l'id del dialogo facendo in modo\n",
        "# che se si incontrano utterances presenti anche in episodi precedenti, queste\n",
        "# avranno lo stesso id perchè si riferiscono allo stesso discorso.\n",
        "\n",
        "\n",
        "\n",
        "  N = len(dataset)\n",
        "\n",
        "  first_sentence = None\n",
        "  id_dialog = -1\n",
        "\n",
        "  for i in range(N):\n",
        "    if first_sentence != utterances_list[i][0]:\n",
        "        id_dialog  += 1\n",
        "        first_sentence = utterances_list[i][0]\n",
        "\n",
        "    for j in range(len(utterances_list[i])):\n",
        "        data[0].append(id_dialog)\n",
        "        data[1].append(speakers_list[i][j])\n",
        "        data[2].append(emotions_list[i][j])\n",
        "        data[3].append(utterances_list[i][j])\n",
        "        data[4].append(triggers_list[i][j])\n",
        "\n",
        "    for k in range(5):\n",
        "        data[k].append(\"/\")\n",
        "\n",
        "  df = pd.DataFrame(data)\n",
        "  df = df.transpose()\n",
        "  df.columns = name_columns\n",
        "  df.to_csv(file_name[index] + \".csv\", index=False)"
      ],
      "metadata": {
        "id": "lvYk_Jge73ye"
      },
      "execution_count": 277,
      "outputs": []
    },
    {
      "cell_type": "code",
      "source": [
        "df_train = pd.read_csv(\"MELD_train.csv\")\n",
        "df_val = pd.read_csv(\"MELD_val.csv\")\n",
        "df_test = pd.read_csv(\"MELD_test.csv\")"
      ],
      "metadata": {
        "id": "F1eCXM77-cKW"
      },
      "execution_count": 278,
      "outputs": []
    },
    {
      "cell_type": "markdown",
      "source": [
        "L'ottava emozione, così come il terzo trigger sarà a \"/\" ?"
      ],
      "metadata": {
        "id": "vl21JJITDWow"
      }
    },
    {
      "cell_type": "code",
      "source": [
        "from sklearn.preprocessing import LabelEncoder\n",
        "\n",
        "le = LabelEncoder()\n",
        "df_train['Emotion_type'] = le.fit_transform(df_train['Emotion_type'])\n",
        "df_val['Emotion_type'] = le.transform(df_val['Emotion_type'])\n",
        "df_test['Emotion_type'] = le.transform(df_test['Emotion_type'])\n",
        "\n",
        "#print(set(df_train['Emotion_type'].tolist()))\n",
        "label_mapping = {label: index for index, label in enumerate(le.classes_)}\n",
        "inverse_label_mapping = {index: label for label, index in label_mapping.items()}\n",
        "\n",
        "#idx2label = {1:\"anger\", 5: \"neutral\", 7: \"surprise\"}\n",
        "#print(\"Mappatura delle etichette:\")\n",
        "#print(label_mapping)\n",
        "\n",
        "#print(df_val.iloc[10])"
      ],
      "metadata": {
        "id": "p_rWJpyFC0PW"
      },
      "execution_count": 279,
      "outputs": []
    },
    {
      "cell_type": "code",
      "execution_count": 280,
      "metadata": {
        "id": "qTzpkVbkxozE",
        "colab": {
          "base_uri": "https://localhost:8080/"
        },
        "outputId": "0db7fd8f-ec18-4f6d-b1cd-fcc167aa69e5"
      },
      "outputs": [
        {
          "output_type": "stream",
          "name": "stdout",
          "text": [
            "(31090, 3)\n"
          ]
        }
      ],
      "source": [
        "X_train = df_train.drop(columns=['Emotion_type', 'Value(0/1)'])\n",
        "print(X_train.shape)\n",
        "\n",
        "y_train_emotions = df_train['Emotion_type'].tolist()\n",
        "y_train_triggers = df_train['Value(0/1)'].tolist()"
      ]
    },
    {
      "cell_type": "code",
      "execution_count": 281,
      "metadata": {
        "id": "tege5MI9xozE",
        "colab": {
          "base_uri": "https://localhost:8080/"
        },
        "outputId": "dff39aeb-0acc-44ef-f27a-ac5cd167380e"
      },
      "outputs": [
        {
          "output_type": "stream",
          "name": "stdout",
          "text": [
            "(3931, 3)\n"
          ]
        }
      ],
      "source": [
        "X_test = df_test.drop(columns=['Emotion_type', 'Value(0/1)'])\n",
        "print(X_test.shape)\n",
        "\n",
        "y_test_emotions = df_test['Emotion_type']\n",
        "y_test_triggers = df_test['Value(0/1)']"
      ]
    },
    {
      "cell_type": "code",
      "execution_count": 282,
      "metadata": {
        "id": "DLboKK8exozF",
        "colab": {
          "base_uri": "https://localhost:8080/",
          "height": 75
        },
        "outputId": "e0c5764d-037d-40cb-e7d8-708dae203aa7"
      },
      "outputs": [
        {
          "output_type": "execute_result",
          "data": {
            "text/plain": [
              "DummyClassifier(random_state=42, strategy='most_frequent')"
            ],
            "text/html": [
              "<style>#sk-container-id-6 {color: black;}#sk-container-id-6 pre{padding: 0;}#sk-container-id-6 div.sk-toggleable {background-color: white;}#sk-container-id-6 label.sk-toggleable__label {cursor: pointer;display: block;width: 100%;margin-bottom: 0;padding: 0.3em;box-sizing: border-box;text-align: center;}#sk-container-id-6 label.sk-toggleable__label-arrow:before {content: \"▸\";float: left;margin-right: 0.25em;color: #696969;}#sk-container-id-6 label.sk-toggleable__label-arrow:hover:before {color: black;}#sk-container-id-6 div.sk-estimator:hover label.sk-toggleable__label-arrow:before {color: black;}#sk-container-id-6 div.sk-toggleable__content {max-height: 0;max-width: 0;overflow: hidden;text-align: left;background-color: #f0f8ff;}#sk-container-id-6 div.sk-toggleable__content pre {margin: 0.2em;color: black;border-radius: 0.25em;background-color: #f0f8ff;}#sk-container-id-6 input.sk-toggleable__control:checked~div.sk-toggleable__content {max-height: 200px;max-width: 100%;overflow: auto;}#sk-container-id-6 input.sk-toggleable__control:checked~label.sk-toggleable__label-arrow:before {content: \"▾\";}#sk-container-id-6 div.sk-estimator input.sk-toggleable__control:checked~label.sk-toggleable__label {background-color: #d4ebff;}#sk-container-id-6 div.sk-label input.sk-toggleable__control:checked~label.sk-toggleable__label {background-color: #d4ebff;}#sk-container-id-6 input.sk-hidden--visually {border: 0;clip: rect(1px 1px 1px 1px);clip: rect(1px, 1px, 1px, 1px);height: 1px;margin: -1px;overflow: hidden;padding: 0;position: absolute;width: 1px;}#sk-container-id-6 div.sk-estimator {font-family: monospace;background-color: #f0f8ff;border: 1px dotted black;border-radius: 0.25em;box-sizing: border-box;margin-bottom: 0.5em;}#sk-container-id-6 div.sk-estimator:hover {background-color: #d4ebff;}#sk-container-id-6 div.sk-parallel-item::after {content: \"\";width: 100%;border-bottom: 1px solid gray;flex-grow: 1;}#sk-container-id-6 div.sk-label:hover label.sk-toggleable__label {background-color: #d4ebff;}#sk-container-id-6 div.sk-serial::before {content: \"\";position: absolute;border-left: 1px solid gray;box-sizing: border-box;top: 0;bottom: 0;left: 50%;z-index: 0;}#sk-container-id-6 div.sk-serial {display: flex;flex-direction: column;align-items: center;background-color: white;padding-right: 0.2em;padding-left: 0.2em;position: relative;}#sk-container-id-6 div.sk-item {position: relative;z-index: 1;}#sk-container-id-6 div.sk-parallel {display: flex;align-items: stretch;justify-content: center;background-color: white;position: relative;}#sk-container-id-6 div.sk-item::before, #sk-container-id-6 div.sk-parallel-item::before {content: \"\";position: absolute;border-left: 1px solid gray;box-sizing: border-box;top: 0;bottom: 0;left: 50%;z-index: -1;}#sk-container-id-6 div.sk-parallel-item {display: flex;flex-direction: column;z-index: 1;position: relative;background-color: white;}#sk-container-id-6 div.sk-parallel-item:first-child::after {align-self: flex-end;width: 50%;}#sk-container-id-6 div.sk-parallel-item:last-child::after {align-self: flex-start;width: 50%;}#sk-container-id-6 div.sk-parallel-item:only-child::after {width: 0;}#sk-container-id-6 div.sk-dashed-wrapped {border: 1px dashed gray;margin: 0 0.4em 0.5em 0.4em;box-sizing: border-box;padding-bottom: 0.4em;background-color: white;}#sk-container-id-6 div.sk-label label {font-family: monospace;font-weight: bold;display: inline-block;line-height: 1.2em;}#sk-container-id-6 div.sk-label-container {text-align: center;}#sk-container-id-6 div.sk-container {/* jupyter's `normalize.less` sets `[hidden] { display: none; }` but bootstrap.min.css set `[hidden] { display: none !important; }` so we also need the `!important` here to be able to override the default hidden behavior on the sphinx rendered scikit-learn.org. See: https://github.com/scikit-learn/scikit-learn/issues/21755 */display: inline-block !important;position: relative;}#sk-container-id-6 div.sk-text-repr-fallback {display: none;}</style><div id=\"sk-container-id-6\" class=\"sk-top-container\"><div class=\"sk-text-repr-fallback\"><pre>DummyClassifier(random_state=42, strategy=&#x27;most_frequent&#x27;)</pre><b>In a Jupyter environment, please rerun this cell to show the HTML representation or trust the notebook. <br />On GitHub, the HTML representation is unable to render, please try loading this page with nbviewer.org.</b></div><div class=\"sk-container\" hidden><div class=\"sk-item\"><div class=\"sk-estimator sk-toggleable\"><input class=\"sk-toggleable__control sk-hidden--visually\" id=\"sk-estimator-id-6\" type=\"checkbox\" checked><label for=\"sk-estimator-id-6\" class=\"sk-toggleable__label sk-toggleable__label-arrow\">DummyClassifier</label><div class=\"sk-toggleable__content\"><pre>DummyClassifier(random_state=42, strategy=&#x27;most_frequent&#x27;)</pre></div></div></div></div></div>"
            ]
          },
          "metadata": {},
          "execution_count": 282
        }
      ],
      "source": [
        "random_emotions.fit(X_train, y_train_emotions)\n",
        "majority_emotions.fit(X_train, y_train_emotions)\n",
        "\n",
        "random_triggers.fit(X_train, y_train_triggers)\n",
        "majority_triggers.fit(X_train, y_train_triggers)"
      ]
    },
    {
      "cell_type": "markdown",
      "metadata": {
        "id": "WmLjgAQwxozF"
      },
      "source": [
        "### Evaluating baseline models"
      ]
    },
    {
      "cell_type": "markdown",
      "source": [
        "Ho notato che c'è una differenza in quantità tra i valori che sono stati predetti e i valori che ci sono nel set di test"
      ],
      "metadata": {
        "id": "51YkHyyN6cSM"
      }
    },
    {
      "cell_type": "code",
      "execution_count": 283,
      "metadata": {
        "id": "bIsnW51axozG",
        "colab": {
          "base_uri": "https://localhost:8080/"
        },
        "outputId": "24b44f8a-b5ad-4267-d545-ff4cc2c8fa80"
      },
      "outputs": [
        {
          "output_type": "stream",
          "name": "stdout",
          "text": [
            "\n",
            "prediction: 1\n",
            "real: 4\n",
            "\n",
            "prediction: /\n",
            "real: 1.0\n"
          ]
        }
      ],
      "source": [
        "y_pred_random_emotions = random_emotions.predict(X_test)\n",
        "print(f\"\\nprediction: {y_pred_random_emotions[3929]}\\nreal: {y_test_emotions[3929]}\")\n",
        "y_pred_majority_emotions = majority_emotions.predict(X_test)\n",
        "\n",
        "y_pred_random_triggers = random_triggers.predict(X_test)\n",
        "y_pred_majority_triggers = majority_triggers.predict(X_test)\n",
        "\n",
        "\n",
        "print(f\"\\nprediction: {y_pred_random_triggers[3929]}\\nreal: {y_test_triggers[3929]}\")"
      ]
    },
    {
      "cell_type": "code",
      "source": [
        "import seaborn as sns\n",
        "\n",
        "def plot_baseline(cm):\n",
        "    plt.figure(figsize=(15,20))\n",
        "    for i, category_cm in enumerate(cm):\n",
        "        plt.subplot(1, 2, i+1)\n",
        "        sns.heatmap(category_cm, annot=True, fmt='.1%', cmap='Blues')\n",
        "        plt.title(f'Confusion Matrix')\n",
        "        plt.ylabel('True Label')\n",
        "        plt.xlabel('Predicted Label')\n",
        "    plt.show()"
      ],
      "metadata": {
        "id": "-H7cnfR1HFyU"
      },
      "execution_count": 284,
      "outputs": []
    },
    {
      "cell_type": "markdown",
      "source": [
        "Classification report e Confusion Matrix per le baseline che predicono le emozioni"
      ],
      "metadata": {
        "id": "gNGWrFQpeZP2"
      }
    },
    {
      "cell_type": "code",
      "source": [
        "from sklearn.metrics import confusion_matrix, multilabel_confusion_matrix, classification_report\n",
        "\n",
        "cr_random_em = classification_report(y_pred_random_emotions, y_test_emotions, output_dict=True, zero_division=0)\n",
        "cr_majority_em = classification_report(y_pred_random_emotions, y_test_emotions, output_dict=True, zero_division=0)\n",
        "\n",
        "print(\"Classification report for random emotions:\")\n",
        "print(cr_random_em)\n",
        "\n",
        "print(\"Classification report for majority emotions:\")\n",
        "print(cr_majority_em)\n",
        "\n",
        "cm_random_em = confusion_matrix(y_test_emotions, y_pred_random_emotions , normalize='true')\n",
        "cm_majority_em = confusion_matrix(y_test_emotions, y_pred_majority_emotions , normalize='true')\n",
        "\n",
        "plot_baseline([cm_random_em, cm_majority_em])\n",
        "\n"
      ],
      "metadata": {
        "colab": {
          "base_uri": "https://localhost:8080/",
          "height": 1000
        },
        "id": "LIZoDfVJbSBb",
        "outputId": "d2111c0c-3fa9-431b-bf61-3c9e45108e44"
      },
      "execution_count": 285,
      "outputs": [
        {
          "output_type": "stream",
          "name": "stdout",
          "text": [
            "Classification report for random emotions:\n",
            "{'0': {'precision': 0.11055276381909548, 'recall': 0.0873015873015873, 'f1-score': 0.0975609756097561, 'support': 504.0}, '1': {'precision': 0.12307692307692308, 'recall': 0.11290322580645161, 'f1-score': 0.1177707676130389, 'support': 496.0}, '2': {'precision': 0.125, 'recall': 0.02386117136659436, 'f1-score': 0.04007285974499089, 'support': 461.0}, '3': {'precision': 0.10743801652892562, 'recall': 0.025691699604743084, 'f1-score': 0.04146730462519937, 'support': 506.0}, '4': {'precision': 0.11458333333333333, 'recall': 0.12915851272015655, 'f1-score': 0.12143514259429623, 'support': 511.0}, '5': {'precision': 0.13554817275747508, 'recall': 0.4146341463414634, 'f1-score': 0.20430645968953431, 'support': 492.0}, '6': {'precision': 0.1174785100286533, 'recall': 0.08453608247422681, 'f1-score': 0.09832134292565947, 'support': 485.0}, '7': {'precision': 0.11617312072892938, 'recall': 0.10714285714285714, 'f1-score': 0.11147540983606556, 'support': 476.0}, 'accuracy': 0.12363266344441617, 'macro avg': {'precision': 0.1187313550341669, 'recall': 0.12315366034476002, 'f1-score': 0.1040512828298176, 'support': 3931.0}, 'weighted avg': {'precision': 0.11861374976736012, 'recall': 0.12363266344441617, 'f1-score': 0.10439108607479633, 'support': 3931.0}}\n",
            "Classification report for majority emotions:\n",
            "{'0': {'precision': 0.11055276381909548, 'recall': 0.0873015873015873, 'f1-score': 0.0975609756097561, 'support': 504.0}, '1': {'precision': 0.12307692307692308, 'recall': 0.11290322580645161, 'f1-score': 0.1177707676130389, 'support': 496.0}, '2': {'precision': 0.125, 'recall': 0.02386117136659436, 'f1-score': 0.04007285974499089, 'support': 461.0}, '3': {'precision': 0.10743801652892562, 'recall': 0.025691699604743084, 'f1-score': 0.04146730462519937, 'support': 506.0}, '4': {'precision': 0.11458333333333333, 'recall': 0.12915851272015655, 'f1-score': 0.12143514259429623, 'support': 511.0}, '5': {'precision': 0.13554817275747508, 'recall': 0.4146341463414634, 'f1-score': 0.20430645968953431, 'support': 492.0}, '6': {'precision': 0.1174785100286533, 'recall': 0.08453608247422681, 'f1-score': 0.09832134292565947, 'support': 485.0}, '7': {'precision': 0.11617312072892938, 'recall': 0.10714285714285714, 'f1-score': 0.11147540983606556, 'support': 476.0}, 'accuracy': 0.12363266344441617, 'macro avg': {'precision': 0.1187313550341669, 'recall': 0.12315366034476002, 'f1-score': 0.1040512828298176, 'support': 3931.0}, 'weighted avg': {'precision': 0.11861374976736012, 'recall': 0.12363266344441617, 'f1-score': 0.10439108607479633, 'support': 3931.0}}\n"
          ]
        },
        {
          "output_type": "display_data",
          "data": {
            "text/plain": [
              "<Figure size 1500x2000 with 4 Axes>"
            ],
            "image/png": "[encoded data removed]"
          },
          "metadata": {}
        }
      ]
    },
    {
      "cell_type": "markdown",
      "source": [
        "Classification Report e Confusion Matrix per le predizioni riguardanti i trigger"
      ],
      "metadata": {
        "id": "r6P185fweybX"
      }
    },
    {
      "cell_type": "code",
      "source": [
        "cr_random_tr = classification_report(y_pred_random_triggers, y_test_triggers, output_dict=True, zero_division=0)\n",
        "cr_majority_tr = classification_report(y_pred_random_triggers, y_test_triggers, output_dict=True, zero_division=0)\n",
        "\n",
        "cm_random_tr = confusion_matrix(y_test_triggers, y_pred_random_triggers , normalize='true')\n",
        "cm_majority_tr = confusion_matrix(y_test_triggers, y_pred_majority_triggers , normalize='true')\n",
        "\n",
        "plot_baseline([cm_random_tr, cm_majority_tr])\n"
      ],
      "metadata": {
        "colab": {
          "base_uri": "https://localhost:8080/",
          "height": 1000
        },
        "id": "5dWmncrtex2-",
        "outputId": "7dd40f9f-7605-436a-fe80-c2b4fe3cf858"
      },
      "execution_count": 286,
      "outputs": [
        {
          "output_type": "display_data",
          "data": {
            "text/plain": [
              "<Figure size 1500x2000 with 4 Axes>"
            ],
            "image/png": "[encoded data removed]"
          },
          "metadata": {}
        }
      ]
    }
  ],
  "metadata": {
    "kernelspec": {
      "display_name": "base",
      "language": "python",
      "name": "python3"
    },
    "language_info": {
      "codemirror_mode": {
        "name": "ipython",
        "version": 3
      },
      "file_extension": ".py",
      "mimetype": "text/x-python",
      "name": "python",
      "nbconvert_exporter": "python",
      "pygments_lexer": "ipython3",
      "version": "3.11.5"
    },
    "colab": {
      "provenance": []
    }
  },
  "nbformat": 4,
  "nbformat_minor": 0
}